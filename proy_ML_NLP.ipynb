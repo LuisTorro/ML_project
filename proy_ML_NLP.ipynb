{
 "cells": [
  {
   "cell_type": "code",
   "execution_count": 9,
   "metadata": {},
   "outputs": [],
   "source": [
    "import pandas as pd\n",
    "import numpy as np\n",
    "import matplotlib.pyplot as plt\n",
    "import seaborn as sns\n",
    "import cv2 as cv\n",
    "import os\n",
    "import shutil\n",
    "import tensorflow as tf\n",
    "from tensorflow.keras import Sequential\n",
    "from tensorflow.keras.layers import Input, Dense, Dropout, Flatten, MaxPool2D\n",
    "from tensorflow.keras.callbacks import ModelCheckpoint\n",
    "from tensorflow.keras.layers import Conv2D\n",
    "from tensorflow.keras.preprocessing.image import ImageDataGenerator\n",
    "from keras.applications.xception import preprocess_input\n",
    "import pickle\n",
    "import splitfolders\n",
    "%matplotlib inline"
   ]
  },
  {
   "cell_type": "code",
   "execution_count": 10,
   "metadata": {},
   "outputs": [],
   "source": [
    "df_train = pd.read_csv('book30-listing-train.csv',encoding = \"ISO-8859-1\")\n",
    "df_test = pd.read_csv('book30-listing-test.csv',encoding = \"ISO-8859-1\")"
   ]
  },
  {
   "cell_type": "code",
   "execution_count": 11,
   "metadata": {},
   "outputs": [
    {
     "data": {
      "text/html": [
       "<div>\n",
       "<style scoped>\n",
       "    .dataframe tbody tr th:only-of-type {\n",
       "        vertical-align: middle;\n",
       "    }\n",
       "\n",
       "    .dataframe tbody tr th {\n",
       "        vertical-align: top;\n",
       "    }\n",
       "\n",
       "    .dataframe thead th {\n",
       "        text-align: right;\n",
       "    }\n",
       "</style>\n",
       "<table border=\"1\" class=\"dataframe\">\n",
       "  <thead>\n",
       "    <tr style=\"text-align: right;\">\n",
       "      <th></th>\n",
       "      <th>044310073X</th>\n",
       "      <th>044310073X.jpg</th>\n",
       "      <th>http://ecx.images-amazon.com/images/I/41kSLEoswsL.jpg</th>\n",
       "      <th>Oral and Maxillofacial Surgery: An Objective-Based Textbook, 2e</th>\n",
       "      <th>Unnamed: 4</th>\n",
       "      <th>16</th>\n",
       "      <th>Medical Books</th>\n",
       "    </tr>\n",
       "  </thead>\n",
       "  <tbody>\n",
       "    <tr>\n",
       "      <th>0</th>\n",
       "      <td>1438005687</td>\n",
       "      <td>1438005687.jpg</td>\n",
       "      <td>http://ecx.images-amazon.com/images/I/510l0qhi...</td>\n",
       "      <td>Barron's GRE, 21st Edition</td>\n",
       "      <td>Sharon Weiner Green M.A.</td>\n",
       "      <td>28</td>\n",
       "      <td>Test Preparation</td>\n",
       "    </tr>\n",
       "    <tr>\n",
       "      <th>1</th>\n",
       "      <td>60750715</td>\n",
       "      <td>0060750715.jpg</td>\n",
       "      <td>http://ecx.images-amazon.com/images/I/51p5aUY%...</td>\n",
       "      <td>George Balanchine: The Ballet Maker (Eminent L...</td>\n",
       "      <td>Robert Gottlieb</td>\n",
       "      <td>1</td>\n",
       "      <td>Biographies &amp; Memoirs</td>\n",
       "    </tr>\n",
       "    <tr>\n",
       "      <th>2</th>\n",
       "      <td>1580237959</td>\n",
       "      <td>1580237959.jpg</td>\n",
       "      <td>http://ecx.images-amazon.com/images/I/51pum0eW...</td>\n",
       "      <td>A Partner in Holiness: Deepening Mindfulness, ...</td>\n",
       "      <td>Rabbi Jonathan P. Slater DMin</td>\n",
       "      <td>21</td>\n",
       "      <td>Religion &amp; Spirituality</td>\n",
       "    </tr>\n",
       "    <tr>\n",
       "      <th>3</th>\n",
       "      <td>135137829</td>\n",
       "      <td>0135137829.jpg</td>\n",
       "      <td>http://ecx.images-amazon.com/images/I/51PuTPPC...</td>\n",
       "      <td>Construction Scheduling: Principles and Practi...</td>\n",
       "      <td>Jay S. Newitt</td>\n",
       "      <td>0</td>\n",
       "      <td>Arts &amp; Photography</td>\n",
       "    </tr>\n",
       "    <tr>\n",
       "      <th>4</th>\n",
       "      <td>312556411</td>\n",
       "      <td>0312556411.jpg</td>\n",
       "      <td>http://ecx.images-amazon.com/images/I/51uNnIlI...</td>\n",
       "      <td>Literature and Its Writers: A Compact Introduc...</td>\n",
       "      <td>Ann Charters</td>\n",
       "      <td>15</td>\n",
       "      <td>Literature &amp; Fiction</td>\n",
       "    </tr>\n",
       "  </tbody>\n",
       "</table>\n",
       "</div>"
      ],
      "text/plain": [
       "   044310073X  044310073X.jpg  \\\n",
       "0  1438005687  1438005687.jpg   \n",
       "1    60750715  0060750715.jpg   \n",
       "2  1580237959  1580237959.jpg   \n",
       "3   135137829  0135137829.jpg   \n",
       "4   312556411  0312556411.jpg   \n",
       "\n",
       "  http://ecx.images-amazon.com/images/I/41kSLEoswsL.jpg  \\\n",
       "0  http://ecx.images-amazon.com/images/I/510l0qhi...      \n",
       "1  http://ecx.images-amazon.com/images/I/51p5aUY%...      \n",
       "2  http://ecx.images-amazon.com/images/I/51pum0eW...      \n",
       "3  http://ecx.images-amazon.com/images/I/51PuTPPC...      \n",
       "4  http://ecx.images-amazon.com/images/I/51uNnIlI...      \n",
       "\n",
       "  Oral and Maxillofacial Surgery: An Objective-Based Textbook, 2e  \\\n",
       "0                         Barron's GRE, 21st Edition                \n",
       "1  George Balanchine: The Ballet Maker (Eminent L...                \n",
       "2  A Partner in Holiness: Deepening Mindfulness, ...                \n",
       "3  Construction Scheduling: Principles and Practi...                \n",
       "4  Literature and Its Writers: A Compact Introduc...                \n",
       "\n",
       "                      Unnamed: 4  16            Medical Books  \n",
       "0       Sharon Weiner Green M.A.  28         Test Preparation  \n",
       "1                Robert Gottlieb   1    Biographies & Memoirs  \n",
       "2  Rabbi Jonathan P. Slater DMin  21  Religion & Spirituality  \n",
       "3                  Jay S. Newitt   0       Arts & Photography  \n",
       "4                   Ann Charters  15     Literature & Fiction  "
      ]
     },
     "execution_count": 11,
     "metadata": {},
     "output_type": "execute_result"
    }
   ],
   "source": [
    "df_test.head(5)"
   ]
  },
  {
   "cell_type": "code",
   "execution_count": 12,
   "metadata": {},
   "outputs": [],
   "source": [
    "columns = ['id', 'image', 'link', 'name', 'author', 'class', 'genre']\n",
    "df_train.columns = columns\n",
    "df_test.columns = columns"
   ]
  },
  {
   "cell_type": "code",
   "execution_count": 13,
   "metadata": {},
   "outputs": [
    {
     "data": {
      "text/html": [
       "<div>\n",
       "<style scoped>\n",
       "    .dataframe tbody tr th:only-of-type {\n",
       "        vertical-align: middle;\n",
       "    }\n",
       "\n",
       "    .dataframe tbody tr th {\n",
       "        vertical-align: top;\n",
       "    }\n",
       "\n",
       "    .dataframe thead th {\n",
       "        text-align: right;\n",
       "    }\n",
       "</style>\n",
       "<table border=\"1\" class=\"dataframe\">\n",
       "  <thead>\n",
       "    <tr style=\"text-align: right;\">\n",
       "      <th></th>\n",
       "      <th>id</th>\n",
       "      <th>image</th>\n",
       "      <th>link</th>\n",
       "      <th>name</th>\n",
       "      <th>author</th>\n",
       "      <th>class</th>\n",
       "      <th>genre</th>\n",
       "    </tr>\n",
       "  </thead>\n",
       "  <tbody>\n",
       "    <tr>\n",
       "      <th>0</th>\n",
       "      <td>1404803335</td>\n",
       "      <td>1404803335.jpg</td>\n",
       "      <td>http://ecx.images-amazon.com/images/I/51UJnL3T...</td>\n",
       "      <td>Magnets: Pulling Together, Pushing Apart (Amaz...</td>\n",
       "      <td>Natalie M. Rosinsky</td>\n",
       "      <td>4</td>\n",
       "      <td>Children's Books</td>\n",
       "    </tr>\n",
       "    <tr>\n",
       "      <th>1</th>\n",
       "      <td>1446276082</td>\n",
       "      <td>1446276082.jpg</td>\n",
       "      <td>http://ecx.images-amazon.com/images/I/51MGUKhk...</td>\n",
       "      <td>Energy Security (SAGE Library of International...</td>\n",
       "      <td>NaN</td>\n",
       "      <td>10</td>\n",
       "      <td>Engineering &amp; Transportation</td>\n",
       "    </tr>\n",
       "    <tr>\n",
       "      <th>2</th>\n",
       "      <td>1491522666</td>\n",
       "      <td>1491522666.jpg</td>\n",
       "      <td>http://ecx.images-amazon.com/images/I/51qKvjsi...</td>\n",
       "      <td>An Amish Gathering: Life in Lancaster County</td>\n",
       "      <td>Beth Wiseman</td>\n",
       "      <td>9</td>\n",
       "      <td>Christian Books &amp; Bibles</td>\n",
       "    </tr>\n",
       "    <tr>\n",
       "      <th>3</th>\n",
       "      <td>970096410</td>\n",
       "      <td>0970096410.jpg</td>\n",
       "      <td>http://ecx.images-amazon.com/images/I/51qoUENb...</td>\n",
       "      <td>City of Rocks Idaho: A Climber's Guide (Region...</td>\n",
       "      <td>Dave Bingham</td>\n",
       "      <td>26</td>\n",
       "      <td>Sports &amp; Outdoors</td>\n",
       "    </tr>\n",
       "    <tr>\n",
       "      <th>4</th>\n",
       "      <td>8436808053</td>\n",
       "      <td>8436808053.jpg</td>\n",
       "      <td>http://ecx.images-amazon.com/images/I/41aDW5pz...</td>\n",
       "      <td>Como vencer el insomnio. Tecnicas, reglas y co...</td>\n",
       "      <td>Choliz Montanes</td>\n",
       "      <td>11</td>\n",
       "      <td>Health, Fitness &amp; Dieting</td>\n",
       "    </tr>\n",
       "  </tbody>\n",
       "</table>\n",
       "</div>"
      ],
      "text/plain": [
       "           id           image  \\\n",
       "0  1404803335  1404803335.jpg   \n",
       "1  1446276082  1446276082.jpg   \n",
       "2  1491522666  1491522666.jpg   \n",
       "3   970096410  0970096410.jpg   \n",
       "4  8436808053  8436808053.jpg   \n",
       "\n",
       "                                                link  \\\n",
       "0  http://ecx.images-amazon.com/images/I/51UJnL3T...   \n",
       "1  http://ecx.images-amazon.com/images/I/51MGUKhk...   \n",
       "2  http://ecx.images-amazon.com/images/I/51qKvjsi...   \n",
       "3  http://ecx.images-amazon.com/images/I/51qoUENb...   \n",
       "4  http://ecx.images-amazon.com/images/I/41aDW5pz...   \n",
       "\n",
       "                                                name               author  \\\n",
       "0  Magnets: Pulling Together, Pushing Apart (Amaz...  Natalie M. Rosinsky   \n",
       "1  Energy Security (SAGE Library of International...                  NaN   \n",
       "2       An Amish Gathering: Life in Lancaster County         Beth Wiseman   \n",
       "3  City of Rocks Idaho: A Climber's Guide (Region...         Dave Bingham   \n",
       "4  Como vencer el insomnio. Tecnicas, reglas y co...      Choliz Montanes   \n",
       "\n",
       "   class                         genre  \n",
       "0      4              Children's Books  \n",
       "1     10  Engineering & Transportation  \n",
       "2      9      Christian Books & Bibles  \n",
       "3     26             Sports & Outdoors  \n",
       "4     11     Health, Fitness & Dieting  "
      ]
     },
     "execution_count": 13,
     "metadata": {},
     "output_type": "execute_result"
    }
   ],
   "source": [
    "df_train.head()"
   ]
  },
  {
   "cell_type": "code",
   "execution_count": 14,
   "metadata": {},
   "outputs": [
    {
     "data": {
      "text/plain": [
       "51299"
      ]
     },
     "execution_count": 14,
     "metadata": {},
     "output_type": "execute_result"
    }
   ],
   "source": [
    "len(df_train.name)"
   ]
  },
  {
   "cell_type": "code",
   "execution_count": 15,
   "metadata": {},
   "outputs": [
    {
     "data": {
      "text/plain": [
       "51000"
      ]
     },
     "execution_count": 15,
     "metadata": {},
     "output_type": "execute_result"
    }
   ],
   "source": [
    "len(df_train.name.value_counts())"
   ]
  },
  {
   "cell_type": "code",
   "execution_count": 16,
   "metadata": {},
   "outputs": [],
   "source": [
    "df_train.drop_duplicates(subset='name',inplace=True)"
   ]
  },
  {
   "cell_type": "code",
   "execution_count": 17,
   "metadata": {},
   "outputs": [
    {
     "data": {
      "text/plain": [
       "51000"
      ]
     },
     "execution_count": 17,
     "metadata": {},
     "output_type": "execute_result"
    }
   ],
   "source": [
    "len(df_train)"
   ]
  },
  {
   "cell_type": "code",
   "execution_count": 18,
   "metadata": {},
   "outputs": [
    {
     "data": {
      "text/plain": [
       "5699"
      ]
     },
     "execution_count": 18,
     "metadata": {},
     "output_type": "execute_result"
    }
   ],
   "source": [
    "len(df_test.name)"
   ]
  },
  {
   "cell_type": "code",
   "execution_count": 19,
   "metadata": {},
   "outputs": [
    {
     "data": {
      "text/plain": [
       "5694"
      ]
     },
     "execution_count": 19,
     "metadata": {},
     "output_type": "execute_result"
    }
   ],
   "source": [
    "len(df_test.name.value_counts())"
   ]
  },
  {
   "cell_type": "code",
   "execution_count": 20,
   "metadata": {},
   "outputs": [],
   "source": [
    "books = pd.DataFrame(df_train['name'])\n",
    "author = pd.DataFrame(df_train['author'])\n",
    "genre = pd.DataFrame(df_train['genre'])"
   ]
  },
  {
   "cell_type": "code",
   "execution_count": 21,
   "metadata": {},
   "outputs": [],
   "source": [
    "df_train['author'] = df_train['author'].fillna('No Book')\n",
    "df_train['name'] = df_train['name'].fillna('No Book')"
   ]
  },
  {
   "cell_type": "code",
   "execution_count": 22,
   "metadata": {},
   "outputs": [
    {
     "name": "stdout",
     "output_type": "stream",
     "text": [
      "51000\n",
      "51000\n"
     ]
    },
    {
     "data": {
      "text/html": [
       "<div>\n",
       "<style scoped>\n",
       "    .dataframe tbody tr th:only-of-type {\n",
       "        vertical-align: middle;\n",
       "    }\n",
       "\n",
       "    .dataframe tbody tr th {\n",
       "        vertical-align: top;\n",
       "    }\n",
       "\n",
       "    .dataframe thead th {\n",
       "        text-align: right;\n",
       "    }\n",
       "</style>\n",
       "<table border=\"1\" class=\"dataframe\">\n",
       "  <thead>\n",
       "    <tr style=\"text-align: right;\">\n",
       "      <th></th>\n",
       "      <th>name</th>\n",
       "    </tr>\n",
       "  </thead>\n",
       "  <tbody>\n",
       "    <tr>\n",
       "      <th>50281</th>\n",
       "      <td>Children and Marital Conflict: The Impact of F...</td>\n",
       "    </tr>\n",
       "    <tr>\n",
       "      <th>50282</th>\n",
       "      <td>Dead Until Dark  (Sookie Stackhouse/True Blood...</td>\n",
       "    </tr>\n",
       "    <tr>\n",
       "      <th>50283</th>\n",
       "      <td>Forever Families: God's Gift of Adoption</td>\n",
       "    </tr>\n",
       "    <tr>\n",
       "      <th>50284</th>\n",
       "      <td>The Friendship Factor: How to Get Closer to th...</td>\n",
       "    </tr>\n",
       "    <tr>\n",
       "      <th>50285</th>\n",
       "      <td>By Cecil H. Jensen, Jay D. Helsel: Interpretin...</td>\n",
       "    </tr>\n",
       "    <tr>\n",
       "      <th>...</th>\n",
       "      <td>...</td>\n",
       "    </tr>\n",
       "    <tr>\n",
       "      <th>50387</th>\n",
       "      <td>Executive Power (The Mitch Rapp Series)</td>\n",
       "    </tr>\n",
       "    <tr>\n",
       "      <th>50388</th>\n",
       "      <td>Love, Freedom, and Aloneness : A New Vision of...</td>\n",
       "    </tr>\n",
       "    <tr>\n",
       "      <th>50389</th>\n",
       "      <td>The Lady from Zagreb (A Bernie Gunther Novel)</td>\n",
       "    </tr>\n",
       "    <tr>\n",
       "      <th>50390</th>\n",
       "      <td>Without Ritalin : A Natural Approach to ADD</td>\n",
       "    </tr>\n",
       "    <tr>\n",
       "      <th>50391</th>\n",
       "      <td>Coaxial Electrical Circuits for Interference-F...</td>\n",
       "    </tr>\n",
       "  </tbody>\n",
       "</table>\n",
       "<p>110 rows × 1 columns</p>\n",
       "</div>"
      ],
      "text/plain": [
       "                                                    name\n",
       "50281  Children and Marital Conflict: The Impact of F...\n",
       "50282  Dead Until Dark  (Sookie Stackhouse/True Blood...\n",
       "50283           Forever Families: God's Gift of Adoption\n",
       "50284  The Friendship Factor: How to Get Closer to th...\n",
       "50285  By Cecil H. Jensen, Jay D. Helsel: Interpretin...\n",
       "...                                                  ...\n",
       "50387            Executive Power (The Mitch Rapp Series)\n",
       "50388  Love, Freedom, and Aloneness : A New Vision of...\n",
       "50389      The Lady from Zagreb (A Bernie Gunther Novel)\n",
       "50390        Without Ritalin : A Natural Approach to ADD\n",
       "50391  Coaxial Electrical Circuits for Interference-F...\n",
       "\n",
       "[110 rows x 1 columns]"
      ]
     },
     "execution_count": 22,
     "metadata": {},
     "output_type": "execute_result"
    }
   ],
   "source": [
    "print (len(books))\n",
    "print (len(genre))\n",
    "genre.head(2)\n",
    "books[50000:50110]"
   ]
  },
  {
   "cell_type": "code",
   "execution_count": 23,
   "metadata": {},
   "outputs": [
    {
     "data": {
      "text/plain": [
       "array([\"Children's Books\", 'Engineering & Transportation',\n",
       "       'Christian Books & Bibles', 'Sports & Outdoors',\n",
       "       'Health, Fitness & Dieting', 'Medical Books', 'Science & Math',\n",
       "       'Travel', 'Business & Money', 'Cookbooks, Food & Wine',\n",
       "       'Politics & Social Sciences', 'Crafts, Hobbies & Home',\n",
       "       'Religion & Spirituality', 'Literature & Fiction',\n",
       "       'Humor & Entertainment', 'Law', 'Computers & Technology',\n",
       "       'Test Preparation', 'Biographies & Memoirs', 'Arts & Photography',\n",
       "       'Parenting & Relationships', 'Romance', 'History',\n",
       "       'Comics & Graphic Novels', 'Reference', 'Teen & Young Adult',\n",
       "       'Self-Help', 'Calendars', 'Science Fiction & Fantasy',\n",
       "       'Mystery, Thriller & Suspense'], dtype=object)"
      ]
     },
     "execution_count": 23,
     "metadata": {},
     "output_type": "execute_result"
    }
   ],
   "source": [
    "genre['genre'].unique()"
   ]
  },
  {
   "cell_type": "code",
   "execution_count": 17,
   "metadata": {},
   "outputs": [],
   "source": [
    "from sklearn.preprocessing import LabelEncoder\n",
    "\n",
    "genero = ['genre']\n",
    "for x in genero:\n",
    "    le = LabelEncoder()\n",
    "    le.fit(list(genre[x].values))\n",
    "    genre[x] = le.transform(list(genre[x]))"
   ]
  },
  {
   "cell_type": "code",
   "execution_count": 18,
   "metadata": {},
   "outputs": [
    {
     "data": {
      "text/plain": [
       "array([ 4, 10,  5, 26, 11, 16, 23, 29,  2,  8, 19,  9, 21, 15, 13, 14,  7,\n",
       "       28,  1,  0, 18, 22, 12,  6, 20, 27, 25,  3, 24, 17])"
      ]
     },
     "execution_count": 18,
     "metadata": {},
     "output_type": "execute_result"
    }
   ],
   "source": [
    "genre['genre'].unique()"
   ]
  },
  {
   "cell_type": "code",
   "execution_count": 19,
   "metadata": {},
   "outputs": [
    {
     "data": {
      "text/plain": [
       "'Arts & Photography'"
      ]
     },
     "execution_count": 19,
     "metadata": {},
     "output_type": "execute_result"
    }
   ],
   "source": [
    "le.inverse_transform([0])[0]"
   ]
  },
  {
   "attachments": {},
   "cell_type": "markdown",
   "metadata": {},
   "source": [
    "Baseline model:"
   ]
  },
  {
   "cell_type": "code",
   "execution_count": 20,
   "metadata": {},
   "outputs": [
    {
     "data": {
      "text/plain": [
       "(51000, 17624)"
      ]
     },
     "execution_count": 20,
     "metadata": {},
     "output_type": "execute_result"
    }
   ],
   "source": [
    "from sklearn.feature_extraction.text import TfidfVectorizer\n",
    "vectorizer = TfidfVectorizer(min_df=2, max_features=70000, strip_accents='unicode',lowercase =True,\n",
    "                            analyzer='word', token_pattern=r'\\w+', use_idf=True, \n",
    "                            smooth_idf=True, sublinear_tf=True, stop_words = 'english')\n",
    "vectors = vectorizer.fit_transform(df_train['name'])\n",
    "vectors.shape"
   ]
  },
  {
   "cell_type": "code",
   "execution_count": 21,
   "metadata": {},
   "outputs": [],
   "source": [
    "from sklearn import metrics\n",
    "from sklearn.model_selection import StratifiedKFold, cross_val_score, train_test_split "
   ]
  },
  {
   "cell_type": "code",
   "execution_count": 22,
   "metadata": {},
   "outputs": [],
   "source": [
    "X_train, X_test, y_train, y_test = train_test_split(vectors, genre['genre'], test_size=0.1,random_state=73)"
   ]
  },
  {
   "cell_type": "code",
   "execution_count": 23,
   "metadata": {},
   "outputs": [
    {
     "name": "stdout",
     "output_type": "stream",
     "text": [
      "(45900, 17624)\n",
      "(45900,)\n",
      "(5100, 17624)\n",
      "(5100,)\n"
     ]
    }
   ],
   "source": [
    "print (X_train.shape)\n",
    "print (y_train.shape)\n",
    "print (X_test.shape)\n",
    "print (y_test.shape)"
   ]
  },
  {
   "cell_type": "code",
   "execution_count": 24,
   "metadata": {},
   "outputs": [
    {
     "name": "stdout",
     "output_type": "stream",
     "text": [
      "0.5635710695010574\n",
      "0.5613725490196079\n"
     ]
    }
   ],
   "source": [
    "from sklearn import linear_model\n",
    "clf = linear_model.LogisticRegression(solver= 'sag',max_iter=200,random_state=73)\n",
    "clf.fit(X_train, y_train)\n",
    "pred = clf.predict(X_test)\n",
    "print (metrics.f1_score(y_test, pred, average='macro'))\n",
    "print (metrics.accuracy_score(y_test, pred))"
   ]
  },
  {
   "cell_type": "code",
   "execution_count": 25,
   "metadata": {},
   "outputs": [],
   "source": [
    "\n",
    "pickle.dump(clf, open('modelLR.pkl', 'wb'))"
   ]
  },
  {
   "cell_type": "code",
   "execution_count": 26,
   "metadata": {},
   "outputs": [
    {
     "data": {
      "text/plain": [
       "30"
      ]
     },
     "execution_count": 26,
     "metadata": {},
     "output_type": "execute_result"
    }
   ],
   "source": [
    "len(y_test.unique())"
   ]
  },
  {
   "cell_type": "code",
   "execution_count": 27,
   "metadata": {},
   "outputs": [
    {
     "data": {
      "text/plain": [
       "5100"
      ]
     },
     "execution_count": 27,
     "metadata": {},
     "output_type": "execute_result"
    }
   ],
   "source": [
    "len(pred)"
   ]
  },
  {
   "cell_type": "code",
   "execution_count": 28,
   "metadata": {},
   "outputs": [
    {
     "data": {
      "text/plain": [
       "array([14, 11, 28, ...,  1, 15, 25])"
      ]
     },
     "execution_count": 28,
     "metadata": {},
     "output_type": "execute_result"
    }
   ],
   "source": [
    "pred"
   ]
  },
  {
   "cell_type": "code",
   "execution_count": 29,
   "metadata": {},
   "outputs": [],
   "source": [
    "k=3\n",
    "probs = clf.predict_proba(X_test)\n",
    "# Sort desc and only extract the top-n\n",
    "top_n = np.argsort(probs)[:,:-k-1:-1]"
   ]
  },
  {
   "cell_type": "code",
   "execution_count": 30,
   "metadata": {},
   "outputs": [
    {
     "name": "stdout",
     "output_type": "stream",
     "text": [
      "0.7568627450980392\n"
     ]
    }
   ],
   "source": [
    "from sklearn.metrics import top_k_accuracy_score\n",
    "\n",
    "print(top_k_accuracy_score(y_test, probs, k=3, normalize=True))"
   ]
  },
  {
   "cell_type": "code",
   "execution_count": 31,
   "metadata": {},
   "outputs": [
    {
     "data": {
      "text/plain": [
       "array([[14,  2, 28],\n",
       "       [11, 18, 25],\n",
       "       [28, 20, 19],\n",
       "       ...,\n",
       "       [ 1,  7, 12],\n",
       "       [15, 19,  1],\n",
       "       [25, 18, 21]], dtype=int64)"
      ]
     },
     "execution_count": 31,
     "metadata": {},
     "output_type": "execute_result"
    }
   ],
   "source": [
    "top_n"
   ]
  },
  {
   "attachments": {},
   "cell_type": "markdown",
   "metadata": {},
   "source": [
    "MLP:"
   ]
  },
  {
   "cell_type": "code",
   "execution_count": 32,
   "metadata": {},
   "outputs": [
    {
     "name": "stdout",
     "output_type": "stream",
     "text": [
      "0.8099346405228758\n",
      "0.4131372549019608\n"
     ]
    }
   ],
   "source": [
    "from sklearn.neural_network import MLPClassifier\n",
    "from sklearn.preprocessing import StandardScaler\n",
    "\n",
    "scaler = StandardScaler(with_mean=False)\n",
    "scaler.fit(X_train)\n",
    "X_train_scal =scaler.transform(X_train)\n",
    "X_test_scal =scaler.transform(X_test)\n",
    "\n",
    "mlp = MLPClassifier(max_iter=500,\n",
    "                   activation='relu',\n",
    "                   hidden_layer_sizes = (150, 150, 150),\n",
    "                   random_state=73,\n",
    "                   learning_rate_init=0.01)\n",
    "mlp.fit(X_train_scal, y_train)\n",
    "print(mlp.score(X_train_scal, y_train))\n",
    "print(mlp.score(X_test_scal, y_test))"
   ]
  },
  {
   "cell_type": "code",
   "execution_count": 33,
   "metadata": {},
   "outputs": [
    {
     "name": "stdout",
     "output_type": "stream",
     "text": [
      "0.5237254901960784\n"
     ]
    }
   ],
   "source": [
    "predp = mlp.predict_proba(X_test_scal)\n",
    "print(top_k_accuracy_score(y_test, predp, k=3, normalize=True))"
   ]
  },
  {
   "attachments": {},
   "cell_type": "markdown",
   "metadata": {},
   "source": [
    "Random forest:"
   ]
  },
  {
   "cell_type": "code",
   "execution_count": 62,
   "metadata": {},
   "outputs": [
    {
     "name": "stdout",
     "output_type": "stream",
     "text": [
      "0.39372549019607844\n",
      "0.38\n"
     ]
    }
   ],
   "source": [
    "from sklearn.ensemble import RandomForestClassifier\n",
    "from sklearn.metrics import accuracy_score\n",
    "\n",
    "rnd_clf = RandomForestClassifier(n_estimators=500,\n",
    "                                 max_leaf_nodes=16,\n",
    "                                 random_state=42)\n",
    "rnd_clf.fit(X_train, y_train)\n",
    "\n",
    "y_pred_rf = rnd_clf.predict(X_test)\n",
    "\n",
    "print(rnd_clf.score(X_train, y_train))\n",
    "print(accuracy_score(y_test, y_pred_rf))\n"
   ]
  },
  {
   "cell_type": "code",
   "execution_count": 63,
   "metadata": {},
   "outputs": [
    {
     "name": "stdout",
     "output_type": "stream",
     "text": [
      "0.5405882352941176\n"
     ]
    }
   ],
   "source": [
    "pred = rnd_clf.predict_proba(X_test)\n",
    "print(top_k_accuracy_score(y_test, pred, k=3, normalize=True))"
   ]
  },
  {
   "attachments": {},
   "cell_type": "markdown",
   "metadata": {},
   "source": [
    "Usando el nombre del escritor:"
   ]
  },
  {
   "cell_type": "code",
   "execution_count": 36,
   "metadata": {},
   "outputs": [
    {
     "name": "stdout",
     "output_type": "stream",
     "text": [
      "0    Magnets: Pulling Together, Pushing Apart (Amaz...\n",
      "1    Energy Security (SAGE Library of International...\n",
      "2    An Amish Gathering: Life in Lancaster County B...\n",
      "3    City of Rocks Idaho: A Climber's Guide (Region...\n",
      "4    Como vencer el insomnio. Tecnicas, reglas y co...\n",
      "Name: everything, dtype: object\n"
     ]
    }
   ],
   "source": [
    "df_train['everything'] = pd.DataFrame(df_train['name'] + ' ' + df_train['author'])\n",
    "print (df_train['everything'].head(5))"
   ]
  },
  {
   "cell_type": "code",
   "execution_count": 37,
   "metadata": {},
   "outputs": [
    {
     "data": {
      "text/plain": [
       "(51000, 24910)"
      ]
     },
     "execution_count": 37,
     "metadata": {},
     "output_type": "execute_result"
    }
   ],
   "source": [
    "vectorizer2 = TfidfVectorizer(min_df=2, max_features=70000, strip_accents='unicode',lowercase =True,\n",
    "                            analyzer='word', token_pattern=r'\\w+', use_idf=True, \n",
    "                            smooth_idf=True, sublinear_tf=True, stop_words = 'english')\n",
    "vectors2 = vectorizer2.fit_transform(df_train['everything'])\n",
    "vectors2.shape"
   ]
  },
  {
   "cell_type": "code",
   "execution_count": 38,
   "metadata": {},
   "outputs": [],
   "source": [
    "X_train, X_test, y_train, y_test = train_test_split(vectors2, genre['genre'], test_size=0.1,random_state=73)"
   ]
  },
  {
   "cell_type": "code",
   "execution_count": 39,
   "metadata": {},
   "outputs": [
    {
     "name": "stdout",
     "output_type": "stream",
     "text": [
      "0.5821420109259273\n",
      "0.5805882352941176\n"
     ]
    }
   ],
   "source": [
    "from sklearn import linear_model\n",
    "clf = linear_model.LogisticRegression(solver= 'sag',max_iter=200,random_state=73)\n",
    "clf.fit(X_train, y_train)\n",
    "pred = clf.predict(X_test)\n",
    "print (metrics.f1_score(y_test, pred, average='macro'))\n",
    "print (metrics.accuracy_score(y_test, pred))"
   ]
  },
  {
   "cell_type": "code",
   "execution_count": 60,
   "metadata": {},
   "outputs": [
    {
     "data": {
      "text/plain": [
       "0.7681481481481481"
      ]
     },
     "execution_count": 60,
     "metadata": {},
     "output_type": "execute_result"
    }
   ],
   "source": [
    "clf.score(X_train,y_train)"
   ]
  },
  {
   "cell_type": "code",
   "execution_count": 40,
   "metadata": {},
   "outputs": [
    {
     "name": "stdout",
     "output_type": "stream",
     "text": [
      "0.7725490196078432\n",
      "0.8398039215686275\n"
     ]
    }
   ],
   "source": [
    "probs = clf.predict_proba(X_test)\n",
    "print(top_k_accuracy_score(y_test, probs, k=3, normalize=True))\n",
    "print(top_k_accuracy_score(y_test, probs, k=5, normalize=True))"
   ]
  },
  {
   "cell_type": "code",
   "execution_count": 41,
   "metadata": {},
   "outputs": [],
   "source": [
    "pickle.dump(clf, open('bestmodelLR.pkl', 'wb'))"
   ]
  },
  {
   "attachments": {},
   "cell_type": "markdown",
   "metadata": {},
   "source": [
    "XGBoost"
   ]
  },
  {
   "cell_type": "code",
   "execution_count": 42,
   "metadata": {},
   "outputs": [],
   "source": [
    "import xgboost as xgb\n",
    "dtrain = xgb.DMatrix(data=X_train, label = y_train)\n",
    "dtest = xgb.DMatrix(data=X_test)"
   ]
  },
  {
   "cell_type": "code",
   "execution_count": 43,
   "metadata": {},
   "outputs": [],
   "source": [
    "params = {\n",
    "    'objective':'multi:softmax',\n",
    "    'eval_metric':'mlogloss',\n",
    "    'eta':0.025,\n",
    "    'max_depth':10,\n",
    "    'subsample':0.7,\n",
    "    'colsample_bytree':0.7,\n",
    "    'min_child_weight':5,\n",
    "    'num_class': 30\n",
    "    \n",
    "}"
   ]
  },
  {
   "cell_type": "code",
   "execution_count": 44,
   "metadata": {},
   "outputs": [
    {
     "name": "stdout",
     "output_type": "stream",
     "text": [
      "[0]\ttrain-mlogloss:3.36904+0.00039\ttest-mlogloss:3.37083+0.00047\n",
      "[10]\ttrain-mlogloss:3.13423+0.00546\ttest-mlogloss:3.15172+0.00726\n",
      "[20]\ttrain-mlogloss:2.99232+0.00216\ttest-mlogloss:3.02302+0.00488\n",
      "[30]\ttrain-mlogloss:2.88414+0.00155\ttest-mlogloss:2.92737+0.00436\n",
      "[40]\ttrain-mlogloss:2.79528+0.00223\ttest-mlogloss:2.85066+0.00347\n",
      "[50]\ttrain-mlogloss:2.71942+0.00216\ttest-mlogloss:2.78591+0.00322\n",
      "[60]\ttrain-mlogloss:2.65263+0.00283\ttest-mlogloss:2.72961+0.00394\n",
      "[70]\ttrain-mlogloss:2.59455+0.00363\ttest-mlogloss:2.68095+0.00291\n",
      "[80]\ttrain-mlogloss:2.54331+0.00366\ttest-mlogloss:2.63820+0.00293\n",
      "[90]\ttrain-mlogloss:2.49850+0.00391\ttest-mlogloss:2.60133+0.00261\n",
      "[99]\ttrain-mlogloss:2.46214+0.00344\ttest-mlogloss:2.57163+0.00193\n"
     ]
    }
   ],
   "source": [
    "bst = xgb.cv(params, dtrain, num_boost_round=100,\n",
    "early_stopping_rounds=40, nfold=5, verbose_eval=10)"
   ]
  },
  {
   "cell_type": "code",
   "execution_count": 45,
   "metadata": {},
   "outputs": [
    {
     "data": {
      "text/html": [
       "<div>\n",
       "<style scoped>\n",
       "    .dataframe tbody tr th:only-of-type {\n",
       "        vertical-align: middle;\n",
       "    }\n",
       "\n",
       "    .dataframe tbody tr th {\n",
       "        vertical-align: top;\n",
       "    }\n",
       "\n",
       "    .dataframe thead th {\n",
       "        text-align: right;\n",
       "    }\n",
       "</style>\n",
       "<table border=\"1\" class=\"dataframe\">\n",
       "  <thead>\n",
       "    <tr style=\"text-align: right;\">\n",
       "      <th></th>\n",
       "      <th>train-mlogloss-mean</th>\n",
       "      <th>train-mlogloss-std</th>\n",
       "      <th>test-mlogloss-mean</th>\n",
       "      <th>test-mlogloss-std</th>\n",
       "    </tr>\n",
       "  </thead>\n",
       "  <tbody>\n",
       "    <tr>\n",
       "      <th>0</th>\n",
       "      <td>3.369040</td>\n",
       "      <td>0.000391</td>\n",
       "      <td>3.370828</td>\n",
       "      <td>0.000472</td>\n",
       "    </tr>\n",
       "    <tr>\n",
       "      <th>1</th>\n",
       "      <td>3.334157</td>\n",
       "      <td>0.002244</td>\n",
       "      <td>3.337869</td>\n",
       "      <td>0.001848</td>\n",
       "    </tr>\n",
       "    <tr>\n",
       "      <th>2</th>\n",
       "      <td>3.304428</td>\n",
       "      <td>0.001665</td>\n",
       "      <td>3.309839</td>\n",
       "      <td>0.002635</td>\n",
       "    </tr>\n",
       "    <tr>\n",
       "      <th>3</th>\n",
       "      <td>3.277161</td>\n",
       "      <td>0.002597</td>\n",
       "      <td>3.284389</td>\n",
       "      <td>0.004142</td>\n",
       "    </tr>\n",
       "    <tr>\n",
       "      <th>4</th>\n",
       "      <td>3.251567</td>\n",
       "      <td>0.002385</td>\n",
       "      <td>3.260367</td>\n",
       "      <td>0.004091</td>\n",
       "    </tr>\n",
       "    <tr>\n",
       "      <th>...</th>\n",
       "      <td>...</td>\n",
       "      <td>...</td>\n",
       "      <td>...</td>\n",
       "      <td>...</td>\n",
       "    </tr>\n",
       "    <tr>\n",
       "      <th>95</th>\n",
       "      <td>2.477823</td>\n",
       "      <td>0.003750</td>\n",
       "      <td>2.584441</td>\n",
       "      <td>0.002236</td>\n",
       "    </tr>\n",
       "    <tr>\n",
       "      <th>96</th>\n",
       "      <td>2.473791</td>\n",
       "      <td>0.003644</td>\n",
       "      <td>2.581121</td>\n",
       "      <td>0.002101</td>\n",
       "    </tr>\n",
       "    <tr>\n",
       "      <th>97</th>\n",
       "      <td>2.469836</td>\n",
       "      <td>0.003546</td>\n",
       "      <td>2.577890</td>\n",
       "      <td>0.001998</td>\n",
       "    </tr>\n",
       "    <tr>\n",
       "      <th>98</th>\n",
       "      <td>2.465967</td>\n",
       "      <td>0.003494</td>\n",
       "      <td>2.574776</td>\n",
       "      <td>0.001973</td>\n",
       "    </tr>\n",
       "    <tr>\n",
       "      <th>99</th>\n",
       "      <td>2.462136</td>\n",
       "      <td>0.003439</td>\n",
       "      <td>2.571633</td>\n",
       "      <td>0.001929</td>\n",
       "    </tr>\n",
       "  </tbody>\n",
       "</table>\n",
       "<p>100 rows × 4 columns</p>\n",
       "</div>"
      ],
      "text/plain": [
       "    train-mlogloss-mean  train-mlogloss-std  test-mlogloss-mean  \\\n",
       "0              3.369040            0.000391            3.370828   \n",
       "1              3.334157            0.002244            3.337869   \n",
       "2              3.304428            0.001665            3.309839   \n",
       "3              3.277161            0.002597            3.284389   \n",
       "4              3.251567            0.002385            3.260367   \n",
       "..                  ...                 ...                 ...   \n",
       "95             2.477823            0.003750            2.584441   \n",
       "96             2.473791            0.003644            2.581121   \n",
       "97             2.469836            0.003546            2.577890   \n",
       "98             2.465967            0.003494            2.574776   \n",
       "99             2.462136            0.003439            2.571633   \n",
       "\n",
       "    test-mlogloss-std  \n",
       "0            0.000472  \n",
       "1            0.001848  \n",
       "2            0.002635  \n",
       "3            0.004142  \n",
       "4            0.004091  \n",
       "..                ...  \n",
       "95           0.002236  \n",
       "96           0.002101  \n",
       "97           0.001998  \n",
       "98           0.001973  \n",
       "99           0.001929  \n",
       "\n",
       "[100 rows x 4 columns]"
      ]
     },
     "execution_count": 45,
     "metadata": {},
     "output_type": "execute_result"
    }
   ],
   "source": [
    "bst"
   ]
  },
  {
   "cell_type": "code",
   "execution_count": 46,
   "metadata": {},
   "outputs": [],
   "source": [
    "bst_train = xgb.train(params, dtrain, num_boost_round=100) "
   ]
  },
  {
   "cell_type": "code",
   "execution_count": 65,
   "metadata": {},
   "outputs": [],
   "source": [
    "p_test = bst_train.predict(dtest)\n",
    "p_train = bst_train.predict(dtrain)"
   ]
  },
  {
   "cell_type": "code",
   "execution_count": 66,
   "metadata": {},
   "outputs": [
    {
     "name": "stdout",
     "output_type": "stream",
     "text": [
      "0.4362962962962963\n"
     ]
    }
   ],
   "source": [
    "print(metrics.accuracy_score(y_train, p_train)) "
   ]
  },
  {
   "cell_type": "code",
   "execution_count": 48,
   "metadata": {},
   "outputs": [
    {
     "name": "stdout",
     "output_type": "stream",
     "text": [
      "0.397133701420185\n",
      "0.39137254901960783\n"
     ]
    }
   ],
   "source": [
    "print (metrics.f1_score(y_test, p_test, average='macro'))\n",
    "print (metrics.accuracy_score(y_test, p_test)) "
   ]
  },
  {
   "cell_type": "code",
   "execution_count": 49,
   "metadata": {},
   "outputs": [],
   "source": [
    "file = open('bestmodelLR.pkl','rb')\n",
    "clf = pickle.load(file)\n"
   ]
  },
  {
   "cell_type": "code",
   "execution_count": 50,
   "metadata": {},
   "outputs": [
    {
     "name": "stdout",
     "output_type": "stream",
     "text": [
      "(1, 24910)\n"
     ]
    }
   ],
   "source": [
    "text = ['Fifty Shades of Grey']\n",
    "#text = list(text)\n",
    "s = (vectorizer2.transform(text))\n",
    "#s = vectorizer.fit_transform(df)\n",
    "print (s.shape)\n",
    "p = (clf.predict_proba(s))\n",
    "q = (clf.predict(s))"
   ]
  },
  {
   "cell_type": "code",
   "execution_count": 51,
   "metadata": {},
   "outputs": [],
   "source": [
    "def predict(title):\n",
    "    text = title\n",
    "    s = (vectorizer2.transform(text))\n",
    "    p = (clf.predict(s))\n",
    "    print(le.inverse_transform(p)[0])"
   ]
  },
  {
   "cell_type": "code",
   "execution_count": 52,
   "metadata": {},
   "outputs": [],
   "source": [
    "def predict_top_k(title,k):\n",
    "    text = title\n",
    "    s = (vectorizer2.transform(text))\n",
    "    p = (clf.predict_proba(s))\n",
    "    a=p[0]\n",
    "    ind =(-a).argsort()[:k]\n",
    "    print(le.inverse_transform(ind))"
   ]
  },
  {
   "cell_type": "code",
   "execution_count": 53,
   "metadata": {},
   "outputs": [
    {
     "name": "stdout",
     "output_type": "stream",
     "text": [
      "Science Fiction & Fantasy\n"
     ]
    }
   ],
   "source": [
    "title = ['The Hobbit']\n",
    "predict(title)"
   ]
  },
  {
   "cell_type": "code",
   "execution_count": 54,
   "metadata": {},
   "outputs": [
    {
     "name": "stdout",
     "output_type": "stream",
     "text": [
      "Mystery, Thriller & Suspense\n"
     ]
    }
   ],
   "source": [
    "title = ['The Shadow Of The Wind Carlos Ruiz Zafon']\n",
    "predict(title)"
   ]
  },
  {
   "cell_type": "code",
   "execution_count": 55,
   "metadata": {},
   "outputs": [
    {
     "name": "stdout",
     "output_type": "stream",
     "text": [
      "Children's Books\n"
     ]
    }
   ],
   "source": [
    "title = [\"In Valeria's shoes Elisabet Benavent\"]\n",
    "predict(title)"
   ]
  },
  {
   "cell_type": "code",
   "execution_count": null,
   "metadata": {},
   "outputs": [],
   "source": []
  },
  {
   "cell_type": "code",
   "execution_count": 56,
   "metadata": {},
   "outputs": [
    {
     "name": "stdout",
     "output_type": "stream",
     "text": [
      "[\"Children's Books\" 'Teen & Young Adult' 'Parenting & Relationships']\n"
     ]
    }
   ],
   "source": [
    "predict_top_k(title,3)"
   ]
  },
  {
   "cell_type": "code",
   "execution_count": null,
   "metadata": {},
   "outputs": [
    {
     "name": "stdout",
     "output_type": "stream",
     "text": [
      "['Romance' 'Teen & Young Adult' 'Arts & Photography']\n"
     ]
    }
   ],
   "source": [
    "print(le.inverse_transform(ind))"
   ]
  },
  {
   "cell_type": "code",
   "execution_count": null,
   "metadata": {},
   "outputs": [
    {
     "name": "stdout",
     "output_type": "stream",
     "text": [
      "0.5821420109259273\n",
      "0.5805882352941176\n"
     ]
    }
   ],
   "source": [
    "pred = clf.predict(X_test)\n",
    "print (metrics.f1_score(y_test, pred, average='macro'))\n",
    "print (metrics.accuracy_score(y_test, pred))"
   ]
  },
  {
   "cell_type": "code",
   "execution_count": null,
   "metadata": {},
   "outputs": [],
   "source": [
    "from sklearn.metrics import confusion_matrix"
   ]
  },
  {
   "cell_type": "code",
   "execution_count": null,
   "metadata": {},
   "outputs": [
    {
     "name": "stdout",
     "output_type": "stream",
     "text": [
      "[[ 87  10   2   1   5   2   4   7   0  16   9   1   9   6   2   4   0   0\n",
      "    2   4   3   0   4   2   1   2   0   5   1   3]\n",
      " [  5  68   2   0   5   6   2   2   0   0   0   1  16   4   3   3   2   4\n",
      "    6   3   3   4   3   1   3   6  10   9   0   5]\n",
      " [  2   2 101   0   2   3   2  10   1   0   1   0   3   0   3   0   1   0\n",
      "    2   6   2   2   0   1   0   8   0   2   1   1]\n",
      " [  3   0   0 164   1   0   0   0   0   0   0   0   0   0   0   0   0   0\n",
      "    0   0   0   1   0   1   0   0   0   0   0   1]\n",
      " [  4   8   3   0  75   5   2   1   0   3   3   0   4   5   0   3   0   2\n",
      "    3   2   3   3   5   6   3   0   5  12   2   2]\n",
      " [  1   9   2   0   8 108   1   0   2   2   1   1   5   0   1   2   1   5\n",
      "    4   2   3   8   8   4   6   6   1   2   0   1]\n",
      " [  6   5   0   0   9   1 128   0   1   1   0   0   5   3   0  10   0   2\n",
      "    1   0   1   0   8   2   8   1   1   3   0   0]\n",
      " [  4   1   3   0   1   0   0 112   0   1   3   0   0   1   2   1   1   1\n",
      "    0   0   1   2   0   7   0   0   3   2   2   2]\n",
      " [  0   0   1   0   7   0   0   1 135   1   0   7   2   1   0   0   0   0\n",
      "    1   3   1   0   3   1   0   1   2   2   0   1]\n",
      " [ 13   4   0   0   6   0   0   1   2  96   6   1   4   3   2   1   1   1\n",
      "    1   1   4   0   3   6   5   2   0   3   0   1]\n",
      " [  5   5   4   1   1   0   1  12   1   1  88   1   7   2   1   1   4   0\n",
      "    0   0   2   0   1   7   2   1   2   1   2   5]\n",
      " [  2   2   2   0   2   2   1   1   7   0   0  93   2   1   0   0  11   0\n",
      "    8   4   1   3   3   1   0  10   3   8   1   1]\n",
      " [  2  16   1   0   2   2   1   2   0   1   1   0  97   1   2   2   0   1\n",
      "    1   8   3   3   1   1   0   1   0   2   0   3]\n",
      " [  9  12   0   2  12   6   7   3   5   6   2   0   4  73   0   7   0   2\n",
      "    3   3   4   0   6   4   8   7   3   4   0   4]\n",
      " [  3   5  13   0   0   2   0   0   0   0   0   1   4   1 108   3   4   0\n",
      "    3  10   1   0   0   1   1   1   1   2   1   2]\n",
      " [  3   7   0   0   8   5   5   0   0   1   2   1   4   3   0  63   1  14\n",
      "    4   3   3   5  14   2   5   4   2   5   0   1]\n",
      " [  2   2   5   0   0   0   2   2   0   1   2  14   2   0   2   0 117   1\n",
      "    4   6   0   1   0   6   0   4   0   1   2   2]\n",
      " [  5   8   0   0   4   2   0   0   1   0   0   0   1   0   0   7   0 102\n",
      "    0   1   3   4   6   0   5   0   1   8   0   1]\n",
      " [  2   6   2   0   4   1   0   0   0   0   1   3   3   1   1   2   6   2\n",
      "  109   5   0   2   3   0   0  13   0   3   0   0]\n",
      " [  8   1  11   0   6   9   2   1   1   1   1   3  11   3   0   9   2   4\n",
      "    9  64  11   4   3   7   0   0   3   2   0   0]\n",
      " [  5   3   0   0   1   6   3   1   2   1   1   2   3   5   1   0   1   1\n",
      "    2   6  73   3   0   2   2   7   2   2   3   5]\n",
      " [  5   4   1   2   3  19   1   0   0   2   0   4  12   0   1   5   0   0\n",
      "    2   1   3  98   2   3   3   9   1   3   0   5]\n",
      " [  1   5   0   0   5   2   0   0   0   1   0   1   0   0   1  10   2   4\n",
      "    5   1   1   0 103   1   5   3   1   4   0   2]\n",
      " [  4   5   5   0   6   2   1   2   1   3   4   0   8   2   1   1   5   1\n",
      "    2   4   2   0   2  88   1   3   3   1   0   1]\n",
      " [  2   5   0   0   3   3   5   1   1   2   0   1   2   7   1   5   0   9\n",
      "    0   1   0   1  12   0 107   0   1   2   0   0]\n",
      " [  4   4   5   1   1   1   0   0   0   2   0   5   2   2   1   0   6   4\n",
      "   16   2   2  10   3   1   0 100   1   1   0   0]\n",
      " [  3   8   2   0   9   1   1   3   1   2   2   0   0   3   0   2   2   0\n",
      "    2   1   2   1   1   9   2   1  91   1   0   9]\n",
      " [  3  13   0   0  15   2   2   1   2   6   1   4   3   6   2   8   1   7\n",
      "    3   3   3   4  10   2  10   4   4  52   3   2]\n",
      " [  0   0   4   0   1   0   0   3   0   0   1   0   0   0   1   0   3   0\n",
      "    0   1   2   0   0   3   0   0   1   0 155   2]\n",
      " [  8   2   1   3   4   0   0   0   0   3   3   0   8   2   1   1   1   0\n",
      "    2   2   6   0   4   3   1   0   5   2   0 106]]\n"
     ]
    }
   ],
   "source": [
    "result = confusion_matrix(y_test, pred)\n",
    "print(result)"
   ]
  },
  {
   "cell_type": "code",
   "execution_count": null,
   "metadata": {},
   "outputs": [
    {
     "data": {
      "text/plain": [
       "<AxesSubplot: >"
      ]
     },
     "execution_count": 67,
     "metadata": {},
     "output_type": "execute_result"
    },
    {
     "data": {
      "image/png": "[encoded data removed]",
      "text/plain": [
       "<Figure size 1500x1000 with 2 Axes>"
      ]
     },
     "metadata": {},
     "output_type": "display_data"
    }
   ],
   "source": [
    "plt.figure(figsize=(15,10))\n",
    "sns.heatmap(result,annot=True, fmt='g')"
   ]
  }
 ],
 "metadata": {
  "kernelspec": {
   "display_name": "bootcamp_core",
   "language": "python",
   "name": "python3"
  },
  "language_info": {
   "codemirror_mode": {
    "name": "ipython",
    "version": 3
   },
   "file_extension": ".py",
   "mimetype": "text/x-python",
   "name": "python",
   "nbconvert_exporter": "python",
   "pygments_lexer": "ipython3",
   "version": "3.9.13 (main, Aug 25 2022, 23:51:50) [MSC v.1916 64 bit (AMD64)]"
  },
  "orig_nbformat": 4,
  "vscode": {
   "interpreter": {
    "hash": "ee25a2d1a1f270354bc61de82ab2095fe8502aab0e92b4ab7eba41260aafaf03"
   }
  }
 },
 "nbformat": 4,
 "nbformat_minor": 2
}
