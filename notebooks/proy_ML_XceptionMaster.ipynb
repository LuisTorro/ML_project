{
 "cells": [
  {
   "cell_type": "markdown",
   "metadata": {},
   "source": [
    "# Proyecto ML"
   ]
  },
  {
   "cell_type": "code",
   "execution_count": 2,
   "metadata": {},
   "outputs": [],
   "source": [
    "import pandas as pd\n",
    "import numpy as np\n",
    "import matplotlib.pyplot as plt\n",
    "import seaborn as sns\n",
    "import cv2 as cv\n",
    "import os\n",
    "import shutil\n",
    "import tensorflow as tf\n",
    "import keras\n",
    "from tensorflow.keras import Sequential\n",
    "from tensorflow.keras.layers import Input, Dense, Dropout, Flatten, MaxPool2D\n",
    "from tensorflow.keras.callbacks import ModelCheckpoint\n",
    "from tensorflow.keras.layers import Conv2D\n",
    "from tensorflow.keras.preprocessing.image import ImageDataGenerator\n",
    "from keras.applications.xception import preprocess_input\n",
    "import splitfolders\n",
    "import seaborn as sns\n",
    "%matplotlib inline"
   ]
  },
  {
   "cell_type": "code",
   "execution_count": 3,
   "metadata": {},
   "outputs": [
    {
     "name": "stdout",
     "output_type": "stream",
     "text": [
      "GPU name:  [PhysicalDevice(name='/physical_device:GPU:0', device_type='GPU')]\n"
     ]
    }
   ],
   "source": [
    "print('GPU name: ', tf.config.experimental.list_physical_devices('GPU'))"
   ]
  },
  {
   "cell_type": "code",
   "execution_count": 4,
   "metadata": {},
   "outputs": [],
   "source": [
    "PATH = r'C:\\Users\\batch-pc\\Documents\\Data science ft\\ds_ft_sep_22\\3-Machine_Learning\\Proyecto_ML\\Data\\book_master\\224x224'"
   ]
  },
  {
   "cell_type": "code",
   "execution_count": 5,
   "metadata": {},
   "outputs": [],
   "source": [
    "df_train = pd.read_csv(r'C:\\Users\\batch-pc\\Documents\\Data science ft\\ds_ft_sep_22\\3-Machine_Learning\\Proyecto_ML\\Data\\book30-listing-train.csv',encoding = \"ISO-8859-1\")\n",
    "df_test = pd.read_csv(r'C:\\Users\\batch-pc\\Documents\\Data science ft\\ds_ft_sep_22\\3-Machine_Learning\\Proyecto_ML\\Data\\book30-listing-test.csv',encoding = \"ISO-8859-1\")"
   ]
  },
  {
   "cell_type": "code",
   "execution_count": 6,
   "metadata": {},
   "outputs": [],
   "source": [
    "columns = ['id', 'image', 'link', 'name', 'author', 'class', 'genre']\n",
    "df_train.columns = columns\n",
    "df_test.columns = columns"
   ]
  },
  {
   "cell_type": "code",
   "execution_count": 7,
   "metadata": {},
   "outputs": [
    {
     "data": {
      "text/html": [
       "<div>\n",
       "<style scoped>\n",
       "    .dataframe tbody tr th:only-of-type {\n",
       "        vertical-align: middle;\n",
       "    }\n",
       "\n",
       "    .dataframe tbody tr th {\n",
       "        vertical-align: top;\n",
       "    }\n",
       "\n",
       "    .dataframe thead th {\n",
       "        text-align: right;\n",
       "    }\n",
       "</style>\n",
       "<table border=\"1\" class=\"dataframe\">\n",
       "  <thead>\n",
       "    <tr style=\"text-align: right;\">\n",
       "      <th></th>\n",
       "      <th>id</th>\n",
       "      <th>image</th>\n",
       "      <th>link</th>\n",
       "      <th>name</th>\n",
       "      <th>author</th>\n",
       "      <th>class</th>\n",
       "      <th>genre</th>\n",
       "    </tr>\n",
       "  </thead>\n",
       "  <tbody>\n",
       "    <tr>\n",
       "      <th>0</th>\n",
       "      <td>1404803335</td>\n",
       "      <td>1404803335.jpg</td>\n",
       "      <td>http://ecx.images-amazon.com/images/I/51UJnL3T...</td>\n",
       "      <td>Magnets: Pulling Together, Pushing Apart (Amaz...</td>\n",
       "      <td>Natalie M. Rosinsky</td>\n",
       "      <td>4</td>\n",
       "      <td>Children's Books</td>\n",
       "    </tr>\n",
       "    <tr>\n",
       "      <th>1</th>\n",
       "      <td>1446276082</td>\n",
       "      <td>1446276082.jpg</td>\n",
       "      <td>http://ecx.images-amazon.com/images/I/51MGUKhk...</td>\n",
       "      <td>Energy Security (SAGE Library of International...</td>\n",
       "      <td>NaN</td>\n",
       "      <td>10</td>\n",
       "      <td>Engineering &amp; Transportation</td>\n",
       "    </tr>\n",
       "    <tr>\n",
       "      <th>2</th>\n",
       "      <td>1491522666</td>\n",
       "      <td>1491522666.jpg</td>\n",
       "      <td>http://ecx.images-amazon.com/images/I/51qKvjsi...</td>\n",
       "      <td>An Amish Gathering: Life in Lancaster County</td>\n",
       "      <td>Beth Wiseman</td>\n",
       "      <td>9</td>\n",
       "      <td>Christian Books &amp; Bibles</td>\n",
       "    </tr>\n",
       "    <tr>\n",
       "      <th>3</th>\n",
       "      <td>970096410</td>\n",
       "      <td>0970096410.jpg</td>\n",
       "      <td>http://ecx.images-amazon.com/images/I/51qoUENb...</td>\n",
       "      <td>City of Rocks Idaho: A Climber's Guide (Region...</td>\n",
       "      <td>Dave Bingham</td>\n",
       "      <td>26</td>\n",
       "      <td>Sports &amp; Outdoors</td>\n",
       "    </tr>\n",
       "    <tr>\n",
       "      <th>4</th>\n",
       "      <td>8436808053</td>\n",
       "      <td>8436808053.jpg</td>\n",
       "      <td>http://ecx.images-amazon.com/images/I/41aDW5pz...</td>\n",
       "      <td>Como vencer el insomnio. Tecnicas, reglas y co...</td>\n",
       "      <td>Choliz Montanes</td>\n",
       "      <td>11</td>\n",
       "      <td>Health, Fitness &amp; Dieting</td>\n",
       "    </tr>\n",
       "    <tr>\n",
       "      <th>5</th>\n",
       "      <td>1848291388</td>\n",
       "      <td>1848291388.jpg</td>\n",
       "      <td>http://ecx.images-amazon.com/images/I/51Lpg7xm...</td>\n",
       "      <td>John Martin Littlejohn: An Enigma of Osteopathy</td>\n",
       "      <td>John O'Brien</td>\n",
       "      <td>16</td>\n",
       "      <td>Medical Books</td>\n",
       "    </tr>\n",
       "    <tr>\n",
       "      <th>6</th>\n",
       "      <td>73402656</td>\n",
       "      <td>0073402656.jpg</td>\n",
       "      <td>http://ecx.images-amazon.com/images/I/51WccSzF...</td>\n",
       "      <td>Chemistry: The Molecular Nature of Matter and ...</td>\n",
       "      <td>Martin Silberberg</td>\n",
       "      <td>23</td>\n",
       "      <td>Science &amp; Math</td>\n",
       "    </tr>\n",
       "    <tr>\n",
       "      <th>7</th>\n",
       "      <td>323045979</td>\n",
       "      <td>0323045979.jpg</td>\n",
       "      <td>http://ecx.images-amazon.com/images/I/51rJir5E...</td>\n",
       "      <td>Mosby's Oncology Nursing Advisor: A Comprehens...</td>\n",
       "      <td>Susan Newton MS  RN  AOCN  AOCNS</td>\n",
       "      <td>16</td>\n",
       "      <td>Medical Books</td>\n",
       "    </tr>\n",
       "    <tr>\n",
       "      <th>8</th>\n",
       "      <td>1847176968</td>\n",
       "      <td>1847176968.jpg</td>\n",
       "      <td>http://ecx.images-amazon.com/images/I/61KoC743...</td>\n",
       "      <td>Ireland's Wild Atlantic Way</td>\n",
       "      <td>Carsten Krieger</td>\n",
       "      <td>29</td>\n",
       "      <td>Travel</td>\n",
       "    </tr>\n",
       "    <tr>\n",
       "      <th>9</th>\n",
       "      <td>1760342769</td>\n",
       "      <td>1760342769.jpg</td>\n",
       "      <td>http://ecx.images-amazon.com/images/I/515LqScy...</td>\n",
       "      <td>Lonely Planet Israel &amp; the Palestinian Territo...</td>\n",
       "      <td>Lonely Planet</td>\n",
       "      <td>29</td>\n",
       "      <td>Travel</td>\n",
       "    </tr>\n",
       "    <tr>\n",
       "      <th>10</th>\n",
       "      <td>137029039</td>\n",
       "      <td>0137029039.jpg</td>\n",
       "      <td>http://ecx.images-amazon.com/images/I/51T6dO1X...</td>\n",
       "      <td>Day Trading Options: Profiting from Price Dist...</td>\n",
       "      <td>Jeff Augen</td>\n",
       "      <td>2</td>\n",
       "      <td>Business &amp; Money</td>\n",
       "    </tr>\n",
       "    <tr>\n",
       "      <th>11</th>\n",
       "      <td>806965339</td>\n",
       "      <td>0806965339.jpg</td>\n",
       "      <td>http://ecx.images-amazon.com/images/I/71SDZJBG...</td>\n",
       "      <td>Breads, Cakes, Rolls &amp; More from Your Bread Ma...</td>\n",
       "      <td>Rob Wanless</td>\n",
       "      <td>7</td>\n",
       "      <td>Cookbooks, Food &amp; Wine</td>\n",
       "    </tr>\n",
       "    <tr>\n",
       "      <th>12</th>\n",
       "      <td>1405167971</td>\n",
       "      <td>1405167971.jpg</td>\n",
       "      <td>http://ecx.images-amazon.com/images/I/41giXSUi...</td>\n",
       "      <td>Running and Philosophy: A Marathon for the Mind</td>\n",
       "      <td>NaN</td>\n",
       "      <td>19</td>\n",
       "      <td>Politics &amp; Social Sciences</td>\n",
       "    </tr>\n",
       "    <tr>\n",
       "      <th>13</th>\n",
       "      <td>1565238567</td>\n",
       "      <td>1565238567.jpg</td>\n",
       "      <td>http://ecx.images-amazon.com/images/I/6124u5dA...</td>\n",
       "      <td>Wood Spirits and Green Men: A Design Sourceboo...</td>\n",
       "      <td>Lora S. Irish</td>\n",
       "      <td>8</td>\n",
       "      <td>Crafts, Hobbies &amp; Home</td>\n",
       "    </tr>\n",
       "    <tr>\n",
       "      <th>14</th>\n",
       "      <td>471310115</td>\n",
       "      <td>0471310115.jpg</td>\n",
       "      <td>http://ecx.images-amazon.com/images/I/61JkH6Io...</td>\n",
       "      <td>Janice VanCleave's 201 Awesome, Magical, Bizar...</td>\n",
       "      <td>Janice VanCleave</td>\n",
       "      <td>4</td>\n",
       "      <td>Children's Books</td>\n",
       "    </tr>\n",
       "    <tr>\n",
       "      <th>15</th>\n",
       "      <td>231162413</td>\n",
       "      <td>0231162413.jpg</td>\n",
       "      <td>http://ecx.images-amazon.com/images/I/51EX%2B0...</td>\n",
       "      <td>Making Sense of Tantric Buddhism: History, Sem...</td>\n",
       "      <td>Christian K. Wedemeyer</td>\n",
       "      <td>21</td>\n",
       "      <td>Religion &amp; Spirituality</td>\n",
       "    </tr>\n",
       "    <tr>\n",
       "      <th>16</th>\n",
       "      <td>1781681368</td>\n",
       "      <td>1781681368.jpg</td>\n",
       "      <td>http://ecx.images-amazon.com/images/I/51h7sbd2...</td>\n",
       "      <td>The Making Of Global Capitalism: The Political...</td>\n",
       "      <td>Sam Gindin</td>\n",
       "      <td>2</td>\n",
       "      <td>Business &amp; Money</td>\n",
       "    </tr>\n",
       "    <tr>\n",
       "      <th>17</th>\n",
       "      <td>758266065</td>\n",
       "      <td>0758266065.jpg</td>\n",
       "      <td>http://ecx.images-amazon.com/images/I/51wuInBb...</td>\n",
       "      <td>Breaking News (Godmothers, Book 5) (The Godmot...</td>\n",
       "      <td>Fern Michaels</td>\n",
       "      <td>15</td>\n",
       "      <td>Literature &amp; Fiction</td>\n",
       "    </tr>\n",
       "    <tr>\n",
       "      <th>18</th>\n",
       "      <td>163241032X</td>\n",
       "      <td>163241032X.jpg</td>\n",
       "      <td>http://ecx.images-amazon.com/images/I/31Z4b7dX...</td>\n",
       "      <td>Advances in Renal Transplantation</td>\n",
       "      <td>NaN</td>\n",
       "      <td>11</td>\n",
       "      <td>Health, Fitness &amp; Dieting</td>\n",
       "    </tr>\n",
       "    <tr>\n",
       "      <th>19</th>\n",
       "      <td>198506449</td>\n",
       "      <td>0198506449.jpg</td>\n",
       "      <td>http://ecx.images-amazon.com/images/I/41kYsgtQ...</td>\n",
       "      <td>Band Theory and Electronic Properties of Solid...</td>\n",
       "      <td>John Singleton</td>\n",
       "      <td>23</td>\n",
       "      <td>Science &amp; Math</td>\n",
       "    </tr>\n",
       "  </tbody>\n",
       "</table>\n",
       "</div>"
      ],
      "text/plain": [
       "            id           image  \\\n",
       "0   1404803335  1404803335.jpg   \n",
       "1   1446276082  1446276082.jpg   \n",
       "2   1491522666  1491522666.jpg   \n",
       "3    970096410  0970096410.jpg   \n",
       "4   8436808053  8436808053.jpg   \n",
       "5   1848291388  1848291388.jpg   \n",
       "6     73402656  0073402656.jpg   \n",
       "7    323045979  0323045979.jpg   \n",
       "8   1847176968  1847176968.jpg   \n",
       "9   1760342769  1760342769.jpg   \n",
       "10   137029039  0137029039.jpg   \n",
       "11   806965339  0806965339.jpg   \n",
       "12  1405167971  1405167971.jpg   \n",
       "13  1565238567  1565238567.jpg   \n",
       "14   471310115  0471310115.jpg   \n",
       "15   231162413  0231162413.jpg   \n",
       "16  1781681368  1781681368.jpg   \n",
       "17   758266065  0758266065.jpg   \n",
       "18  163241032X  163241032X.jpg   \n",
       "19   198506449  0198506449.jpg   \n",
       "\n",
       "                                                 link  \\\n",
       "0   http://ecx.images-amazon.com/images/I/51UJnL3T...   \n",
       "1   http://ecx.images-amazon.com/images/I/51MGUKhk...   \n",
       "2   http://ecx.images-amazon.com/images/I/51qKvjsi...   \n",
       "3   http://ecx.images-amazon.com/images/I/51qoUENb...   \n",
       "4   http://ecx.images-amazon.com/images/I/41aDW5pz...   \n",
       "5   http://ecx.images-amazon.com/images/I/51Lpg7xm...   \n",
       "6   http://ecx.images-amazon.com/images/I/51WccSzF...   \n",
       "7   http://ecx.images-amazon.com/images/I/51rJir5E...   \n",
       "8   http://ecx.images-amazon.com/images/I/61KoC743...   \n",
       "9   http://ecx.images-amazon.com/images/I/515LqScy...   \n",
       "10  http://ecx.images-amazon.com/images/I/51T6dO1X...   \n",
       "11  http://ecx.images-amazon.com/images/I/71SDZJBG...   \n",
       "12  http://ecx.images-amazon.com/images/I/41giXSUi...   \n",
       "13  http://ecx.images-amazon.com/images/I/6124u5dA...   \n",
       "14  http://ecx.images-amazon.com/images/I/61JkH6Io...   \n",
       "15  http://ecx.images-amazon.com/images/I/51EX%2B0...   \n",
       "16  http://ecx.images-amazon.com/images/I/51h7sbd2...   \n",
       "17  http://ecx.images-amazon.com/images/I/51wuInBb...   \n",
       "18  http://ecx.images-amazon.com/images/I/31Z4b7dX...   \n",
       "19  http://ecx.images-amazon.com/images/I/41kYsgtQ...   \n",
       "\n",
       "                                                 name  \\\n",
       "0   Magnets: Pulling Together, Pushing Apart (Amaz...   \n",
       "1   Energy Security (SAGE Library of International...   \n",
       "2        An Amish Gathering: Life in Lancaster County   \n",
       "3   City of Rocks Idaho: A Climber's Guide (Region...   \n",
       "4   Como vencer el insomnio. Tecnicas, reglas y co...   \n",
       "5     John Martin Littlejohn: An Enigma of Osteopathy   \n",
       "6   Chemistry: The Molecular Nature of Matter and ...   \n",
       "7   Mosby's Oncology Nursing Advisor: A Comprehens...   \n",
       "8                         Ireland's Wild Atlantic Way   \n",
       "9   Lonely Planet Israel & the Palestinian Territo...   \n",
       "10  Day Trading Options: Profiting from Price Dist...   \n",
       "11  Breads, Cakes, Rolls & More from Your Bread Ma...   \n",
       "12    Running and Philosophy: A Marathon for the Mind   \n",
       "13  Wood Spirits and Green Men: A Design Sourceboo...   \n",
       "14  Janice VanCleave's 201 Awesome, Magical, Bizar...   \n",
       "15  Making Sense of Tantric Buddhism: History, Sem...   \n",
       "16  The Making Of Global Capitalism: The Political...   \n",
       "17  Breaking News (Godmothers, Book 5) (The Godmot...   \n",
       "18                  Advances in Renal Transplantation   \n",
       "19  Band Theory and Electronic Properties of Solid...   \n",
       "\n",
       "                              author  class                         genre  \n",
       "0                Natalie M. Rosinsky      4              Children's Books  \n",
       "1                                NaN     10  Engineering & Transportation  \n",
       "2                       Beth Wiseman      9      Christian Books & Bibles  \n",
       "3                       Dave Bingham     26             Sports & Outdoors  \n",
       "4                    Choliz Montanes     11     Health, Fitness & Dieting  \n",
       "5                       John O'Brien     16                 Medical Books  \n",
       "6                  Martin Silberberg     23                Science & Math  \n",
       "7   Susan Newton MS  RN  AOCN  AOCNS     16                 Medical Books  \n",
       "8                    Carsten Krieger     29                        Travel  \n",
       "9                      Lonely Planet     29                        Travel  \n",
       "10                        Jeff Augen      2              Business & Money  \n",
       "11                       Rob Wanless      7        Cookbooks, Food & Wine  \n",
       "12                               NaN     19    Politics & Social Sciences  \n",
       "13                     Lora S. Irish      8        Crafts, Hobbies & Home  \n",
       "14                  Janice VanCleave      4              Children's Books  \n",
       "15            Christian K. Wedemeyer     21       Religion & Spirituality  \n",
       "16                        Sam Gindin      2              Business & Money  \n",
       "17                     Fern Michaels     15          Literature & Fiction  \n",
       "18                               NaN     11     Health, Fitness & Dieting  \n",
       "19                    John Singleton     23                Science & Math  "
      ]
     },
     "execution_count": 7,
     "metadata": {},
     "output_type": "execute_result"
    }
   ],
   "source": [
    "df_train.head(20)"
   ]
  },
  {
   "cell_type": "code",
   "execution_count": 8,
   "metadata": {},
   "outputs": [
    {
     "data": {
      "text/plain": [
       "array([\"Children's Books\", 'Engineering & Transportation',\n",
       "       'Christian Books & Bibles', 'Sports & Outdoors',\n",
       "       'Health, Fitness & Dieting', 'Medical Books', 'Science & Math',\n",
       "       'Travel', 'Business & Money', 'Cookbooks, Food & Wine',\n",
       "       'Politics & Social Sciences', 'Crafts, Hobbies & Home',\n",
       "       'Religion & Spirituality', 'Literature & Fiction',\n",
       "       'Humor & Entertainment', 'Law', 'Computers & Technology',\n",
       "       'Test Preparation', 'Biographies & Memoirs', 'Arts & Photography',\n",
       "       'Parenting & Relationships', 'Romance', 'History',\n",
       "       'Comics & Graphic Novels', 'Reference', 'Teen & Young Adult',\n",
       "       'Self-Help', 'Calendars', 'Science Fiction & Fantasy',\n",
       "       'Mystery, Thriller & Suspense'], dtype=object)"
      ]
     },
     "execution_count": 8,
     "metadata": {},
     "output_type": "execute_result"
    }
   ],
   "source": [
    "categories = df_train.genre.unique()\n",
    "categories"
   ]
  },
  {
   "cell_type": "code",
   "execution_count": null,
   "metadata": {},
   "outputs": [],
   "source": []
  },
  {
   "cell_type": "code",
   "execution_count": 9,
   "metadata": {},
   "outputs": [
    {
     "data": {
      "text/plain": [
       "array([ 4, 10,  9, 26, 11, 16, 23, 29,  2,  7, 19,  8, 21, 15, 13, 14,  6,\n",
       "       28,  1,  0, 18, 22, 12,  5, 20, 27, 25,  3, 24, 17], dtype=int64)"
      ]
     },
     "execution_count": 9,
     "metadata": {},
     "output_type": "execute_result"
    }
   ],
   "source": [
    "classes = df_train['class'].unique()\n",
    "classes"
   ]
  },
  {
   "cell_type": "code",
   "execution_count": 10,
   "metadata": {},
   "outputs": [],
   "source": [
    "categories_label = dict()\n",
    "for i in range(len(categories)):\n",
    "    categories_label[categories[i]] = classes[i]"
   ]
  },
  {
   "cell_type": "code",
   "execution_count": 11,
   "metadata": {},
   "outputs": [
    {
     "data": {
      "text/plain": [
       "{\"Children's Books\": 4,\n",
       " 'Engineering & Transportation': 10,\n",
       " 'Christian Books & Bibles': 9,\n",
       " 'Sports & Outdoors': 26,\n",
       " 'Health, Fitness & Dieting': 11,\n",
       " 'Medical Books': 16,\n",
       " 'Science & Math': 23,\n",
       " 'Travel': 29,\n",
       " 'Business & Money': 2,\n",
       " 'Cookbooks, Food & Wine': 7,\n",
       " 'Politics & Social Sciences': 19,\n",
       " 'Crafts, Hobbies & Home': 8,\n",
       " 'Religion & Spirituality': 21,\n",
       " 'Literature & Fiction': 15,\n",
       " 'Humor & Entertainment': 13,\n",
       " 'Law': 14,\n",
       " 'Computers & Technology': 6,\n",
       " 'Test Preparation': 28,\n",
       " 'Biographies & Memoirs': 1,\n",
       " 'Arts & Photography': 0,\n",
       " 'Parenting & Relationships': 18,\n",
       " 'Romance': 22,\n",
       " 'History': 12,\n",
       " 'Comics & Graphic Novels': 5,\n",
       " 'Reference': 20,\n",
       " 'Teen & Young Adult': 27,\n",
       " 'Self-Help': 25,\n",
       " 'Calendars': 3,\n",
       " 'Science Fiction & Fantasy': 24,\n",
       " 'Mystery, Thriller & Suspense': 17}"
      ]
     },
     "execution_count": 11,
     "metadata": {},
     "output_type": "execute_result"
    }
   ],
   "source": [
    "categories_label"
   ]
  },
  {
   "cell_type": "code",
   "execution_count": 12,
   "metadata": {},
   "outputs": [
    {
     "ename": "FileNotFoundError",
     "evalue": "[Errno 2] No such file or directory: 'C:\\\\Users\\\\batch-pc\\\\Documents\\\\Data science ft\\\\ds_ft_sep_22\\\\3-Machine_Learning\\\\Proyecto_ML\\\\Data\\\\book_master\\\\224x224\\\\1404803335.jpg'",
     "output_type": "error",
     "traceback": [
      "\u001b[1;31m---------------------------------------------------------------------------\u001b[0m",
      "\u001b[1;31mFileNotFoundError\u001b[0m                         Traceback (most recent call last)",
      "\u001b[1;32mc:\\Users\\batch-pc\\Documents\\Data science ft\\ds_ft_sep_22\\3-Machine_Learning\\Proyecto_ML\\Modelos\\proy_ML_XceptionMaster.ipynb Cell 13\u001b[0m in \u001b[0;36m<cell line: 2>\u001b[1;34m()\u001b[0m\n\u001b[0;32m      <a href='vscode-notebook-cell:/c%3A/Users/batch-pc/Documents/Data%20science%20ft/ds_ft_sep_22/3-Machine_Learning/Proyecto_ML/Modelos/proy_ML_XceptionMaster.ipynb#X15sZmlsZQ%3D%3D?line=0'>1</a>\u001b[0m \u001b[39mimport\u001b[39;00m \u001b[39mshutil\u001b[39;00m\n\u001b[0;32m      <a href='vscode-notebook-cell:/c%3A/Users/batch-pc/Documents/Data%20science%20ft/ds_ft_sep_22/3-Machine_Learning/Proyecto_ML/Modelos/proy_ML_XceptionMaster.ipynb#X15sZmlsZQ%3D%3D?line=1'>2</a>\u001b[0m \u001b[39mfor\u001b[39;00m image \u001b[39min\u001b[39;00m df_train[\u001b[39m'\u001b[39m\u001b[39mimage\u001b[39m\u001b[39m'\u001b[39m]:\n\u001b[1;32m----> <a href='vscode-notebook-cell:/c%3A/Users/batch-pc/Documents/Data%20science%20ft/ds_ft_sep_22/3-Machine_Learning/Proyecto_ML/Modelos/proy_ML_XceptionMaster.ipynb#X15sZmlsZQ%3D%3D?line=2'>3</a>\u001b[0m     shutil\u001b[39m.\u001b[39;49mcopy(PATH \u001b[39m+\u001b[39;49m \u001b[39m'\u001b[39;49m\u001b[39m\\\\\u001b[39;49;00m\u001b[39m'\u001b[39;49m \u001b[39m+\u001b[39;49m image, \n\u001b[0;32m      <a href='vscode-notebook-cell:/c%3A/Users/batch-pc/Documents/Data%20science%20ft/ds_ft_sep_22/3-Machine_Learning/Proyecto_ML/Modelos/proy_ML_XceptionMaster.ipynb#X15sZmlsZQ%3D%3D?line=3'>4</a>\u001b[0m                     \u001b[39mr\u001b[39;49m\u001b[39m'\u001b[39;49m\u001b[39mC:\u001b[39;49m\u001b[39m\\\u001b[39;49m\u001b[39mUsers\u001b[39;49m\u001b[39m\\\u001b[39;49m\u001b[39mbatch-pc\u001b[39;49m\u001b[39m\\\u001b[39;49m\u001b[39mDocuments\u001b[39;49m\u001b[39m\\\u001b[39;49m\u001b[39mData science ft\u001b[39;49m\u001b[39m\\\u001b[39;49m\u001b[39mds_ft_sep_22\u001b[39;49m\u001b[39m\\\u001b[39;49m\u001b[39m3-Machine_Learning\u001b[39;49m\u001b[39m\\\u001b[39;49m\u001b[39mProyecto_ML\u001b[39;49m\u001b[39m\\\u001b[39;49m\u001b[39mData\u001b[39;49m\u001b[39m\\\u001b[39;49m\u001b[39mbook_master\u001b[39;49m\u001b[39m\\\u001b[39;49m\u001b[39m224x224\u001b[39;49m\u001b[39m\\\u001b[39;49m\u001b[39mtrain\u001b[39;49m\u001b[39m'\u001b[39;49m)\n",
      "File \u001b[1;32mc:\\Users\\batch-pc\\anaconda3\\envs\\bootcamp_core\\lib\\shutil.py:427\u001b[0m, in \u001b[0;36mcopy\u001b[1;34m(src, dst, follow_symlinks)\u001b[0m\n\u001b[0;32m    425\u001b[0m \u001b[39mif\u001b[39;00m os\u001b[39m.\u001b[39mpath\u001b[39m.\u001b[39misdir(dst):\n\u001b[0;32m    426\u001b[0m     dst \u001b[39m=\u001b[39m os\u001b[39m.\u001b[39mpath\u001b[39m.\u001b[39mjoin(dst, os\u001b[39m.\u001b[39mpath\u001b[39m.\u001b[39mbasename(src))\n\u001b[1;32m--> 427\u001b[0m copyfile(src, dst, follow_symlinks\u001b[39m=\u001b[39;49mfollow_symlinks)\n\u001b[0;32m    428\u001b[0m copymode(src, dst, follow_symlinks\u001b[39m=\u001b[39mfollow_symlinks)\n\u001b[0;32m    429\u001b[0m \u001b[39mreturn\u001b[39;00m dst\n",
      "File \u001b[1;32mc:\\Users\\batch-pc\\anaconda3\\envs\\bootcamp_core\\lib\\shutil.py:264\u001b[0m, in \u001b[0;36mcopyfile\u001b[1;34m(src, dst, follow_symlinks)\u001b[0m\n\u001b[0;32m    262\u001b[0m     os\u001b[39m.\u001b[39msymlink(os\u001b[39m.\u001b[39mreadlink(src), dst)\n\u001b[0;32m    263\u001b[0m \u001b[39melse\u001b[39;00m:\n\u001b[1;32m--> 264\u001b[0m     \u001b[39mwith\u001b[39;00m \u001b[39mopen\u001b[39;49m(src, \u001b[39m'\u001b[39;49m\u001b[39mrb\u001b[39;49m\u001b[39m'\u001b[39;49m) \u001b[39mas\u001b[39;00m fsrc:\n\u001b[0;32m    265\u001b[0m         \u001b[39mtry\u001b[39;00m:\n\u001b[0;32m    266\u001b[0m             \u001b[39mwith\u001b[39;00m \u001b[39mopen\u001b[39m(dst, \u001b[39m'\u001b[39m\u001b[39mwb\u001b[39m\u001b[39m'\u001b[39m) \u001b[39mas\u001b[39;00m fdst:\n\u001b[0;32m    267\u001b[0m                 \u001b[39m# macOS\u001b[39;00m\n",
      "\u001b[1;31mFileNotFoundError\u001b[0m: [Errno 2] No such file or directory: 'C:\\\\Users\\\\batch-pc\\\\Documents\\\\Data science ft\\\\ds_ft_sep_22\\\\3-Machine_Learning\\\\Proyecto_ML\\\\Data\\\\book_master\\\\224x224\\\\1404803335.jpg'"
     ]
    }
   ],
   "source": [
    "import shutil\n",
    "for image in df_train['image']:\n",
    "    shutil.copy(PATH + '\\\\' + image, \n",
    "                    r'C:\\Users\\batch-pc\\Documents\\Data science ft\\ds_ft_sep_22\\3-Machine_Learning\\Proyecto_ML\\Data\\book_master\\224x224\\train')"
   ]
  },
  {
   "cell_type": "code",
   "execution_count": 15,
   "metadata": {},
   "outputs": [],
   "source": [
    "for image in df_test['image']:\n",
    "    shutil.copy(PATH + '\\\\' + image, \n",
    "                    r'C:\\Users\\batch-pc\\Documents\\Data science ft\\ds_ft_sep_22\\3-Machine_Learning\\Proyecto_ML\\Data\\book_master\\224x224\\test')"
   ]
  },
  {
   "cell_type": "code",
   "execution_count": 13,
   "metadata": {},
   "outputs": [
    {
     "data": {
      "text/plain": [
       "The Tibetan Book of the Dead                                                                                          4\n",
       "2015 Metropolitan Maps Wall Calendar TF Publishing {jg}                                                               3\n",
       "Dracula                                                                                                               3\n",
       "Private Independent Schools                                                                                           3\n",
       "Bankruptcy (University Casebook Series)                                                                               3\n",
       "                                                                                                                     ..\n",
       "Eyes to See: U.S. Volunteers in Nicaragua                                                                             1\n",
       "Key West: Part II (Volume 2)                                                                                          1\n",
       "E-Learning for Law Firms                                                                                              1\n",
       "Kodak Guide to Shooting Great Travel Pictures : The Most Authoritative Guide to Travel Photography for Vacationers    1\n",
       "Killer Takeout: A Key West Food Critic Mystery                                                                        1\n",
       "Name: name, Length: 51000, dtype: int64"
      ]
     },
     "execution_count": 13,
     "metadata": {},
     "output_type": "execute_result"
    }
   ],
   "source": [
    "df_train['name'].value_counts()"
   ]
  },
  {
   "cell_type": "code",
   "execution_count": 13,
   "metadata": {},
   "outputs": [],
   "source": [
    "df_train.drop_duplicates(subset='name',inplace=True)"
   ]
  },
  {
   "cell_type": "code",
   "execution_count": 14,
   "metadata": {},
   "outputs": [],
   "source": [
    "df_test.drop_duplicates(subset='name',inplace=True)"
   ]
  },
  {
   "cell_type": "code",
   "execution_count": 15,
   "metadata": {},
   "outputs": [
    {
     "data": {
      "text/plain": [
       "51000"
      ]
     },
     "execution_count": 15,
     "metadata": {},
     "output_type": "execute_result"
    }
   ],
   "source": [
    "len(df_train.name)"
   ]
  },
  {
   "cell_type": "code",
   "execution_count": 16,
   "metadata": {},
   "outputs": [
    {
     "data": {
      "text/html": [
       "<div>\n",
       "<style scoped>\n",
       "    .dataframe tbody tr th:only-of-type {\n",
       "        vertical-align: middle;\n",
       "    }\n",
       "\n",
       "    .dataframe tbody tr th {\n",
       "        vertical-align: top;\n",
       "    }\n",
       "\n",
       "    .dataframe thead th {\n",
       "        text-align: right;\n",
       "    }\n",
       "</style>\n",
       "<table border=\"1\" class=\"dataframe\">\n",
       "  <thead>\n",
       "    <tr style=\"text-align: right;\">\n",
       "      <th></th>\n",
       "      <th>id</th>\n",
       "      <th>image</th>\n",
       "      <th>link</th>\n",
       "      <th>name</th>\n",
       "      <th>author</th>\n",
       "      <th>class</th>\n",
       "      <th>genre</th>\n",
       "    </tr>\n",
       "  </thead>\n",
       "  <tbody>\n",
       "    <tr>\n",
       "      <th>0</th>\n",
       "      <td>1404803335</td>\n",
       "      <td>1404803335.jpg</td>\n",
       "      <td>http://ecx.images-amazon.com/images/I/51UJnL3T...</td>\n",
       "      <td>Magnets: Pulling Together, Pushing Apart (Amaz...</td>\n",
       "      <td>Natalie M. Rosinsky</td>\n",
       "      <td>4</td>\n",
       "      <td>Children's Books</td>\n",
       "    </tr>\n",
       "    <tr>\n",
       "      <th>1</th>\n",
       "      <td>1446276082</td>\n",
       "      <td>1446276082.jpg</td>\n",
       "      <td>http://ecx.images-amazon.com/images/I/51MGUKhk...</td>\n",
       "      <td>Energy Security (SAGE Library of International...</td>\n",
       "      <td>NaN</td>\n",
       "      <td>10</td>\n",
       "      <td>Engineering &amp; Transportation</td>\n",
       "    </tr>\n",
       "    <tr>\n",
       "      <th>2</th>\n",
       "      <td>1491522666</td>\n",
       "      <td>1491522666.jpg</td>\n",
       "      <td>http://ecx.images-amazon.com/images/I/51qKvjsi...</td>\n",
       "      <td>An Amish Gathering: Life in Lancaster County</td>\n",
       "      <td>Beth Wiseman</td>\n",
       "      <td>9</td>\n",
       "      <td>Christian Books &amp; Bibles</td>\n",
       "    </tr>\n",
       "    <tr>\n",
       "      <th>3</th>\n",
       "      <td>970096410</td>\n",
       "      <td>0970096410.jpg</td>\n",
       "      <td>http://ecx.images-amazon.com/images/I/51qoUENb...</td>\n",
       "      <td>City of Rocks Idaho: A Climber's Guide (Region...</td>\n",
       "      <td>Dave Bingham</td>\n",
       "      <td>26</td>\n",
       "      <td>Sports &amp; Outdoors</td>\n",
       "    </tr>\n",
       "    <tr>\n",
       "      <th>4</th>\n",
       "      <td>8436808053</td>\n",
       "      <td>8436808053.jpg</td>\n",
       "      <td>http://ecx.images-amazon.com/images/I/41aDW5pz...</td>\n",
       "      <td>Como vencer el insomnio. Tecnicas, reglas y co...</td>\n",
       "      <td>Choliz Montanes</td>\n",
       "      <td>11</td>\n",
       "      <td>Health, Fitness &amp; Dieting</td>\n",
       "    </tr>\n",
       "    <tr>\n",
       "      <th>5</th>\n",
       "      <td>1848291388</td>\n",
       "      <td>1848291388.jpg</td>\n",
       "      <td>http://ecx.images-amazon.com/images/I/51Lpg7xm...</td>\n",
       "      <td>John Martin Littlejohn: An Enigma of Osteopathy</td>\n",
       "      <td>John O'Brien</td>\n",
       "      <td>16</td>\n",
       "      <td>Medical Books</td>\n",
       "    </tr>\n",
       "    <tr>\n",
       "      <th>6</th>\n",
       "      <td>73402656</td>\n",
       "      <td>0073402656.jpg</td>\n",
       "      <td>http://ecx.images-amazon.com/images/I/51WccSzF...</td>\n",
       "      <td>Chemistry: The Molecular Nature of Matter and ...</td>\n",
       "      <td>Martin Silberberg</td>\n",
       "      <td>23</td>\n",
       "      <td>Science &amp; Math</td>\n",
       "    </tr>\n",
       "    <tr>\n",
       "      <th>7</th>\n",
       "      <td>323045979</td>\n",
       "      <td>0323045979.jpg</td>\n",
       "      <td>http://ecx.images-amazon.com/images/I/51rJir5E...</td>\n",
       "      <td>Mosby's Oncology Nursing Advisor: A Comprehens...</td>\n",
       "      <td>Susan Newton MS  RN  AOCN  AOCNS</td>\n",
       "      <td>16</td>\n",
       "      <td>Medical Books</td>\n",
       "    </tr>\n",
       "    <tr>\n",
       "      <th>8</th>\n",
       "      <td>1847176968</td>\n",
       "      <td>1847176968.jpg</td>\n",
       "      <td>http://ecx.images-amazon.com/images/I/61KoC743...</td>\n",
       "      <td>Ireland's Wild Atlantic Way</td>\n",
       "      <td>Carsten Krieger</td>\n",
       "      <td>29</td>\n",
       "      <td>Travel</td>\n",
       "    </tr>\n",
       "    <tr>\n",
       "      <th>9</th>\n",
       "      <td>1760342769</td>\n",
       "      <td>1760342769.jpg</td>\n",
       "      <td>http://ecx.images-amazon.com/images/I/515LqScy...</td>\n",
       "      <td>Lonely Planet Israel &amp; the Palestinian Territo...</td>\n",
       "      <td>Lonely Planet</td>\n",
       "      <td>29</td>\n",
       "      <td>Travel</td>\n",
       "    </tr>\n",
       "  </tbody>\n",
       "</table>\n",
       "</div>"
      ],
      "text/plain": [
       "           id           image  \\\n",
       "0  1404803335  1404803335.jpg   \n",
       "1  1446276082  1446276082.jpg   \n",
       "2  1491522666  1491522666.jpg   \n",
       "3   970096410  0970096410.jpg   \n",
       "4  8436808053  8436808053.jpg   \n",
       "5  1848291388  1848291388.jpg   \n",
       "6    73402656  0073402656.jpg   \n",
       "7   323045979  0323045979.jpg   \n",
       "8  1847176968  1847176968.jpg   \n",
       "9  1760342769  1760342769.jpg   \n",
       "\n",
       "                                                link  \\\n",
       "0  http://ecx.images-amazon.com/images/I/51UJnL3T...   \n",
       "1  http://ecx.images-amazon.com/images/I/51MGUKhk...   \n",
       "2  http://ecx.images-amazon.com/images/I/51qKvjsi...   \n",
       "3  http://ecx.images-amazon.com/images/I/51qoUENb...   \n",
       "4  http://ecx.images-amazon.com/images/I/41aDW5pz...   \n",
       "5  http://ecx.images-amazon.com/images/I/51Lpg7xm...   \n",
       "6  http://ecx.images-amazon.com/images/I/51WccSzF...   \n",
       "7  http://ecx.images-amazon.com/images/I/51rJir5E...   \n",
       "8  http://ecx.images-amazon.com/images/I/61KoC743...   \n",
       "9  http://ecx.images-amazon.com/images/I/515LqScy...   \n",
       "\n",
       "                                                name  \\\n",
       "0  Magnets: Pulling Together, Pushing Apart (Amaz...   \n",
       "1  Energy Security (SAGE Library of International...   \n",
       "2       An Amish Gathering: Life in Lancaster County   \n",
       "3  City of Rocks Idaho: A Climber's Guide (Region...   \n",
       "4  Como vencer el insomnio. Tecnicas, reglas y co...   \n",
       "5    John Martin Littlejohn: An Enigma of Osteopathy   \n",
       "6  Chemistry: The Molecular Nature of Matter and ...   \n",
       "7  Mosby's Oncology Nursing Advisor: A Comprehens...   \n",
       "8                        Ireland's Wild Atlantic Way   \n",
       "9  Lonely Planet Israel & the Palestinian Territo...   \n",
       "\n",
       "                             author  class                         genre  \n",
       "0               Natalie M. Rosinsky      4              Children's Books  \n",
       "1                               NaN     10  Engineering & Transportation  \n",
       "2                      Beth Wiseman      9      Christian Books & Bibles  \n",
       "3                      Dave Bingham     26             Sports & Outdoors  \n",
       "4                   Choliz Montanes     11     Health, Fitness & Dieting  \n",
       "5                      John O'Brien     16                 Medical Books  \n",
       "6                 Martin Silberberg     23                Science & Math  \n",
       "7  Susan Newton MS  RN  AOCN  AOCNS     16                 Medical Books  \n",
       "8                   Carsten Krieger     29                        Travel  \n",
       "9                     Lonely Planet     29                        Travel  "
      ]
     },
     "execution_count": 16,
     "metadata": {},
     "output_type": "execute_result"
    }
   ],
   "source": [
    "df_train.head(10)"
   ]
  },
  {
   "cell_type": "code",
   "execution_count": 17,
   "metadata": {},
   "outputs": [
    {
     "data": {
      "text/plain": [
       "{\"Children's Books\": 4,\n",
       " 'Engineering & Transportation': 10,\n",
       " 'Christian Books & Bibles': 9,\n",
       " 'Sports & Outdoors': 26,\n",
       " 'Health, Fitness & Dieting': 11,\n",
       " 'Medical Books': 16,\n",
       " 'Science & Math': 23,\n",
       " 'Travel': 29,\n",
       " 'Business & Money': 2,\n",
       " 'Cookbooks, Food & Wine': 7,\n",
       " 'Politics & Social Sciences': 19,\n",
       " 'Crafts, Hobbies & Home': 8,\n",
       " 'Religion & Spirituality': 21,\n",
       " 'Literature & Fiction': 15,\n",
       " 'Humor & Entertainment': 13,\n",
       " 'Law': 14,\n",
       " 'Computers & Technology': 6,\n",
       " 'Test Preparation': 28,\n",
       " 'Biographies & Memoirs': 1,\n",
       " 'Arts & Photography': 0,\n",
       " 'Parenting & Relationships': 18,\n",
       " 'Romance': 22,\n",
       " 'History': 12,\n",
       " 'Comics & Graphic Novels': 5,\n",
       " 'Reference': 20,\n",
       " 'Teen & Young Adult': 27,\n",
       " 'Self-Help': 25,\n",
       " 'Calendars': 3,\n",
       " 'Science Fiction & Fantasy': 24,\n",
       " 'Mystery, Thriller & Suspense': 17}"
      ]
     },
     "execution_count": 17,
     "metadata": {},
     "output_type": "execute_result"
    }
   ],
   "source": [
    "categories_label"
   ]
  },
  {
   "cell_type": "code",
   "execution_count": 18,
   "metadata": {},
   "outputs": [
    {
     "ename": "NameError",
     "evalue": "name 'genres' is not defined",
     "output_type": "error",
     "traceback": [
      "\u001b[1;31m---------------------------------------------------------------------------\u001b[0m",
      "\u001b[1;31mNameError\u001b[0m                                 Traceback (most recent call last)",
      "\u001b[1;32mc:\\Users\\batch-pc\\Documents\\Data science ft\\ds_ft_sep_22\\3-Machine_Learning\\Proyecto_ML\\Modelos\\proy_ML_XceptionMaster.ipynb Cell 21\u001b[0m in \u001b[0;36m<cell line: 1>\u001b[1;34m()\u001b[0m\n\u001b[1;32m----> <a href='vscode-notebook-cell:/c%3A/Users/batch-pc/Documents/Data%20science%20ft/ds_ft_sep_22/3-Machine_Learning/Proyecto_ML/Modelos/proy_ML_XceptionMaster.ipynb#X26sZmlsZQ%3D%3D?line=0'>1</a>\u001b[0m genres\n",
      "\u001b[1;31mNameError\u001b[0m: name 'genres' is not defined"
     ]
    }
   ],
   "source": [
    "genres"
   ]
  },
  {
   "cell_type": "code",
   "execution_count": 19,
   "metadata": {},
   "outputs": [
    {
     "data": {
      "text/plain": [
       "array([ 4, 10,  9, 26, 11, 16, 23, 29,  2,  7, 19,  8, 21, 15, 13, 14,  6,\n",
       "       28,  1,  0, 18, 22, 12,  5, 20, 27, 25,  3, 24, 17], dtype=int64)"
      ]
     },
     "execution_count": 19,
     "metadata": {},
     "output_type": "execute_result"
    }
   ],
   "source": [
    "classes"
   ]
  },
  {
   "attachments": {},
   "cell_type": "markdown",
   "metadata": {},
   "source": [
    "Prueba con 10 categorías:"
   ]
  },
  {
   "cell_type": "code",
   "execution_count": 20,
   "metadata": {},
   "outputs": [],
   "source": [
    "categories10 = np.array(['Sports & Outdoors','Medical Books', 'Science & Math',\n",
    "                        'Cookbooks, Food & Wine','Crafts, Hobbies & Home',\n",
    "                        'Religion & Spirituality', 'Arts & Photography',\n",
    "                        'Comics & Graphic Novels','Science Fiction & Fantasy',\n",
    "                        'Mystery, Thriller & Suspense'])"
   ]
  },
  {
   "cell_type": "code",
   "execution_count": 161,
   "metadata": {},
   "outputs": [],
   "source": [
    "classes10 = df_train10['class'].unique()"
   ]
  },
  {
   "cell_type": "code",
   "execution_count": 162,
   "metadata": {},
   "outputs": [
    {
     "data": {
      "text/plain": [
       "{'Sports & Outdoors': 26,\n",
       " 'Medical Books': 16,\n",
       " 'Science & Math': 23,\n",
       " 'Cookbooks, Food & Wine': 7,\n",
       " 'Crafts, Hobbies & Home': 8,\n",
       " 'Religion & Spirituality': 21,\n",
       " 'Arts & Photography': 0,\n",
       " 'Comics & Graphic Novels': 5,\n",
       " 'Science Fiction & Fantasy': 24,\n",
       " 'Mystery, Thriller & Suspense': 17}"
      ]
     },
     "execution_count": 162,
     "metadata": {},
     "output_type": "execute_result"
    }
   ],
   "source": [
    "categories_label10 = dict()\n",
    "for i in range(len(categories10)):\n",
    "    categories_label10[categories10[i]] = classes10[i]\n",
    "categories_label10"
   ]
  },
  {
   "cell_type": "code",
   "execution_count": 186,
   "metadata": {},
   "outputs": [],
   "source": [
    "list1 = [0,5,7,8,16,17,21,23,24,26]"
   ]
  },
  {
   "cell_type": "code",
   "execution_count": 18,
   "metadata": {},
   "outputs": [
    {
     "data": {
      "text/html": [
       "<div>\n",
       "<style scoped>\n",
       "    .dataframe tbody tr th:only-of-type {\n",
       "        vertical-align: middle;\n",
       "    }\n",
       "\n",
       "    .dataframe tbody tr th {\n",
       "        vertical-align: top;\n",
       "    }\n",
       "\n",
       "    .dataframe thead th {\n",
       "        text-align: right;\n",
       "    }\n",
       "</style>\n",
       "<table border=\"1\" class=\"dataframe\">\n",
       "  <thead>\n",
       "    <tr style=\"text-align: right;\">\n",
       "      <th></th>\n",
       "      <th>id</th>\n",
       "      <th>image</th>\n",
       "      <th>link</th>\n",
       "      <th>name</th>\n",
       "      <th>author</th>\n",
       "      <th>class</th>\n",
       "      <th>genre</th>\n",
       "    </tr>\n",
       "  </thead>\n",
       "  <tbody>\n",
       "    <tr>\n",
       "      <th>3</th>\n",
       "      <td>970096410</td>\n",
       "      <td>0970096410.jpg</td>\n",
       "      <td>http://ecx.images-amazon.com/images/I/51qoUENb...</td>\n",
       "      <td>City of Rocks Idaho: A Climber's Guide (Region...</td>\n",
       "      <td>Dave Bingham</td>\n",
       "      <td>26</td>\n",
       "      <td>Sports &amp; Outdoors</td>\n",
       "    </tr>\n",
       "    <tr>\n",
       "      <th>5</th>\n",
       "      <td>1848291388</td>\n",
       "      <td>1848291388.jpg</td>\n",
       "      <td>http://ecx.images-amazon.com/images/I/51Lpg7xm...</td>\n",
       "      <td>John Martin Littlejohn: An Enigma of Osteopathy</td>\n",
       "      <td>John O'Brien</td>\n",
       "      <td>16</td>\n",
       "      <td>Medical Books</td>\n",
       "    </tr>\n",
       "    <tr>\n",
       "      <th>6</th>\n",
       "      <td>73402656</td>\n",
       "      <td>0073402656.jpg</td>\n",
       "      <td>http://ecx.images-amazon.com/images/I/51WccSzF...</td>\n",
       "      <td>Chemistry: The Molecular Nature of Matter and ...</td>\n",
       "      <td>Martin Silberberg</td>\n",
       "      <td>23</td>\n",
       "      <td>Science &amp; Math</td>\n",
       "    </tr>\n",
       "    <tr>\n",
       "      <th>7</th>\n",
       "      <td>323045979</td>\n",
       "      <td>0323045979.jpg</td>\n",
       "      <td>http://ecx.images-amazon.com/images/I/51rJir5E...</td>\n",
       "      <td>Mosby's Oncology Nursing Advisor: A Comprehens...</td>\n",
       "      <td>Susan Newton MS  RN  AOCN  AOCNS</td>\n",
       "      <td>16</td>\n",
       "      <td>Medical Books</td>\n",
       "    </tr>\n",
       "    <tr>\n",
       "      <th>11</th>\n",
       "      <td>806965339</td>\n",
       "      <td>0806965339.jpg</td>\n",
       "      <td>http://ecx.images-amazon.com/images/I/71SDZJBG...</td>\n",
       "      <td>Breads, Cakes, Rolls &amp; More from Your Bread Ma...</td>\n",
       "      <td>Rob Wanless</td>\n",
       "      <td>7</td>\n",
       "      <td>Cookbooks, Food &amp; Wine</td>\n",
       "    </tr>\n",
       "    <tr>\n",
       "      <th>...</th>\n",
       "      <td>...</td>\n",
       "      <td>...</td>\n",
       "      <td>...</td>\n",
       "      <td>...</td>\n",
       "      <td>...</td>\n",
       "      <td>...</td>\n",
       "      <td>...</td>\n",
       "    </tr>\n",
       "    <tr>\n",
       "      <th>51294</th>\n",
       "      <td>399176055</td>\n",
       "      <td>0399176055.jpg</td>\n",
       "      <td>http://ecx.images-amazon.com/images/I/51iT8yFN...</td>\n",
       "      <td>Extreme Prey</td>\n",
       "      <td>John Sandford</td>\n",
       "      <td>17</td>\n",
       "      <td>Mystery, Thriller &amp; Suspense</td>\n",
       "    </tr>\n",
       "    <tr>\n",
       "      <th>51295</th>\n",
       "      <td>719816629</td>\n",
       "      <td>0719816629.jpg</td>\n",
       "      <td>http://ecx.images-amazon.com/images/I/51Z%2B3H...</td>\n",
       "      <td>The Crime Writer's Guide to Police Practice an...</td>\n",
       "      <td>Michael O'Byrne</td>\n",
       "      <td>17</td>\n",
       "      <td>Mystery, Thriller &amp; Suspense</td>\n",
       "    </tr>\n",
       "    <tr>\n",
       "      <th>51296</th>\n",
       "      <td>385353596</td>\n",
       "      <td>0385353596.jpg</td>\n",
       "      <td>http://ecx.images-amazon.com/images/I/51iNYVpL...</td>\n",
       "      <td>The Jezebel Remedy: A novel</td>\n",
       "      <td>Martin Clark</td>\n",
       "      <td>17</td>\n",
       "      <td>Mystery, Thriller &amp; Suspense</td>\n",
       "    </tr>\n",
       "    <tr>\n",
       "      <th>51297</th>\n",
       "      <td>1475988559</td>\n",
       "      <td>1475988559.jpg</td>\n",
       "      <td>http://ecx.images-amazon.com/images/I/41eQk3x-...</td>\n",
       "      <td>Startup</td>\n",
       "      <td>Glenn Ogura</td>\n",
       "      <td>17</td>\n",
       "      <td>Mystery, Thriller &amp; Suspense</td>\n",
       "    </tr>\n",
       "    <tr>\n",
       "      <th>51298</th>\n",
       "      <td>045147483X</td>\n",
       "      <td>045147483X.jpg</td>\n",
       "      <td>http://ecx.images-amazon.com/images/I/51TOklf%...</td>\n",
       "      <td>Killer Takeout: A Key West Food Critic Mystery</td>\n",
       "      <td>Lucy Burdette</td>\n",
       "      <td>17</td>\n",
       "      <td>Mystery, Thriller &amp; Suspense</td>\n",
       "    </tr>\n",
       "  </tbody>\n",
       "</table>\n",
       "<p>17027 rows × 7 columns</p>\n",
       "</div>"
      ],
      "text/plain": [
       "               id           image  \\\n",
       "3       970096410  0970096410.jpg   \n",
       "5      1848291388  1848291388.jpg   \n",
       "6        73402656  0073402656.jpg   \n",
       "7       323045979  0323045979.jpg   \n",
       "11      806965339  0806965339.jpg   \n",
       "...           ...             ...   \n",
       "51294   399176055  0399176055.jpg   \n",
       "51295   719816629  0719816629.jpg   \n",
       "51296   385353596  0385353596.jpg   \n",
       "51297  1475988559  1475988559.jpg   \n",
       "51298  045147483X  045147483X.jpg   \n",
       "\n",
       "                                                    link  \\\n",
       "3      http://ecx.images-amazon.com/images/I/51qoUENb...   \n",
       "5      http://ecx.images-amazon.com/images/I/51Lpg7xm...   \n",
       "6      http://ecx.images-amazon.com/images/I/51WccSzF...   \n",
       "7      http://ecx.images-amazon.com/images/I/51rJir5E...   \n",
       "11     http://ecx.images-amazon.com/images/I/71SDZJBG...   \n",
       "...                                                  ...   \n",
       "51294  http://ecx.images-amazon.com/images/I/51iT8yFN...   \n",
       "51295  http://ecx.images-amazon.com/images/I/51Z%2B3H...   \n",
       "51296  http://ecx.images-amazon.com/images/I/51iNYVpL...   \n",
       "51297  http://ecx.images-amazon.com/images/I/41eQk3x-...   \n",
       "51298  http://ecx.images-amazon.com/images/I/51TOklf%...   \n",
       "\n",
       "                                                    name  \\\n",
       "3      City of Rocks Idaho: A Climber's Guide (Region...   \n",
       "5        John Martin Littlejohn: An Enigma of Osteopathy   \n",
       "6      Chemistry: The Molecular Nature of Matter and ...   \n",
       "7      Mosby's Oncology Nursing Advisor: A Comprehens...   \n",
       "11     Breads, Cakes, Rolls & More from Your Bread Ma...   \n",
       "...                                                  ...   \n",
       "51294                                       Extreme Prey   \n",
       "51295  The Crime Writer's Guide to Police Practice an...   \n",
       "51296                        The Jezebel Remedy: A novel   \n",
       "51297                                            Startup   \n",
       "51298     Killer Takeout: A Key West Food Critic Mystery   \n",
       "\n",
       "                                 author  class                         genre  \n",
       "3                          Dave Bingham     26             Sports & Outdoors  \n",
       "5                          John O'Brien     16                 Medical Books  \n",
       "6                     Martin Silberberg     23                Science & Math  \n",
       "7      Susan Newton MS  RN  AOCN  AOCNS     16                 Medical Books  \n",
       "11                          Rob Wanless      7        Cookbooks, Food & Wine  \n",
       "...                                 ...    ...                           ...  \n",
       "51294                     John Sandford     17  Mystery, Thriller & Suspense  \n",
       "51295                   Michael O'Byrne     17  Mystery, Thriller & Suspense  \n",
       "51296                      Martin Clark     17  Mystery, Thriller & Suspense  \n",
       "51297                       Glenn Ogura     17  Mystery, Thriller & Suspense  \n",
       "51298                     Lucy Burdette     17  Mystery, Thriller & Suspense  \n",
       "\n",
       "[17027 rows x 7 columns]"
      ]
     },
     "execution_count": 18,
     "metadata": {},
     "output_type": "execute_result"
    }
   ],
   "source": [
    "df_train10 = df_train.loc[(df_train['genre'].isin(['Sports & Outdoors','Medical Books', 'Science & Math',\n",
    "                        'Cookbooks, Food & Wine','Crafts, Hobbies & Home',\n",
    "                        'Religion & Spirituality', 'Arts & Photography',\n",
    "                        'Comics & Graphic Novels','Science Fiction & Fantasy',\n",
    "                        'Mystery, Thriller & Suspense']))]\n",
    "df_train10"
   ]
  },
  {
   "cell_type": "code",
   "execution_count": 19,
   "metadata": {},
   "outputs": [
    {
     "data": {
      "text/html": [
       "<div>\n",
       "<style scoped>\n",
       "    .dataframe tbody tr th:only-of-type {\n",
       "        vertical-align: middle;\n",
       "    }\n",
       "\n",
       "    .dataframe tbody tr th {\n",
       "        vertical-align: top;\n",
       "    }\n",
       "\n",
       "    .dataframe thead th {\n",
       "        text-align: right;\n",
       "    }\n",
       "</style>\n",
       "<table border=\"1\" class=\"dataframe\">\n",
       "  <thead>\n",
       "    <tr style=\"text-align: right;\">\n",
       "      <th></th>\n",
       "      <th>id</th>\n",
       "      <th>image</th>\n",
       "      <th>link</th>\n",
       "      <th>name</th>\n",
       "      <th>author</th>\n",
       "      <th>class</th>\n",
       "      <th>genre</th>\n",
       "    </tr>\n",
       "  </thead>\n",
       "  <tbody>\n",
       "    <tr>\n",
       "      <th>2</th>\n",
       "      <td>1580237959</td>\n",
       "      <td>1580237959.jpg</td>\n",
       "      <td>http://ecx.images-amazon.com/images/I/51pum0eW...</td>\n",
       "      <td>A Partner in Holiness: Deepening Mindfulness, ...</td>\n",
       "      <td>Rabbi Jonathan P. Slater DMin</td>\n",
       "      <td>21</td>\n",
       "      <td>Religion &amp; Spirituality</td>\n",
       "    </tr>\n",
       "    <tr>\n",
       "      <th>3</th>\n",
       "      <td>135137829</td>\n",
       "      <td>0135137829.jpg</td>\n",
       "      <td>http://ecx.images-amazon.com/images/I/51PuTPPC...</td>\n",
       "      <td>Construction Scheduling: Principles and Practi...</td>\n",
       "      <td>Jay S. Newitt</td>\n",
       "      <td>0</td>\n",
       "      <td>Arts &amp; Photography</td>\n",
       "    </tr>\n",
       "    <tr>\n",
       "      <th>6</th>\n",
       "      <td>521456924</td>\n",
       "      <td>0521456924.jpg</td>\n",
       "      <td>http://ecx.images-amazon.com/images/I/41n7iZq-...</td>\n",
       "      <td>Diagrammatica: The Path to Feynman Diagrams (C...</td>\n",
       "      <td>Martinus Veltman</td>\n",
       "      <td>23</td>\n",
       "      <td>Science &amp; Math</td>\n",
       "    </tr>\n",
       "    <tr>\n",
       "      <th>15</th>\n",
       "      <td>962904201</td>\n",
       "      <td>0962904201.jpg</td>\n",
       "      <td>http://ecx.images-amazon.com/images/I/51bWdcsb...</td>\n",
       "      <td>Oregon High: A Climbing Guide to Nine Cascade ...</td>\n",
       "      <td>Jeff Thomas</td>\n",
       "      <td>26</td>\n",
       "      <td>Sports &amp; Outdoors</td>\n",
       "    </tr>\n",
       "    <tr>\n",
       "      <th>17</th>\n",
       "      <td>1514196239</td>\n",
       "      <td>1514196239.jpg</td>\n",
       "      <td>http://ecx.images-amazon.com/images/I/5178fq2D...</td>\n",
       "      <td>Anti Inflammatory Cookbook - 50 Slow Cooker Re...</td>\n",
       "      <td>Kate Marsh</td>\n",
       "      <td>7</td>\n",
       "      <td>Cookbooks, Food &amp; Wine</td>\n",
       "    </tr>\n",
       "    <tr>\n",
       "      <th>...</th>\n",
       "      <td>...</td>\n",
       "      <td>...</td>\n",
       "      <td>...</td>\n",
       "      <td>...</td>\n",
       "      <td>...</td>\n",
       "      <td>...</td>\n",
       "      <td>...</td>\n",
       "    </tr>\n",
       "    <tr>\n",
       "      <th>5694</th>\n",
       "      <td>399174680</td>\n",
       "      <td>0399174680.jpg</td>\n",
       "      <td>http://ecx.images-amazon.com/images/I/51JLVnuX...</td>\n",
       "      <td>Scandalous Behavior (A Stone Barrington Novel)</td>\n",
       "      <td>Stuart Woods</td>\n",
       "      <td>17</td>\n",
       "      <td>Mystery, Thriller &amp; Suspense</td>\n",
       "    </tr>\n",
       "    <tr>\n",
       "      <th>5695</th>\n",
       "      <td>1939454654</td>\n",
       "      <td>1939454654.jpg</td>\n",
       "      <td>http://ecx.images-amazon.com/images/I/417gaArF...</td>\n",
       "      <td>Age of Distraction: The Island</td>\n",
       "      <td>Patricia Mahon</td>\n",
       "      <td>17</td>\n",
       "      <td>Mystery, Thriller &amp; Suspense</td>\n",
       "    </tr>\n",
       "    <tr>\n",
       "      <th>5696</th>\n",
       "      <td>1604601604</td>\n",
       "      <td>1604601604.jpg</td>\n",
       "      <td>http://ecx.images-amazon.com/images/I/51BJw1DW...</td>\n",
       "      <td>The Ghostly Quilts on Main (Colebridge Communi...</td>\n",
       "      <td>Ann Hazelwood</td>\n",
       "      <td>17</td>\n",
       "      <td>Mystery, Thriller &amp; Suspense</td>\n",
       "    </tr>\n",
       "    <tr>\n",
       "      <th>5697</th>\n",
       "      <td>399166726</td>\n",
       "      <td>0399166726.jpg</td>\n",
       "      <td>http://ecx.images-amazon.com/images/I/51IQRzWX...</td>\n",
       "      <td>Saving Jason (A Jason Stafford Novel)</td>\n",
       "      <td>Michael Sears</td>\n",
       "      <td>17</td>\n",
       "      <td>Mystery, Thriller &amp; Suspense</td>\n",
       "    </tr>\n",
       "    <tr>\n",
       "      <th>5698</th>\n",
       "      <td>62073508</td>\n",
       "      <td>0062073508.jpg</td>\n",
       "      <td>http://ecx.images-amazon.com/images/I/51yRHldu...</td>\n",
       "      <td>Murder on the Orient Express: A Hercule Poirot...</td>\n",
       "      <td>Agatha Christie</td>\n",
       "      <td>17</td>\n",
       "      <td>Mystery, Thriller &amp; Suspense</td>\n",
       "    </tr>\n",
       "  </tbody>\n",
       "</table>\n",
       "<p>1899 rows × 7 columns</p>\n",
       "</div>"
      ],
      "text/plain": [
       "              id           image  \\\n",
       "2     1580237959  1580237959.jpg   \n",
       "3      135137829  0135137829.jpg   \n",
       "6      521456924  0521456924.jpg   \n",
       "15     962904201  0962904201.jpg   \n",
       "17    1514196239  1514196239.jpg   \n",
       "...          ...             ...   \n",
       "5694   399174680  0399174680.jpg   \n",
       "5695  1939454654  1939454654.jpg   \n",
       "5696  1604601604  1604601604.jpg   \n",
       "5697   399166726  0399166726.jpg   \n",
       "5698    62073508  0062073508.jpg   \n",
       "\n",
       "                                                   link  \\\n",
       "2     http://ecx.images-amazon.com/images/I/51pum0eW...   \n",
       "3     http://ecx.images-amazon.com/images/I/51PuTPPC...   \n",
       "6     http://ecx.images-amazon.com/images/I/41n7iZq-...   \n",
       "15    http://ecx.images-amazon.com/images/I/51bWdcsb...   \n",
       "17    http://ecx.images-amazon.com/images/I/5178fq2D...   \n",
       "...                                                 ...   \n",
       "5694  http://ecx.images-amazon.com/images/I/51JLVnuX...   \n",
       "5695  http://ecx.images-amazon.com/images/I/417gaArF...   \n",
       "5696  http://ecx.images-amazon.com/images/I/51BJw1DW...   \n",
       "5697  http://ecx.images-amazon.com/images/I/51IQRzWX...   \n",
       "5698  http://ecx.images-amazon.com/images/I/51yRHldu...   \n",
       "\n",
       "                                                   name  \\\n",
       "2     A Partner in Holiness: Deepening Mindfulness, ...   \n",
       "3     Construction Scheduling: Principles and Practi...   \n",
       "6     Diagrammatica: The Path to Feynman Diagrams (C...   \n",
       "15    Oregon High: A Climbing Guide to Nine Cascade ...   \n",
       "17    Anti Inflammatory Cookbook - 50 Slow Cooker Re...   \n",
       "...                                                 ...   \n",
       "5694     Scandalous Behavior (A Stone Barrington Novel)   \n",
       "5695                     Age of Distraction: The Island   \n",
       "5696  The Ghostly Quilts on Main (Colebridge Communi...   \n",
       "5697              Saving Jason (A Jason Stafford Novel)   \n",
       "5698  Murder on the Orient Express: A Hercule Poirot...   \n",
       "\n",
       "                             author  class                         genre  \n",
       "2     Rabbi Jonathan P. Slater DMin     21       Religion & Spirituality  \n",
       "3                     Jay S. Newitt      0            Arts & Photography  \n",
       "6                  Martinus Veltman     23                Science & Math  \n",
       "15                      Jeff Thomas     26             Sports & Outdoors  \n",
       "17                       Kate Marsh      7        Cookbooks, Food & Wine  \n",
       "...                             ...    ...                           ...  \n",
       "5694                   Stuart Woods     17  Mystery, Thriller & Suspense  \n",
       "5695                 Patricia Mahon     17  Mystery, Thriller & Suspense  \n",
       "5696                  Ann Hazelwood     17  Mystery, Thriller & Suspense  \n",
       "5697                  Michael Sears     17  Mystery, Thriller & Suspense  \n",
       "5698                Agatha Christie     17  Mystery, Thriller & Suspense  \n",
       "\n",
       "[1899 rows x 7 columns]"
      ]
     },
     "execution_count": 19,
     "metadata": {},
     "output_type": "execute_result"
    }
   ],
   "source": [
    "df_test10 = df_test.loc[(df_test['genre'].isin(['Sports & Outdoors','Medical Books', 'Science & Math',\n",
    "                        'Cookbooks, Food & Wine','Crafts, Hobbies & Home',\n",
    "                        'Religion & Spirituality', 'Arts & Photography',\n",
    "                        'Comics & Graphic Novels','Science Fiction & Fantasy',\n",
    "                        'Mystery, Thriller & Suspense']))]\n",
    "df_test10"
   ]
  },
  {
   "cell_type": "code",
   "execution_count": 24,
   "metadata": {},
   "outputs": [
    {
     "ename": "NameError",
     "evalue": "name 'df_train10' is not defined",
     "output_type": "error",
     "traceback": [
      "\u001b[1;31m---------------------------------------------------------------------------\u001b[0m",
      "\u001b[1;31mNameError\u001b[0m                                 Traceback (most recent call last)",
      "\u001b[1;32mc:\\Users\\batch-pc\\Documents\\Data science ft\\ds_ft_sep_22\\3-Machine_Learning\\Proyecto_ML\\Modelos\\proy_ML_XceptionMaster.ipynb Cell 30\u001b[0m in \u001b[0;36m<cell line: 13>\u001b[1;34m()\u001b[0m\n\u001b[0;32m      <a href='vscode-notebook-cell:/c%3A/Users/batch-pc/Documents/Data%20science%20ft/ds_ft_sep_22/3-Machine_Learning/Proyecto_ML/Modelos/proy_ML_XceptionMaster.ipynb#X41sZmlsZQ%3D%3D?line=4'>5</a>\u001b[0m train_datagen \u001b[39m=\u001b[39m ImageDataGenerator(\n\u001b[0;32m      <a href='vscode-notebook-cell:/c%3A/Users/batch-pc/Documents/Data%20science%20ft/ds_ft_sep_22/3-Machine_Learning/Proyecto_ML/Modelos/proy_ML_XceptionMaster.ipynb#X41sZmlsZQ%3D%3D?line=5'>6</a>\u001b[0m                                     rescale\u001b[39m=\u001b[39m\u001b[39m1.\u001b[39m\u001b[39m/\u001b[39m\u001b[39m255\u001b[39m,\n\u001b[0;32m      <a href='vscode-notebook-cell:/c%3A/Users/batch-pc/Documents/Data%20science%20ft/ds_ft_sep_22/3-Machine_Learning/Proyecto_ML/Modelos/proy_ML_XceptionMaster.ipynb#X41sZmlsZQ%3D%3D?line=6'>7</a>\u001b[0m                                     shear_range\u001b[39m=\u001b[39m\u001b[39m0.2\u001b[39m,\n\u001b[1;32m   (...)\u001b[0m\n\u001b[0;32m     <a href='vscode-notebook-cell:/c%3A/Users/batch-pc/Documents/Data%20science%20ft/ds_ft_sep_22/3-Machine_Learning/Proyecto_ML/Modelos/proy_ML_XceptionMaster.ipynb#X41sZmlsZQ%3D%3D?line=9'>10</a>\u001b[0m                                     validation_split\u001b[39m=\u001b[39m\u001b[39m0.1\u001b[39m\n\u001b[0;32m     <a href='vscode-notebook-cell:/c%3A/Users/batch-pc/Documents/Data%20science%20ft/ds_ft_sep_22/3-Machine_Learning/Proyecto_ML/Modelos/proy_ML_XceptionMaster.ipynb#X41sZmlsZQ%3D%3D?line=10'>11</a>\u001b[0m                                   )\n\u001b[0;32m     <a href='vscode-notebook-cell:/c%3A/Users/batch-pc/Documents/Data%20science%20ft/ds_ft_sep_22/3-Machine_Learning/Proyecto_ML/Modelos/proy_ML_XceptionMaster.ipynb#X41sZmlsZQ%3D%3D?line=11'>12</a>\u001b[0m \u001b[39m#usar flow o organizar las categorias en carpetas?\u001b[39;00m\n\u001b[1;32m---> <a href='vscode-notebook-cell:/c%3A/Users/batch-pc/Documents/Data%20science%20ft/ds_ft_sep_22/3-Machine_Learning/Proyecto_ML/Modelos/proy_ML_XceptionMaster.ipynb#X41sZmlsZQ%3D%3D?line=12'>13</a>\u001b[0m train_generator \u001b[39m=\u001b[39m train_datagen\u001b[39m.\u001b[39mflow_from_dataframe(dataframe\u001b[39m=\u001b[39mdf_train10, directory\u001b[39m=\u001b[39m\u001b[39m'\u001b[39m\u001b[39mdata/train/\u001b[39m\u001b[39m'\u001b[39m, class_mode\u001b[39m=\u001b[39m\u001b[39m'\u001b[39m\u001b[39mcategorical\u001b[39m\u001b[39m'\u001b[39m,\n\u001b[0;32m     <a href='vscode-notebook-cell:/c%3A/Users/batch-pc/Documents/Data%20science%20ft/ds_ft_sep_22/3-Machine_Learning/Proyecto_ML/Modelos/proy_ML_XceptionMaster.ipynb#X41sZmlsZQ%3D%3D?line=13'>14</a>\u001b[0m                                                     x_col \u001b[39m=\u001b[39m \u001b[39m'\u001b[39m\u001b[39mimage\u001b[39m\u001b[39m'\u001b[39m, y_col \u001b[39m=\u001b[39m \u001b[39m'\u001b[39m\u001b[39mgenre\u001b[39m\u001b[39m'\u001b[39m,\n\u001b[0;32m     <a href='vscode-notebook-cell:/c%3A/Users/batch-pc/Documents/Data%20science%20ft/ds_ft_sep_22/3-Machine_Learning/Proyecto_ML/Modelos/proy_ML_XceptionMaster.ipynb#X41sZmlsZQ%3D%3D?line=14'>15</a>\u001b[0m                                                     batch_size \u001b[39m=\u001b[39m batch_size, target_size\u001b[39m=\u001b[39m(image_size,image_size), \n\u001b[0;32m     <a href='vscode-notebook-cell:/c%3A/Users/batch-pc/Documents/Data%20science%20ft/ds_ft_sep_22/3-Machine_Learning/Proyecto_ML/Modelos/proy_ML_XceptionMaster.ipynb#X41sZmlsZQ%3D%3D?line=15'>16</a>\u001b[0m                                                     subset \u001b[39m=\u001b[39m \u001b[39m'\u001b[39m\u001b[39mtraining\u001b[39m\u001b[39m'\u001b[39m, shuffle\u001b[39m=\u001b[39m\u001b[39mTrue\u001b[39;00m, seed\u001b[39m=\u001b[39m\u001b[39m42\u001b[39m)\n\u001b[0;32m     <a href='vscode-notebook-cell:/c%3A/Users/batch-pc/Documents/Data%20science%20ft/ds_ft_sep_22/3-Machine_Learning/Proyecto_ML/Modelos/proy_ML_XceptionMaster.ipynb#X41sZmlsZQ%3D%3D?line=16'>17</a>\u001b[0m validation_generator \u001b[39m=\u001b[39m train_datagen\u001b[39m.\u001b[39mflow_from_dataframe(dataframe\u001b[39m=\u001b[39mdf_train10, directory\u001b[39m=\u001b[39m\u001b[39m'\u001b[39m\u001b[39mdata/train/\u001b[39m\u001b[39m'\u001b[39m, class_mode\u001b[39m=\u001b[39m\u001b[39m'\u001b[39m\u001b[39mcategorical\u001b[39m\u001b[39m'\u001b[39m,\n\u001b[0;32m     <a href='vscode-notebook-cell:/c%3A/Users/batch-pc/Documents/Data%20science%20ft/ds_ft_sep_22/3-Machine_Learning/Proyecto_ML/Modelos/proy_ML_XceptionMaster.ipynb#X41sZmlsZQ%3D%3D?line=17'>18</a>\u001b[0m                                                         x_col \u001b[39m=\u001b[39m \u001b[39m'\u001b[39m\u001b[39mimage\u001b[39m\u001b[39m'\u001b[39m, y_col \u001b[39m=\u001b[39m \u001b[39m'\u001b[39m\u001b[39mgenre\u001b[39m\u001b[39m'\u001b[39m,\n\u001b[0;32m     <a href='vscode-notebook-cell:/c%3A/Users/batch-pc/Documents/Data%20science%20ft/ds_ft_sep_22/3-Machine_Learning/Proyecto_ML/Modelos/proy_ML_XceptionMaster.ipynb#X41sZmlsZQ%3D%3D?line=18'>19</a>\u001b[0m                                                         batch_size \u001b[39m=\u001b[39m batch_size, target_size\u001b[39m=\u001b[39m(image_size,image_size),\n\u001b[0;32m     <a href='vscode-notebook-cell:/c%3A/Users/batch-pc/Documents/Data%20science%20ft/ds_ft_sep_22/3-Machine_Learning/Proyecto_ML/Modelos/proy_ML_XceptionMaster.ipynb#X41sZmlsZQ%3D%3D?line=19'>20</a>\u001b[0m                                                         subset \u001b[39m=\u001b[39m \u001b[39m'\u001b[39m\u001b[39mvalidation\u001b[39m\u001b[39m'\u001b[39m, shuffle \u001b[39m=\u001b[39m \u001b[39mTrue\u001b[39;00m, seed\u001b[39m=\u001b[39m\u001b[39m42\u001b[39m)\n\u001b[0;32m     <a href='vscode-notebook-cell:/c%3A/Users/batch-pc/Documents/Data%20science%20ft/ds_ft_sep_22/3-Machine_Learning/Proyecto_ML/Modelos/proy_ML_XceptionMaster.ipynb#X41sZmlsZQ%3D%3D?line=20'>21</a>\u001b[0m test_datagen \u001b[39m=\u001b[39m ImageDataGenerator(rescale\u001b[39m=\u001b[39m\u001b[39m1.\u001b[39m\u001b[39m/\u001b[39m\u001b[39m255\u001b[39m)\n",
      "\u001b[1;31mNameError\u001b[0m: name 'df_train10' is not defined"
     ]
    }
   ],
   "source": [
    "image_size = 224\n",
    "batch_size = 64\n",
    "epochs = 20\n",
    "\n",
    "train_datagen = ImageDataGenerator(\n",
    "                                    rescale=1./255,\n",
    "                                    shear_range=0.2,\n",
    "                                    zoom_range=0.2,\n",
    "                                    horizontal_flip=True,\n",
    "                                    validation_split=0.1\n",
    "                                  )\n",
    "#usar flow o organizar las categorias en carpetas?\n",
    "train_generator = train_datagen.flow_from_dataframe(dataframe=df_train10, directory='data/train/', class_mode='categorical',\n",
    "                                                    x_col = 'image', y_col = 'genre',\n",
    "                                                    batch_size = batch_size, target_size=(image_size,image_size), \n",
    "                                                    subset = 'training', shuffle=True, seed=42)\n",
    "validation_generator = train_datagen.flow_from_dataframe(dataframe=df_train10, directory='data/train/', class_mode='categorical',\n",
    "                                                        x_col = 'image', y_col = 'genre',\n",
    "                                                        batch_size = batch_size, target_size=(image_size,image_size),\n",
    "                                                        subset = 'validation', shuffle = True, seed=42)\n",
    "test_datagen = ImageDataGenerator(rescale=1./255)"
   ]
  },
  {
   "cell_type": "code",
   "execution_count": 29,
   "metadata": {},
   "outputs": [
    {
     "name": "stdout",
     "output_type": "stream",
     "text": [
      "Model: \"sequential_1\"\n",
      "_________________________________________________________________\n",
      " Layer (type)                Output Shape              Param #   \n",
      "=================================================================\n",
      " xception (Functional)       (None, 2048)              20861480  \n",
      "                                                                 \n",
      " flatten_1 (Flatten)         (None, 2048)              0         \n",
      "                                                                 \n",
      " dense_4 (Dense)             (None, 2048)              4196352   \n",
      "                                                                 \n",
      " dropout_3 (Dropout)         (None, 2048)              0         \n",
      "                                                                 \n",
      " dense_5 (Dense)             (None, 1024)              2098176   \n",
      "                                                                 \n",
      " dropout_4 (Dropout)         (None, 1024)              0         \n",
      "                                                                 \n",
      " dense_6 (Dense)             (None, 512)               524800    \n",
      "                                                                 \n",
      " dropout_5 (Dropout)         (None, 512)               0         \n",
      "                                                                 \n",
      " dense_7 (Dense)             (None, 10)                5130      \n",
      "                                                                 \n",
      "=================================================================\n",
      "Total params: 27,685,938\n",
      "Trainable params: 6,824,458\n",
      "Non-trainable params: 20,861,480\n",
      "_________________________________________________________________\n"
     ]
    }
   ],
   "source": [
    "xception_model = tf.keras.applications.xception.Xception(\n",
    "    include_top=False,\n",
    "    weights='imagenet',\n",
    "    input_tensor=None,\n",
    "    input_shape=(224, 224, 3),\n",
    "    pooling='avg',\n",
    "    classes=30,\n",
    "    classifier_activation='softmax'\n",
    "    )\n",
    "tf.random.set_seed(73)\n",
    "model = Sequential()\n",
    "model.add(xception_model)\n",
    "model.add(Flatten()) \n",
    "model.add(Dense(units=2048, activation=\"relu\"))\n",
    "model.add(Dropout(0.2))\n",
    "model.add(Dense(units=1024, activation='relu'))\n",
    "model.add(Dropout(0.2))\n",
    "model.add(Dense(units=512, activation='relu'))\n",
    "model.add(Dropout(0.2))\n",
    "model.add(Dense(10, activation='softmax'))\n",
    "model.layers[0].trainable=False\n",
    "model.summary()"
   ]
  },
  {
   "cell_type": "code",
   "execution_count": 30,
   "metadata": {},
   "outputs": [],
   "source": [
    "model.compile(loss='categorical_crossentropy', optimizer=tf.keras.optimizers.Adam(learning_rate=0.0001), metrics=['accuracy'])"
   ]
  },
  {
   "cell_type": "code",
   "execution_count": 31,
   "metadata": {},
   "outputs": [],
   "source": [
    "early_stopping = tf.keras.callbacks.EarlyStopping(monitor='val_loss', patience=5)\n",
    "save_best = ModelCheckpoint(\n",
    "filepath = '10clases_xc.hdf5',\n",
    "verbose=1, save_best_only=True\n",
    ")"
   ]
  },
  {
   "cell_type": "code",
   "execution_count": 32,
   "metadata": {},
   "outputs": [
    {
     "name": "stderr",
     "output_type": "stream",
     "text": [
      "C:\\Users\\batch-pc\\AppData\\Local\\Temp\\ipykernel_15304\\2639075760.py:1: UserWarning: `Model.fit_generator` is deprecated and will be removed in a future version. Please use `Model.fit`, which supports generators.\n",
      "  history = model.fit_generator(train_generator, steps_per_epoch=train_generator.samples // batch_size, validation_data = validation_generator,\\\n"
     ]
    },
    {
     "name": "stdout",
     "output_type": "stream",
     "text": [
      "Epoch 1/20\n",
      "\n",
      "Epoch 1: val_loss improved from inf to 1.72275, saving model to 10clases_xc.hdf5\n",
      "239/239 - 108s - loss: 1.8351 - accuracy: 0.3601 - val_loss: 1.7228 - val_accuracy: 0.4050 - 108s/epoch - 454ms/step\n",
      "Epoch 2/20\n",
      "\n",
      "Epoch 2: val_loss improved from 1.72275 to 1.67200, saving model to 10clases_xc.hdf5\n",
      "239/239 - 100s - loss: 1.6465 - accuracy: 0.4346 - val_loss: 1.6720 - val_accuracy: 0.4189 - 100s/epoch - 416ms/step\n",
      "Epoch 3/20\n",
      "\n",
      "Epoch 3: val_loss did not improve from 1.67200\n",
      "239/239 - 101s - loss: 1.5874 - accuracy: 0.4528 - val_loss: 1.6855 - val_accuracy: 0.4123 - 101s/epoch - 421ms/step\n",
      "Epoch 4/20\n",
      "\n",
      "Epoch 4: val_loss did not improve from 1.67200\n",
      "239/239 - 104s - loss: 1.5394 - accuracy: 0.4681 - val_loss: 1.6814 - val_accuracy: 0.4069 - 104s/epoch - 434ms/step\n",
      "Epoch 5/20\n",
      "\n",
      "Epoch 5: val_loss improved from 1.67200 to 1.63852, saving model to 10clases_xc.hdf5\n",
      "239/239 - 103s - loss: 1.4935 - accuracy: 0.4911 - val_loss: 1.6385 - val_accuracy: 0.4375 - 103s/epoch - 431ms/step\n",
      "Epoch 6/20\n",
      "\n",
      "Epoch 6: val_loss did not improve from 1.63852\n",
      "239/239 - 102s - loss: 1.4498 - accuracy: 0.5038 - val_loss: 1.6660 - val_accuracy: 0.4231 - 102s/epoch - 425ms/step\n",
      "Epoch 7/20\n",
      "\n",
      "Epoch 7: val_loss did not improve from 1.63852\n",
      "239/239 - 102s - loss: 1.4031 - accuracy: 0.5205 - val_loss: 1.6901 - val_accuracy: 0.4177 - 102s/epoch - 425ms/step\n",
      "Epoch 8/20\n",
      "\n",
      "Epoch 8: val_loss did not improve from 1.63852\n",
      "239/239 - 101s - loss: 1.3438 - accuracy: 0.5397 - val_loss: 1.6625 - val_accuracy: 0.4375 - 101s/epoch - 424ms/step\n",
      "Epoch 9/20\n",
      "\n",
      "Epoch 9: val_loss did not improve from 1.63852\n",
      "239/239 - 101s - loss: 1.3017 - accuracy: 0.5547 - val_loss: 1.6874 - val_accuracy: 0.4351 - 101s/epoch - 423ms/step\n",
      "Epoch 10/20\n",
      "\n",
      "Epoch 10: val_loss did not improve from 1.63852\n",
      "239/239 - 101s - loss: 1.2479 - accuracy: 0.5733 - val_loss: 1.7029 - val_accuracy: 0.4249 - 101s/epoch - 422ms/step\n"
     ]
    }
   ],
   "source": [
    "history = model.fit_generator(train_generator, steps_per_epoch=train_generator.samples // batch_size, validation_data = validation_generator,\\\n",
    "                         validation_steps = validation_generator.samples // batch_size, epochs = epochs, callbacks=[save_best,early_stopping], verbose=2)"
   ]
  },
  {
   "cell_type": "code",
   "execution_count": 25,
   "metadata": {},
   "outputs": [],
   "source": [
    "model10 = keras.models.load_model('10clases_xc.hdf5')"
   ]
  },
  {
   "cell_type": "code",
   "execution_count": 26,
   "metadata": {},
   "outputs": [],
   "source": [
    "test_dir = r'C:\\Users\\batch-pc\\Documents\\Data science ft\\ds_ft_sep_22\\3-Machine_Learning\\Proyecto_ML\\Data\\book_master\\224x224\\test'"
   ]
  },
  {
   "cell_type": "code",
   "execution_count": 27,
   "metadata": {},
   "outputs": [
    {
     "ename": "NameError",
     "evalue": "name 'test_datagen' is not defined",
     "output_type": "error",
     "traceback": [
      "\u001b[1;31m---------------------------------------------------------------------------\u001b[0m",
      "\u001b[1;31mNameError\u001b[0m                                 Traceback (most recent call last)",
      "\u001b[1;32mc:\\Users\\batch-pc\\Documents\\Data science ft\\ds_ft_sep_22\\3-Machine_Learning\\Proyecto_ML\\Modelos\\proy_ML_XceptionMaster.ipynb Cell 37\u001b[0m in \u001b[0;36m<cell line: 1>\u001b[1;34m()\u001b[0m\n\u001b[1;32m----> <a href='vscode-notebook-cell:/c%3A/Users/batch-pc/Documents/Data%20science%20ft/ds_ft_sep_22/3-Machine_Learning/Proyecto_ML/Modelos/proy_ML_XceptionMaster.ipynb#X51sZmlsZQ%3D%3D?line=0'>1</a>\u001b[0m test_generator10 \u001b[39m=\u001b[39m test_datagen\u001b[39m.\u001b[39mflow_from_dataframe(dataframe\u001b[39m=\u001b[39mdf_test10, directory\u001b[39m=\u001b[39m\u001b[39m'\u001b[39m\u001b[39mdata/test/\u001b[39m\u001b[39m'\u001b[39m, class_mode\u001b[39m=\u001b[39m\u001b[39m'\u001b[39m\u001b[39mcategorical\u001b[39m\u001b[39m'\u001b[39m,\n\u001b[0;32m      <a href='vscode-notebook-cell:/c%3A/Users/batch-pc/Documents/Data%20science%20ft/ds_ft_sep_22/3-Machine_Learning/Proyecto_ML/Modelos/proy_ML_XceptionMaster.ipynb#X51sZmlsZQ%3D%3D?line=1'>2</a>\u001b[0m                                                     x_col \u001b[39m=\u001b[39m \u001b[39m'\u001b[39m\u001b[39mimage\u001b[39m\u001b[39m'\u001b[39m, y_col \u001b[39m=\u001b[39m \u001b[39m'\u001b[39m\u001b[39mgenre\u001b[39m\u001b[39m'\u001b[39m, color_mode\u001b[39m=\u001b[39m\u001b[39m'\u001b[39m\u001b[39mrgb\u001b[39m\u001b[39m'\u001b[39m,\n\u001b[0;32m      <a href='vscode-notebook-cell:/c%3A/Users/batch-pc/Documents/Data%20science%20ft/ds_ft_sep_22/3-Machine_Learning/Proyecto_ML/Modelos/proy_ML_XceptionMaster.ipynb#X51sZmlsZQ%3D%3D?line=2'>3</a>\u001b[0m                                                     batch_size \u001b[39m=\u001b[39m \u001b[39m1\u001b[39m, target_size\u001b[39m=\u001b[39m(\u001b[39m224\u001b[39m,\u001b[39m224\u001b[39m), \n\u001b[0;32m      <a href='vscode-notebook-cell:/c%3A/Users/batch-pc/Documents/Data%20science%20ft/ds_ft_sep_22/3-Machine_Learning/Proyecto_ML/Modelos/proy_ML_XceptionMaster.ipynb#X51sZmlsZQ%3D%3D?line=3'>4</a>\u001b[0m                                                         shuffle\u001b[39m=\u001b[39m\u001b[39mFalse\u001b[39;00m, seed\u001b[39m=\u001b[39m\u001b[39m42\u001b[39m)\n\u001b[0;32m      <a href='vscode-notebook-cell:/c%3A/Users/batch-pc/Documents/Data%20science%20ft/ds_ft_sep_22/3-Machine_Learning/Proyecto_ML/Modelos/proy_ML_XceptionMaster.ipynb#X51sZmlsZQ%3D%3D?line=5'>6</a>\u001b[0m filenames \u001b[39m=\u001b[39m test_generator10\u001b[39m.\u001b[39mfilenames\n\u001b[0;32m      <a href='vscode-notebook-cell:/c%3A/Users/batch-pc/Documents/Data%20science%20ft/ds_ft_sep_22/3-Machine_Learning/Proyecto_ML/Modelos/proy_ML_XceptionMaster.ipynb#X51sZmlsZQ%3D%3D?line=6'>7</a>\u001b[0m nb_samples \u001b[39m=\u001b[39m \u001b[39mlen\u001b[39m(filenames)\n",
      "\u001b[1;31mNameError\u001b[0m: name 'test_datagen' is not defined"
     ]
    }
   ],
   "source": [
    "test_generator10 = test_datagen.flow_from_dataframe(dataframe=df_test10, directory='data/test/', class_mode='categorical',\n",
    "                                                    x_col = 'image', y_col = 'genre', color_mode='rgb',\n",
    "                                                    batch_size = 1, target_size=(224,224), \n",
    "                                                        shuffle=False, seed=42)\n",
    "\n",
    "filenames = test_generator10.filenames\n",
    "nb_samples = len(filenames)\n",
    "\n",
    "prediction = model10.predict_generator(test_generator10,steps = nb_samples)"
   ]
  },
  {
   "cell_type": "code",
   "execution_count": 38,
   "metadata": {},
   "outputs": [
    {
     "name": "stdout",
     "output_type": "stream",
     "text": [
      "27/27 [==============================] - 11s 379ms/step - loss: 1.6344 - accuracy: 0.4512\n",
      "[1.6344352960586548, 0.451233834028244]\n"
     ]
    }
   ],
   "source": [
    "print(model10.evaluate(validation_generator))"
   ]
  },
  {
   "cell_type": "code",
   "execution_count": 191,
   "metadata": {},
   "outputs": [
    {
     "name": "stdout",
     "output_type": "stream",
     "text": [
      "1899/1899 [==============================] - 10s 5ms/step\n"
     ]
    }
   ],
   "source": [
    "prediction = model10.predict(test_generator10,steps = nb_samples)"
   ]
  },
  {
   "cell_type": "code",
   "execution_count": 39,
   "metadata": {},
   "outputs": [
    {
     "name": "stdout",
     "output_type": "stream",
     "text": [
      "1899/1899 [==============================] - 13s 7ms/step - loss: 1.6279 - accuracy: 0.4508\n",
      "[1.6279429197311401, 0.4507635533809662]\n"
     ]
    }
   ],
   "source": [
    "print(model10.evaluate(test_generator))"
   ]
  },
  {
   "cell_type": "code",
   "execution_count": 42,
   "metadata": {},
   "outputs": [],
   "source": [
    "pred_labels = np.argmax(prediction, axis=1)"
   ]
  },
  {
   "cell_type": "code",
   "execution_count": 65,
   "metadata": {},
   "outputs": [
    {
     "data": {
      "text/plain": [
       "3"
      ]
     },
     "execution_count": 65,
     "metadata": {},
     "output_type": "execute_result"
    }
   ],
   "source": [
    "pred_labels[5]"
   ]
  },
  {
   "cell_type": "code",
   "execution_count": 70,
   "metadata": {},
   "outputs": [
    {
     "data": {
      "text/plain": [
       "'Arts & Photography'"
      ]
     },
     "execution_count": 70,
     "metadata": {},
     "output_type": "execute_result"
    }
   ],
   "source": [
    "categories10[pred_labels[7]]"
   ]
  },
  {
   "cell_type": "code",
   "execution_count": 67,
   "metadata": {},
   "outputs": [
    {
     "data": {
      "text/plain": [
       "array([0.01612056, 0.0094033 , 0.31856114, 0.3361783 , 0.03778597,\n",
       "       0.04444046, 0.02594026, 0.12418631, 0.02284987, 0.0645337 ],\n",
       "      dtype=float32)"
      ]
     },
     "execution_count": 67,
     "metadata": {},
     "output_type": "execute_result"
    }
   ],
   "source": [
    "prediction[5]"
   ]
  },
  {
   "cell_type": "code",
   "execution_count": 163,
   "metadata": {},
   "outputs": [
    {
     "data": {
      "text/plain": [
       "array(['Sports & Outdoors', 'Medical Books', 'Science & Math',\n",
       "       'Cookbooks, Food & Wine', 'Crafts, Hobbies & Home',\n",
       "       'Religion & Spirituality', 'Arts & Photography',\n",
       "       'Comics & Graphic Novels', 'Science Fiction & Fantasy',\n",
       "       'Mystery, Thriller & Suspense'], dtype='<U28')"
      ]
     },
     "execution_count": 163,
     "metadata": {},
     "output_type": "execute_result"
    }
   ],
   "source": [
    "categories10"
   ]
  },
  {
   "cell_type": "code",
   "execution_count": 45,
   "metadata": {},
   "outputs": [
    {
     "data": {
      "text/html": [
       "<div>\n",
       "<style scoped>\n",
       "    .dataframe tbody tr th:only-of-type {\n",
       "        vertical-align: middle;\n",
       "    }\n",
       "\n",
       "    .dataframe tbody tr th {\n",
       "        vertical-align: top;\n",
       "    }\n",
       "\n",
       "    .dataframe thead th {\n",
       "        text-align: right;\n",
       "    }\n",
       "</style>\n",
       "<table border=\"1\" class=\"dataframe\">\n",
       "  <thead>\n",
       "    <tr style=\"text-align: right;\">\n",
       "      <th></th>\n",
       "      <th>id</th>\n",
       "      <th>image</th>\n",
       "      <th>link</th>\n",
       "      <th>name</th>\n",
       "      <th>author</th>\n",
       "      <th>class</th>\n",
       "      <th>genre</th>\n",
       "    </tr>\n",
       "  </thead>\n",
       "  <tbody>\n",
       "    <tr>\n",
       "      <th>2</th>\n",
       "      <td>1580237959</td>\n",
       "      <td>1580237959.jpg</td>\n",
       "      <td>http://ecx.images-amazon.com/images/I/51pum0eW...</td>\n",
       "      <td>A Partner in Holiness: Deepening Mindfulness, ...</td>\n",
       "      <td>Rabbi Jonathan P. Slater DMin</td>\n",
       "      <td>21</td>\n",
       "      <td>Religion &amp; Spirituality</td>\n",
       "    </tr>\n",
       "    <tr>\n",
       "      <th>3</th>\n",
       "      <td>135137829</td>\n",
       "      <td>0135137829.jpg</td>\n",
       "      <td>http://ecx.images-amazon.com/images/I/51PuTPPC...</td>\n",
       "      <td>Construction Scheduling: Principles and Practi...</td>\n",
       "      <td>Jay S. Newitt</td>\n",
       "      <td>0</td>\n",
       "      <td>Arts &amp; Photography</td>\n",
       "    </tr>\n",
       "    <tr>\n",
       "      <th>6</th>\n",
       "      <td>521456924</td>\n",
       "      <td>0521456924.jpg</td>\n",
       "      <td>http://ecx.images-amazon.com/images/I/41n7iZq-...</td>\n",
       "      <td>Diagrammatica: The Path to Feynman Diagrams (C...</td>\n",
       "      <td>Martinus Veltman</td>\n",
       "      <td>23</td>\n",
       "      <td>Science &amp; Math</td>\n",
       "    </tr>\n",
       "    <tr>\n",
       "      <th>15</th>\n",
       "      <td>962904201</td>\n",
       "      <td>0962904201.jpg</td>\n",
       "      <td>http://ecx.images-amazon.com/images/I/51bWdcsb...</td>\n",
       "      <td>Oregon High: A Climbing Guide to Nine Cascade ...</td>\n",
       "      <td>Jeff Thomas</td>\n",
       "      <td>26</td>\n",
       "      <td>Sports &amp; Outdoors</td>\n",
       "    </tr>\n",
       "    <tr>\n",
       "      <th>17</th>\n",
       "      <td>1514196239</td>\n",
       "      <td>1514196239.jpg</td>\n",
       "      <td>http://ecx.images-amazon.com/images/I/5178fq2D...</td>\n",
       "      <td>Anti Inflammatory Cookbook - 50 Slow Cooker Re...</td>\n",
       "      <td>Kate Marsh</td>\n",
       "      <td>7</td>\n",
       "      <td>Cookbooks, Food &amp; Wine</td>\n",
       "    </tr>\n",
       "    <tr>\n",
       "      <th>18</th>\n",
       "      <td>079382883X</td>\n",
       "      <td>079382883X.jpg</td>\n",
       "      <td>http://ecx.images-amazon.com/images/I/51zi2q5J...</td>\n",
       "      <td>Leopard Geckos (Complete Herp Care)</td>\n",
       "      <td>Gerald Merker</td>\n",
       "      <td>8</td>\n",
       "      <td>Crafts, Hobbies &amp; Home</td>\n",
       "    </tr>\n",
       "    <tr>\n",
       "      <th>24</th>\n",
       "      <td>1932234969</td>\n",
       "      <td>1932234969.jpg</td>\n",
       "      <td>http://ecx.images-amazon.com/images/I/51IybjCl...</td>\n",
       "      <td>5 Centimeters per Second</td>\n",
       "      <td>NaN</td>\n",
       "      <td>5</td>\n",
       "      <td>Comics &amp; Graphic Novels</td>\n",
       "    </tr>\n",
       "    <tr>\n",
       "      <th>27</th>\n",
       "      <td>471041386</td>\n",
       "      <td>0471041386.jpg</td>\n",
       "      <td>http://ecx.images-amazon.com/images/I/41aVeVve...</td>\n",
       "      <td>Polymeric Multicomponent Materials: An Introdu...</td>\n",
       "      <td>L. H. Sperling</td>\n",
       "      <td>23</td>\n",
       "      <td>Science &amp; Math</td>\n",
       "    </tr>\n",
       "    <tr>\n",
       "      <th>33</th>\n",
       "      <td>1932564462</td>\n",
       "      <td>1932564462.jpg</td>\n",
       "      <td>http://ecx.images-amazon.com/images/I/51TLjyIj...</td>\n",
       "      <td>Shadowrun: Third Edition (FPR25000)</td>\n",
       "      <td>FanPro</td>\n",
       "      <td>24</td>\n",
       "      <td>Science Fiction &amp; Fantasy</td>\n",
       "    </tr>\n",
       "    <tr>\n",
       "      <th>34</th>\n",
       "      <td>982565062</td>\n",
       "      <td>0982565062.jpg</td>\n",
       "      <td>http://ecx.images-amazon.com/images/I/51uJz4Jd...</td>\n",
       "      <td>The Crime Wave: Collected Nonfiction (The Ace ...</td>\n",
       "      <td>Dashiell Hammett</td>\n",
       "      <td>17</td>\n",
       "      <td>Mystery, Thriller &amp; Suspense</td>\n",
       "    </tr>\n",
       "  </tbody>\n",
       "</table>\n",
       "</div>"
      ],
      "text/plain": [
       "            id           image  \\\n",
       "2   1580237959  1580237959.jpg   \n",
       "3    135137829  0135137829.jpg   \n",
       "6    521456924  0521456924.jpg   \n",
       "15   962904201  0962904201.jpg   \n",
       "17  1514196239  1514196239.jpg   \n",
       "18  079382883X  079382883X.jpg   \n",
       "24  1932234969  1932234969.jpg   \n",
       "27   471041386  0471041386.jpg   \n",
       "33  1932564462  1932564462.jpg   \n",
       "34   982565062  0982565062.jpg   \n",
       "\n",
       "                                                 link  \\\n",
       "2   http://ecx.images-amazon.com/images/I/51pum0eW...   \n",
       "3   http://ecx.images-amazon.com/images/I/51PuTPPC...   \n",
       "6   http://ecx.images-amazon.com/images/I/41n7iZq-...   \n",
       "15  http://ecx.images-amazon.com/images/I/51bWdcsb...   \n",
       "17  http://ecx.images-amazon.com/images/I/5178fq2D...   \n",
       "18  http://ecx.images-amazon.com/images/I/51zi2q5J...   \n",
       "24  http://ecx.images-amazon.com/images/I/51IybjCl...   \n",
       "27  http://ecx.images-amazon.com/images/I/41aVeVve...   \n",
       "33  http://ecx.images-amazon.com/images/I/51TLjyIj...   \n",
       "34  http://ecx.images-amazon.com/images/I/51uJz4Jd...   \n",
       "\n",
       "                                                 name  \\\n",
       "2   A Partner in Holiness: Deepening Mindfulness, ...   \n",
       "3   Construction Scheduling: Principles and Practi...   \n",
       "6   Diagrammatica: The Path to Feynman Diagrams (C...   \n",
       "15  Oregon High: A Climbing Guide to Nine Cascade ...   \n",
       "17  Anti Inflammatory Cookbook - 50 Slow Cooker Re...   \n",
       "18                Leopard Geckos (Complete Herp Care)   \n",
       "24                           5 Centimeters per Second   \n",
       "27  Polymeric Multicomponent Materials: An Introdu...   \n",
       "33                Shadowrun: Third Edition (FPR25000)   \n",
       "34  The Crime Wave: Collected Nonfiction (The Ace ...   \n",
       "\n",
       "                           author  class                         genre  \n",
       "2   Rabbi Jonathan P. Slater DMin     21       Religion & Spirituality  \n",
       "3                   Jay S. Newitt      0            Arts & Photography  \n",
       "6                Martinus Veltman     23                Science & Math  \n",
       "15                    Jeff Thomas     26             Sports & Outdoors  \n",
       "17                     Kate Marsh      7        Cookbooks, Food & Wine  \n",
       "18                  Gerald Merker      8        Crafts, Hobbies & Home  \n",
       "24                            NaN      5       Comics & Graphic Novels  \n",
       "27                 L. H. Sperling     23                Science & Math  \n",
       "33                         FanPro     24     Science Fiction & Fantasy  \n",
       "34               Dashiell Hammett     17  Mystery, Thriller & Suspense  "
      ]
     },
     "execution_count": 45,
     "metadata": {},
     "output_type": "execute_result"
    }
   ],
   "source": [
    "df_test10.head(10)"
   ]
  },
  {
   "cell_type": "code",
   "execution_count": 30,
   "metadata": {},
   "outputs": [
    {
     "data": {
      "text/plain": [
       "array([0.02048927, 0.00370287, 0.08557708, 0.04041117, 0.4412535 ,\n",
       "       0.01485839, 0.11249734, 0.2416857 , 0.01000007, 0.02952462],\n",
       "      dtype=float32)"
      ]
     },
     "execution_count": 30,
     "metadata": {},
     "output_type": "execute_result"
    }
   ],
   "source": [
    "print(predict[0].t"
   ]
  },
  {
   "cell_type": "code",
   "execution_count": 56,
   "metadata": {},
   "outputs": [],
   "source": [
    "from sklearn.metrics import confusion_matrix"
   ]
  },
  {
   "cell_type": "code",
   "execution_count": 71,
   "metadata": {},
   "outputs": [
    {
     "data": {
      "text/plain": [
       "array(['Sports & Outdoors', 'Medical Books', 'Science & Math',\n",
       "       'Cookbooks, Food & Wine', 'Crafts, Hobbies & Home',\n",
       "       'Religion & Spirituality', 'Arts & Photography',\n",
       "       'Comics & Graphic Novels', 'Science Fiction & Fantasy',\n",
       "       'Mystery, Thriller & Suspense'], dtype=object)"
      ]
     },
     "execution_count": 71,
     "metadata": {},
     "output_type": "execute_result"
    }
   ],
   "source": [
    "genres = df_train10['genre'].unique()\n",
    "genres"
   ]
  },
  {
   "cell_type": "code",
   "execution_count": 72,
   "metadata": {},
   "outputs": [
    {
     "data": {
      "text/plain": [
       "array(['Sports & Outdoors', 'Medical Books', 'Science & Math',\n",
       "       'Cookbooks, Food & Wine', 'Crafts, Hobbies & Home',\n",
       "       'Religion & Spirituality', 'Arts & Photography',\n",
       "       'Comics & Graphic Novels', 'Science Fiction & Fantasy',\n",
       "       'Mystery, Thriller & Suspense'], dtype='<U28')"
      ]
     },
     "execution_count": 72,
     "metadata": {},
     "output_type": "execute_result"
    }
   ],
   "source": [
    "categories10"
   ]
  },
  {
   "cell_type": "code",
   "execution_count": 164,
   "metadata": {},
   "outputs": [
    {
     "data": {
      "text/plain": [
       "['Sports & Outdoors',\n",
       " 'Medical Books',\n",
       " 'Science & Math',\n",
       " 'Cookbooks, Food & Wine',\n",
       " 'Crafts, Hobbies & Home',\n",
       " 'Religion & Spirituality',\n",
       " 'Arts & Photography',\n",
       " 'Comics & Graphic Novels',\n",
       " 'Science Fiction & Fantasy',\n",
       " 'Mystery, Thriller & Suspense']"
      ]
     },
     "execution_count": 164,
     "metadata": {},
     "output_type": "execute_result"
    }
   ],
   "source": [
    "cat10 = list(categories10)\n",
    "cat10"
   ]
  },
  {
   "cell_type": "code",
   "execution_count": 196,
   "metadata": {},
   "outputs": [],
   "source": [
    "y_test10 = []\n",
    "for i in df_test10['genre']:\n",
    "    index = categories_label10.get(i)\n",
    "    ind = list1.index(index)\n",
    "    y_test10.append(ind)"
   ]
  },
  {
   "cell_type": "code",
   "execution_count": 166,
   "metadata": {},
   "outputs": [
    {
     "data": {
      "text/plain": [
       "21    190\n",
       "0     190\n",
       "23    190\n",
       "26    190\n",
       "7     190\n",
       "8     190\n",
       "5     190\n",
       "24    190\n",
       "17    190\n",
       "16    189\n",
       "Name: class, dtype: int64"
      ]
     },
     "execution_count": 166,
     "metadata": {},
     "output_type": "execute_result"
    }
   ],
   "source": [
    "df_test10['class'].value_counts()"
   ]
  },
  {
   "cell_type": "code",
   "execution_count": 167,
   "metadata": {},
   "outputs": [
    {
     "data": {
      "text/plain": [
       "8     1709\n",
       "5     1709\n",
       "7     1706\n",
       "16    1705\n",
       "0     1705\n",
       "21    1703\n",
       "24    1702\n",
       "23    1699\n",
       "26    1696\n",
       "17    1693\n",
       "Name: class, dtype: int64"
      ]
     },
     "execution_count": 167,
     "metadata": {},
     "output_type": "execute_result"
    }
   ],
   "source": [
    "df_train10['class'].value_counts()"
   ]
  },
  {
   "cell_type": "code",
   "execution_count": 197,
   "metadata": {},
   "outputs": [
    {
     "name": "stdout",
     "output_type": "stream",
     "text": [
      "[[ 39  29  11  39  14  12  14   9   5  18]\n",
      " [  3 139   5   9   1   8   6   2  13   4]\n",
      " [  2   9 121  23   8   5  11   1   1   9]\n",
      " [ 11   8  19 108  15   1  12   7   5   4]\n",
      " [  4   5  10  16 101  10  24  12   0   7]\n",
      " [  5  16   8  18  10  91  18   5  14   5]\n",
      " [ 11   7   7  20  25  17  79  10  10   4]\n",
      " [ 11   9   6  25  57   7  29  23   5  18]\n",
      " [ 11  36   6   9   5  28  14   1  76   4]\n",
      " [ 10  12   8  19  22  10  13  10   7  79]]\n"
     ]
    }
   ],
   "source": [
    "#Predict\n",
    "y_prediction = prediction\n",
    "y_prediction = np.argmax (y_prediction, axis = 1)\n",
    "#Create confusion matrix and normalizes it over predicted (columns)\n",
    "result = confusion_matrix(y_test10, y_prediction)\n",
    "print(result)"
   ]
  },
  {
   "cell_type": "code",
   "execution_count": 198,
   "metadata": {},
   "outputs": [
    {
     "data": {
      "text/plain": [
       "<AxesSubplot: >"
      ]
     },
     "execution_count": 198,
     "metadata": {},
     "output_type": "execute_result"
    },
    {
     "data": {
      "image/png": "[encoded data removed]",
      "text/plain": [
       "<Figure size 640x480 with 2 Axes>"
      ]
     },
     "metadata": {},
     "output_type": "display_data"
    }
   ],
   "source": [
    "sns.heatmap(result, annot=True)"
   ]
  },
  {
   "cell_type": "code",
   "execution_count": 200,
   "metadata": {},
   "outputs": [
    {
     "name": "stdout",
     "output_type": "stream",
     "text": [
      "0.7414428646656135\n",
      "0.8709847288046341\n",
      "0.9436545550289626\n",
      "1.0\n"
     ]
    },
    {
     "name": "stderr",
     "output_type": "stream",
     "text": [
      "c:\\Users\\batch-pc\\anaconda3\\envs\\bootcamp_core\\lib\\site-packages\\sklearn\\metrics\\_ranking.py:1777: UndefinedMetricWarning: 'k' (10) greater than or equal to 'n_classes' (10) will result in a perfect score and is therefore meaningless.\n",
      "  warnings.warn(\n"
     ]
    }
   ],
   "source": [
    "print(top_k_accuracy_score(y_test10, prediction, k=3, normalize=True))\n",
    "print(top_k_accuracy_score(y_test10, prediction, k=5, normalize=True))\n",
    "print(top_k_accuracy_score(y_test10, prediction, k=7, normalize=True))\n",
    "print(top_k_accuracy_score(y_test10, prediction, k=10, normalize=True))"
   ]
  },
  {
   "attachments": {},
   "cell_type": "markdown",
   "metadata": {},
   "source": [
    "# 30 CLASES"
   ]
  },
  {
   "cell_type": "code",
   "execution_count": 28,
   "metadata": {},
   "outputs": [
    {
     "name": "stdout",
     "output_type": "stream",
     "text": [
      "Found 45900 validated image filenames belonging to 30 classes.\n",
      "Found 5100 validated image filenames belonging to 30 classes.\n"
     ]
    }
   ],
   "source": [
    "image_size = 224\n",
    "batch_size = 64\n",
    "epochs = 20\n",
    "\n",
    "train_datagen = ImageDataGenerator(\n",
    "                                    rescale=1./255,\n",
    "                                    shear_range=0.2,\n",
    "                                    zoom_range=0.2,\n",
    "                                    horizontal_flip=True,\n",
    "                                    validation_split=0.1\n",
    "                                  )\n",
    "#usar flow o organizar las categorias en carpetas?\n",
    "train_generator = train_datagen.flow_from_dataframe(dataframe=df_train, directory='data/train/', class_mode='categorical',\n",
    "                                                    x_col = 'image', y_col = 'genre',\n",
    "                                                    batch_size = batch_size, target_size=(image_size,image_size), \n",
    "                                                    subset = 'training', shuffle=True, seed=42)\n",
    "validation_generator = train_datagen.flow_from_dataframe(dataframe=df_train, directory='data/train/', class_mode='categorical',\n",
    "                                                        x_col = 'image', y_col = 'genre',\n",
    "                                                        batch_size = batch_size, target_size=(image_size,image_size),\n",
    "                                                        subset = 'validation', shuffle = True, seed=42)\n",
    "test_datagen = ImageDataGenerator(rescale=1./255)"
   ]
  },
  {
   "cell_type": "code",
   "execution_count": 17,
   "metadata": {},
   "outputs": [
    {
     "name": "stdout",
     "output_type": "stream",
     "text": [
      "Model: \"sequential_1\"\n",
      "_________________________________________________________________\n",
      " Layer (type)                Output Shape              Param #   \n",
      "=================================================================\n",
      " xception (Functional)       (None, 2048)              20861480  \n",
      "                                                                 \n",
      " flatten_1 (Flatten)         (None, 2048)              0         \n",
      "                                                                 \n",
      " dense_4 (Dense)             (None, 2048)              4196352   \n",
      "                                                                 \n",
      " dropout_3 (Dropout)         (None, 2048)              0         \n",
      "                                                                 \n",
      " dense_5 (Dense)             (None, 1024)              2098176   \n",
      "                                                                 \n",
      " dropout_4 (Dropout)         (None, 1024)              0         \n",
      "                                                                 \n",
      " dense_6 (Dense)             (None, 512)               524800    \n",
      "                                                                 \n",
      " dropout_5 (Dropout)         (None, 512)               0         \n",
      "                                                                 \n",
      " dense_7 (Dense)             (None, 30)                15390     \n",
      "                                                                 \n",
      "=================================================================\n",
      "Total params: 27,696,198\n",
      "Trainable params: 6,834,718\n",
      "Non-trainable params: 20,861,480\n",
      "_________________________________________________________________\n"
     ]
    }
   ],
   "source": [
    "xception_model = tf.keras.applications.xception.Xception(\n",
    "    include_top=False,\n",
    "    weights='imagenet',\n",
    "    input_tensor=None,\n",
    "    input_shape=(224, 224, 3),\n",
    "    pooling='avg',\n",
    "    classes=30,\n",
    "    classifier_activation='softmax'\n",
    "    )\n",
    "tf.random.set_seed(73)\n",
    "model = Sequential()\n",
    "model.add(xception_model)\n",
    "model.add(Flatten()) \n",
    "model.add(Dense(units=2048, activation=\"relu\"))\n",
    "model.add(Dropout(0.2))\n",
    "model.add(Dense(units=1024, activation='relu'))\n",
    "model.add(Dropout(0.2))\n",
    "model.add(Dense(units=512, activation='relu'))\n",
    "model.add(Dropout(0.2))\n",
    "model.add(Dense(30, activation='softmax'))\n",
    "model.layers[0].trainable=False\n",
    "model.summary()"
   ]
  },
  {
   "cell_type": "code",
   "execution_count": 18,
   "metadata": {},
   "outputs": [],
   "source": [
    "model.compile(loss='categorical_crossentropy', optimizer=tf.keras.optimizers.Adam(learning_rate=0.0001), metrics=['accuracy'])"
   ]
  },
  {
   "cell_type": "code",
   "execution_count": 19,
   "metadata": {},
   "outputs": [],
   "source": [
    "early_stopping = tf.keras.callbacks.EarlyStopping(monitor='val_loss', patience=5)\n",
    "save_best = ModelCheckpoint(\n",
    "filepath = 'master.hdf5',\n",
    "verbose=1, save_best_only=True\n",
    ")"
   ]
  },
  {
   "cell_type": "code",
   "execution_count": 20,
   "metadata": {},
   "outputs": [
    {
     "name": "stdout",
     "output_type": "stream",
     "text": [
      "Epoch 1/20\n"
     ]
    },
    {
     "name": "stderr",
     "output_type": "stream",
     "text": [
      "C:\\Users\\batch-pc\\AppData\\Local\\Temp\\ipykernel_18240\\2639075760.py:1: UserWarning: `Model.fit_generator` is deprecated and will be removed in a future version. Please use `Model.fit`, which supports generators.\n",
      "  history = model.fit_generator(train_generator, steps_per_epoch=train_generator.samples // batch_size, validation_data = validation_generator,\\\n"
     ]
    },
    {
     "name": "stdout",
     "output_type": "stream",
     "text": [
      "\n",
      "Epoch 1: val_loss improved from inf to 2.82882, saving model to master.hdf5\n",
      "721/721 - 190s - loss: 2.9473 - accuracy: 0.1828 - val_loss: 2.8288 - val_accuracy: 0.1936 - 190s/epoch - 264ms/step\n",
      "Epoch 2/20\n",
      "\n",
      "Epoch 2: val_loss improved from 2.82882 to 2.78885, saving model to master.hdf5\n",
      "721/721 - 133s - loss: 2.7277 - accuracy: 0.2384 - val_loss: 2.7888 - val_accuracy: 0.2102 - 133s/epoch - 185ms/step\n",
      "Epoch 3/20\n",
      "\n",
      "Epoch 3: val_loss improved from 2.78885 to 2.73573, saving model to master.hdf5\n",
      "721/721 - 133s - loss: 2.6267 - accuracy: 0.2627 - val_loss: 2.7357 - val_accuracy: 0.2230 - 133s/epoch - 184ms/step\n",
      "Epoch 4/20\n",
      "\n",
      "Epoch 4: val_loss improved from 2.73573 to 2.72516, saving model to master.hdf5\n",
      "721/721 - 133s - loss: 2.5325 - accuracy: 0.2849 - val_loss: 2.7252 - val_accuracy: 0.2293 - 133s/epoch - 185ms/step\n",
      "Epoch 5/20\n",
      "\n",
      "Epoch 5: val_loss did not improve from 2.72516\n",
      "721/721 - 133s - loss: 2.4333 - accuracy: 0.3115 - val_loss: 2.7269 - val_accuracy: 0.2346 - 133s/epoch - 184ms/step\n",
      "Epoch 6/20\n",
      "\n",
      "Epoch 6: val_loss did not improve from 2.72516\n",
      "721/721 - 132s - loss: 2.3174 - accuracy: 0.3408 - val_loss: 2.7755 - val_accuracy: 0.2307 - 132s/epoch - 184ms/step\n",
      "Epoch 7/20\n",
      "\n",
      "Epoch 7: val_loss did not improve from 2.72516\n",
      "721/721 - 133s - loss: 2.1826 - accuracy: 0.3756 - val_loss: 2.7523 - val_accuracy: 0.2365 - 133s/epoch - 184ms/step\n",
      "Epoch 8/20\n",
      "\n",
      "Epoch 8: val_loss did not improve from 2.72516\n",
      "721/721 - 132s - loss: 2.0300 - accuracy: 0.4161 - val_loss: 2.8250 - val_accuracy: 0.2336 - 132s/epoch - 184ms/step\n",
      "Epoch 9/20\n",
      "\n",
      "Epoch 9: val_loss did not improve from 2.72516\n",
      "721/721 - 133s - loss: 1.8702 - accuracy: 0.4601 - val_loss: 2.9189 - val_accuracy: 0.2340 - 133s/epoch - 185ms/step\n"
     ]
    }
   ],
   "source": [
    "history = model.fit_generator(train_generator, steps_per_epoch=train_generator.samples // batch_size, validation_data = validation_generator,\\\n",
    "                         validation_steps = validation_generator.samples // batch_size, epochs = epochs, callbacks=[save_best,early_stopping], verbose=2)"
   ]
  },
  {
   "cell_type": "code",
   "execution_count": 29,
   "metadata": {},
   "outputs": [
    {
     "name": "stdout",
     "output_type": "stream",
     "text": [
      "Found 45900 validated image filenames belonging to 30 classes.\n",
      "Found 5100 validated image filenames belonging to 30 classes.\n"
     ]
    }
   ],
   "source": [
    "image_size = 224\n",
    "batch_size = 64\n",
    "epochs = 20\n",
    "\n",
    "train_datagen = ImageDataGenerator(\n",
    "                                    rescale=1./255,\n",
    "                                    shear_range=0.2,\n",
    "                                    zoom_range=0.2,\n",
    "                                    horizontal_flip=True,\n",
    "                                    validation_split=0.1\n",
    "                                  )\n",
    "train_generator = train_datagen.flow_from_dataframe(dataframe=df_train, directory='data/train/', class_mode='categorical',\n",
    "                                                    x_col = 'image', y_col = 'genre',\n",
    "                                                    batch_size = batch_size, target_size=(image_size,image_size), \n",
    "                                                    subset = 'training', shuffle=True, seed=42)\n",
    "validation_generator = train_datagen.flow_from_dataframe(dataframe=df_train, directory='data/train/', class_mode='categorical',\n",
    "                                                        x_col = 'image', y_col = 'genre',\n",
    "                                                        batch_size = batch_size, target_size=(image_size,image_size),\n",
    "                                                        subset = 'validation', shuffle = True, seed=42)"
   ]
  },
  {
   "cell_type": "code",
   "execution_count": 22,
   "metadata": {},
   "outputs": [
    {
     "name": "stdout",
     "output_type": "stream",
     "text": [
      "Model: \"sequential_2\"\n",
      "_________________________________________________________________\n",
      " Layer (type)                Output Shape              Param #   \n",
      "=================================================================\n",
      " xception (Functional)       (None, 2048)              20861480  \n",
      "                                                                 \n",
      " flatten_2 (Flatten)         (None, 2048)              0         \n",
      "                                                                 \n",
      " dense_8 (Dense)             (None, 2048)              4196352   \n",
      "                                                                 \n",
      " dropout_6 (Dropout)         (None, 2048)              0         \n",
      "                                                                 \n",
      " dense_9 (Dense)             (None, 1024)              2098176   \n",
      "                                                                 \n",
      " dropout_7 (Dropout)         (None, 1024)              0         \n",
      "                                                                 \n",
      " dense_10 (Dense)            (None, 512)               524800    \n",
      "                                                                 \n",
      " dropout_8 (Dropout)         (None, 512)               0         \n",
      "                                                                 \n",
      " dense_11 (Dense)            (None, 30)                15390     \n",
      "                                                                 \n",
      "=================================================================\n",
      "Total params: 27,696,198\n",
      "Trainable params: 6,834,718\n",
      "Non-trainable params: 20,861,480\n",
      "_________________________________________________________________\n"
     ]
    }
   ],
   "source": [
    "xception_model = tf.keras.applications.xception.Xception(\n",
    "    include_top=False,\n",
    "    weights='imagenet',\n",
    "    input_tensor=None,\n",
    "    input_shape=(224, 224, 3),\n",
    "    pooling='avg',\n",
    "    classes=30,\n",
    "    classifier_activation='softmax'\n",
    "    )\n",
    "tf.random.set_seed(73)\n",
    "model = Sequential()\n",
    "model.add(xception_model)\n",
    "model.add(Flatten()) \n",
    "model.add(Dense(units=2048, activation=\"relu\"))\n",
    "model.add(Dropout(0.3))\n",
    "model.add(Dense(units=1024, activation='relu'))\n",
    "model.add(Dropout(0.3))\n",
    "model.add(Dense(units=512, activation='relu'))\n",
    "model.add(Dropout(0.3))\n",
    "model.add(Dense(30, activation='softmax'))\n",
    "model.layers[0].trainable=False\n",
    "model.summary()"
   ]
  },
  {
   "cell_type": "code",
   "execution_count": 23,
   "metadata": {},
   "outputs": [],
   "source": [
    "model.compile(loss='categorical_crossentropy', optimizer=tf.keras.optimizers.Adam(learning_rate=0.001), metrics=['accuracy'])"
   ]
  },
  {
   "cell_type": "code",
   "execution_count": 24,
   "metadata": {},
   "outputs": [],
   "source": [
    "early_stopping = tf.keras.callbacks.EarlyStopping(monitor='val_loss', patience=5)\n",
    "save_best = ModelCheckpoint(\n",
    "filepath = 'master_drop03.hdf5',\n",
    "verbose=1, save_best_only=True\n",
    ")"
   ]
  },
  {
   "cell_type": "code",
   "execution_count": 25,
   "metadata": {},
   "outputs": [
    {
     "name": "stderr",
     "output_type": "stream",
     "text": [
      "C:\\Users\\batch-pc\\AppData\\Local\\Temp\\ipykernel_18240\\2639075760.py:1: UserWarning: `Model.fit_generator` is deprecated and will be removed in a future version. Please use `Model.fit`, which supports generators.\n",
      "  history = model.fit_generator(train_generator, steps_per_epoch=train_generator.samples // batch_size, validation_data = validation_generator,\\\n"
     ]
    },
    {
     "name": "stdout",
     "output_type": "stream",
     "text": [
      "Epoch 1/20\n",
      "\n",
      "Epoch 1: val_loss improved from inf to 2.90858, saving model to master_drop03.hdf5\n",
      "721/721 - 352s - loss: 3.0256 - accuracy: 0.1627 - val_loss: 2.9086 - val_accuracy: 0.1703 - 352s/epoch - 488ms/step\n",
      "Epoch 2/20\n",
      "\n",
      "Epoch 2: val_loss improved from 2.90858 to 2.81525, saving model to master_drop03.hdf5\n",
      "721/721 - 455s - loss: 2.8223 - accuracy: 0.2159 - val_loss: 2.8153 - val_accuracy: 0.2070 - 455s/epoch - 631ms/step\n",
      "Epoch 3/20\n",
      "\n",
      "Epoch 3: val_loss improved from 2.81525 to 2.80068, saving model to master_drop03.hdf5\n",
      "721/721 - 412s - loss: 2.7544 - accuracy: 0.2304 - val_loss: 2.8007 - val_accuracy: 0.2051 - 412s/epoch - 571ms/step\n",
      "Epoch 4/20\n",
      "\n",
      "Epoch 4: val_loss improved from 2.80068 to 2.76479, saving model to master_drop03.hdf5\n",
      "721/721 - 381s - loss: 2.7062 - accuracy: 0.2458 - val_loss: 2.7648 - val_accuracy: 0.2146 - 381s/epoch - 529ms/step\n",
      "Epoch 5/20\n",
      "\n",
      "Epoch 5: val_loss improved from 2.76479 to 2.74157, saving model to master_drop03.hdf5\n",
      "721/721 - 419s - loss: 2.6604 - accuracy: 0.2536 - val_loss: 2.7416 - val_accuracy: 0.2145 - 419s/epoch - 581ms/step\n",
      "Epoch 6/20\n",
      "\n",
      "Epoch 6: val_loss did not improve from 2.74157\n",
      "721/721 - 437s - loss: 2.6192 - accuracy: 0.2641 - val_loss: 2.7722 - val_accuracy: 0.2182 - 437s/epoch - 607ms/step\n",
      "Epoch 7/20\n",
      "\n",
      "Epoch 7: val_loss did not improve from 2.74157\n",
      "721/721 - 412s - loss: 2.5777 - accuracy: 0.2750 - val_loss: 2.7466 - val_accuracy: 0.2289 - 412s/epoch - 571ms/step\n",
      "Epoch 8/20\n",
      "\n",
      "Epoch 8: val_loss improved from 2.74157 to 2.72283, saving model to master_drop03.hdf5\n",
      "721/721 - 301s - loss: 2.5412 - accuracy: 0.2848 - val_loss: 2.7228 - val_accuracy: 0.2389 - 301s/epoch - 417ms/step\n",
      "Epoch 9/20\n",
      "\n",
      "Epoch 9: val_loss did not improve from 2.72283\n",
      "721/721 - 303s - loss: 2.4983 - accuracy: 0.2924 - val_loss: 2.7469 - val_accuracy: 0.2287 - 303s/epoch - 421ms/step\n",
      "Epoch 10/20\n",
      "\n",
      "Epoch 10: val_loss did not improve from 2.72283\n",
      "721/721 - 301s - loss: 2.4618 - accuracy: 0.3005 - val_loss: 2.7258 - val_accuracy: 0.2318 - 301s/epoch - 417ms/step\n",
      "Epoch 11/20\n",
      "\n",
      "Epoch 11: val_loss did not improve from 2.72283\n",
      "721/721 - 308s - loss: 2.4157 - accuracy: 0.3156 - val_loss: 2.7369 - val_accuracy: 0.2355 - 308s/epoch - 427ms/step\n",
      "Epoch 12/20\n",
      "\n",
      "Epoch 12: val_loss improved from 2.72283 to 2.71353, saving model to master_drop03.hdf5\n",
      "721/721 - 298s - loss: 2.3779 - accuracy: 0.3220 - val_loss: 2.7135 - val_accuracy: 0.2365 - 298s/epoch - 413ms/step\n",
      "Epoch 13/20\n",
      "\n",
      "Epoch 13: val_loss did not improve from 2.71353\n",
      "721/721 - 298s - loss: 2.3308 - accuracy: 0.3348 - val_loss: 2.7532 - val_accuracy: 0.2334 - 298s/epoch - 413ms/step\n",
      "Epoch 14/20\n",
      "\n",
      "Epoch 14: val_loss did not improve from 2.71353\n",
      "721/721 - 299s - loss: 2.2870 - accuracy: 0.3444 - val_loss: 2.7897 - val_accuracy: 0.2295 - 299s/epoch - 415ms/step\n",
      "Epoch 15/20\n",
      "\n",
      "Epoch 15: val_loss did not improve from 2.71353\n",
      "721/721 - 307s - loss: 2.2427 - accuracy: 0.3577 - val_loss: 2.7794 - val_accuracy: 0.2346 - 307s/epoch - 425ms/step\n",
      "Epoch 16/20\n",
      "\n",
      "Epoch 16: val_loss did not improve from 2.71353\n",
      "721/721 - 311s - loss: 2.1989 - accuracy: 0.3695 - val_loss: 2.7683 - val_accuracy: 0.2406 - 311s/epoch - 432ms/step\n",
      "Epoch 17/20\n",
      "\n",
      "Epoch 17: val_loss did not improve from 2.71353\n",
      "721/721 - 310s - loss: 2.1505 - accuracy: 0.3834 - val_loss: 2.7546 - val_accuracy: 0.2412 - 310s/epoch - 431ms/step\n"
     ]
    }
   ],
   "source": [
    "history = model.fit_generator(train_generator, steps_per_epoch=train_generator.samples // batch_size, validation_data = validation_generator,\\\n",
    "                         validation_steps = validation_generator.samples // batch_size, epochs = epochs, callbacks=[save_best,early_stopping], verbose=2)"
   ]
  },
  {
   "cell_type": "code",
   "execution_count": 26,
   "metadata": {},
   "outputs": [],
   "source": [
    "model.save('model17e.hdf5')"
   ]
  },
  {
   "cell_type": "code",
   "execution_count": null,
   "metadata": {},
   "outputs": [],
   "source": [
    "#sacar el top 3 de categorias y comprobar la accuracy"
   ]
  },
  {
   "cell_type": "code",
   "execution_count": null,
   "metadata": {},
   "outputs": [],
   "source": [
    "#hacer un transformer con imagenes y titulos para determinar el genero"
   ]
  },
  {
   "cell_type": "code",
   "execution_count": null,
   "metadata": {},
   "outputs": [],
   "source": [
    "#resnet50 con los params de resnet_cover"
   ]
  },
  {
   "cell_type": "code",
   "execution_count": 21,
   "metadata": {},
   "outputs": [],
   "source": [
    "model30 = keras.models.load_model('master_drop03.hdf5')"
   ]
  },
  {
   "cell_type": "code",
   "execution_count": 36,
   "metadata": {},
   "outputs": [
    {
     "name": "stdout",
     "output_type": "stream",
     "text": [
      "Found 5694 validated image filenames belonging to 30 classes.\n",
      "5694/5694 [==============================] - 31s 5ms/step\n"
     ]
    }
   ],
   "source": [
    "test_generator = test_datagen.flow_from_dataframe(dataframe=df_test, directory='data/test/', class_mode='categorical',\n",
    "                                                    x_col = 'image', y_col = 'genre', color_mode='rgb',\n",
    "                                                    batch_size = 1, target_size=(224,224), \n",
    "                                                        shuffle=False, seed=42)\n",
    "\n",
    "filenames = test_generator.filenames\n",
    "nb_samples = len(filenames)\n",
    "\n",
    "predict = model30.predict(test_generator,steps = nb_samples)"
   ]
  },
  {
   "cell_type": "code",
   "execution_count": 37,
   "metadata": {},
   "outputs": [
    {
     "data": {
      "text/plain": [
       "array([6.3770458e-06, 1.5888564e-06, 1.6799316e-04, 6.0338953e-06,\n",
       "       1.1810267e-05, 4.8478346e-06, 3.3163579e-07, 5.7720812e-04,\n",
       "       3.9690835e-06, 4.5952074e-06, 1.1412372e-05, 1.2332381e-04,\n",
       "       1.5724107e-06, 2.7759810e-05, 6.4141510e-05, 6.8558654e-07,\n",
       "       1.3135379e-04, 6.7224977e-07, 1.7545208e-04, 1.4851316e-05,\n",
       "       6.0831162e-04, 6.2132398e-07, 3.9639102e-07, 8.4588064e-06,\n",
       "       3.4066272e-07, 2.7627413e-05, 5.2289874e-06, 7.8568264e-05,\n",
       "       9.9792993e-01, 4.3915697e-06], dtype=float32)"
      ]
     },
     "execution_count": 37,
     "metadata": {},
     "output_type": "execute_result"
    }
   ],
   "source": [
    "predict[0]"
   ]
  },
  {
   "cell_type": "code",
   "execution_count": null,
   "metadata": {},
   "outputs": [
    {
     "name": "stdout",
     "output_type": "stream",
     "text": [
      "718/718 [==============================] - 311s 431ms/step - loss: 2.1935 - accuracy: 0.3767\n",
      "[2.193486452102661, 0.3766666650772095]\n"
     ]
    }
   ],
   "source": [
    "print(model30.evaluate(train_generator))"
   ]
  },
  {
   "cell_type": "code",
   "execution_count": 114,
   "metadata": {},
   "outputs": [
    {
     "name": "stdout",
     "output_type": "stream",
     "text": [
      "5694/5694 [==============================] - 37s 7ms/step - loss: 2.6884 - accuracy: 0.2543\n",
      "[2.688372850418091, 0.2543027698993683]\n"
     ]
    }
   ],
   "source": [
    "print(model30.evaluate(test_generator))"
   ]
  },
  {
   "cell_type": "code",
   "execution_count": 38,
   "metadata": {},
   "outputs": [
    {
     "data": {
      "text/plain": [
       "array([\"Children's Books\", 'Engineering & Transportation',\n",
       "       'Christian Books & Bibles', 'Sports & Outdoors',\n",
       "       'Health, Fitness & Dieting', 'Medical Books', 'Science & Math',\n",
       "       'Travel', 'Business & Money', 'Cookbooks, Food & Wine',\n",
       "       'Politics & Social Sciences', 'Crafts, Hobbies & Home',\n",
       "       'Religion & Spirituality', 'Literature & Fiction',\n",
       "       'Humor & Entertainment', 'Law', 'Computers & Technology',\n",
       "       'Test Preparation', 'Biographies & Memoirs', 'Arts & Photography',\n",
       "       'Parenting & Relationships', 'Romance', 'History',\n",
       "       'Comics & Graphic Novels', 'Reference', 'Teen & Young Adult',\n",
       "       'Self-Help', 'Calendars', 'Science Fiction & Fantasy',\n",
       "       'Mystery, Thriller & Suspense'], dtype=object)"
      ]
     },
     "execution_count": 38,
     "metadata": {},
     "output_type": "execute_result"
    }
   ],
   "source": [
    "genres = df_train['genre'].unique()\n",
    "genres"
   ]
  },
  {
   "cell_type": "code",
   "execution_count": 39,
   "metadata": {},
   "outputs": [
    {
     "data": {
      "text/plain": [
       "[\"Children's Books\",\n",
       " 'Engineering & Transportation',\n",
       " 'Christian Books & Bibles',\n",
       " 'Sports & Outdoors',\n",
       " 'Health, Fitness & Dieting',\n",
       " 'Medical Books',\n",
       " 'Science & Math',\n",
       " 'Travel',\n",
       " 'Business & Money',\n",
       " 'Cookbooks, Food & Wine',\n",
       " 'Politics & Social Sciences',\n",
       " 'Crafts, Hobbies & Home',\n",
       " 'Religion & Spirituality',\n",
       " 'Literature & Fiction',\n",
       " 'Humor & Entertainment',\n",
       " 'Law',\n",
       " 'Computers & Technology',\n",
       " 'Test Preparation',\n",
       " 'Biographies & Memoirs',\n",
       " 'Arts & Photography',\n",
       " 'Parenting & Relationships',\n",
       " 'Romance',\n",
       " 'History',\n",
       " 'Comics & Graphic Novels',\n",
       " 'Reference',\n",
       " 'Teen & Young Adult',\n",
       " 'Self-Help',\n",
       " 'Calendars',\n",
       " 'Science Fiction & Fantasy',\n",
       " 'Mystery, Thriller & Suspense']"
      ]
     },
     "execution_count": 39,
     "metadata": {},
     "output_type": "execute_result"
    }
   ],
   "source": [
    "cat = list(genres)\n",
    "cat"
   ]
  },
  {
   "cell_type": "code",
   "execution_count": 40,
   "metadata": {},
   "outputs": [],
   "source": [
    "y_test = []\n",
    "for i in df_test.genre:\n",
    "    ind = categories_label.get(i)\n",
    "    y_test.append(ind)"
   ]
  },
  {
   "cell_type": "code",
   "execution_count": 41,
   "metadata": {},
   "outputs": [],
   "source": [
    "pred_labels = np.argmax(predict, axis=1)"
   ]
  },
  {
   "cell_type": "code",
   "execution_count": 42,
   "metadata": {},
   "outputs": [
    {
     "data": {
      "text/plain": [
       "5694"
      ]
     },
     "execution_count": 42,
     "metadata": {},
     "output_type": "execute_result"
    }
   ],
   "source": [
    "len(pred_labels)"
   ]
  },
  {
   "cell_type": "code",
   "execution_count": 43,
   "metadata": {},
   "outputs": [
    {
     "data": {
      "text/html": [
       "<div>\n",
       "<style scoped>\n",
       "    .dataframe tbody tr th:only-of-type {\n",
       "        vertical-align: middle;\n",
       "    }\n",
       "\n",
       "    .dataframe tbody tr th {\n",
       "        vertical-align: top;\n",
       "    }\n",
       "\n",
       "    .dataframe thead th {\n",
       "        text-align: right;\n",
       "    }\n",
       "</style>\n",
       "<table border=\"1\" class=\"dataframe\">\n",
       "  <thead>\n",
       "    <tr style=\"text-align: right;\">\n",
       "      <th></th>\n",
       "      <th>id</th>\n",
       "      <th>image</th>\n",
       "      <th>link</th>\n",
       "      <th>name</th>\n",
       "      <th>author</th>\n",
       "      <th>class</th>\n",
       "      <th>genre</th>\n",
       "    </tr>\n",
       "  </thead>\n",
       "  <tbody>\n",
       "    <tr>\n",
       "      <th>0</th>\n",
       "      <td>1438005687</td>\n",
       "      <td>1438005687.jpg</td>\n",
       "      <td>http://ecx.images-amazon.com/images/I/510l0qhi...</td>\n",
       "      <td>Barron's GRE, 21st Edition</td>\n",
       "      <td>Sharon Weiner Green M.A.</td>\n",
       "      <td>28</td>\n",
       "      <td>Test Preparation</td>\n",
       "    </tr>\n",
       "    <tr>\n",
       "      <th>1</th>\n",
       "      <td>60750715</td>\n",
       "      <td>0060750715.jpg</td>\n",
       "      <td>http://ecx.images-amazon.com/images/I/51p5aUY%...</td>\n",
       "      <td>George Balanchine: The Ballet Maker (Eminent L...</td>\n",
       "      <td>Robert Gottlieb</td>\n",
       "      <td>1</td>\n",
       "      <td>Biographies &amp; Memoirs</td>\n",
       "    </tr>\n",
       "    <tr>\n",
       "      <th>2</th>\n",
       "      <td>1580237959</td>\n",
       "      <td>1580237959.jpg</td>\n",
       "      <td>http://ecx.images-amazon.com/images/I/51pum0eW...</td>\n",
       "      <td>A Partner in Holiness: Deepening Mindfulness, ...</td>\n",
       "      <td>Rabbi Jonathan P. Slater DMin</td>\n",
       "      <td>21</td>\n",
       "      <td>Religion &amp; Spirituality</td>\n",
       "    </tr>\n",
       "    <tr>\n",
       "      <th>3</th>\n",
       "      <td>135137829</td>\n",
       "      <td>0135137829.jpg</td>\n",
       "      <td>http://ecx.images-amazon.com/images/I/51PuTPPC...</td>\n",
       "      <td>Construction Scheduling: Principles and Practi...</td>\n",
       "      <td>Jay S. Newitt</td>\n",
       "      <td>0</td>\n",
       "      <td>Arts &amp; Photography</td>\n",
       "    </tr>\n",
       "    <tr>\n",
       "      <th>4</th>\n",
       "      <td>312556411</td>\n",
       "      <td>0312556411.jpg</td>\n",
       "      <td>http://ecx.images-amazon.com/images/I/51uNnIlI...</td>\n",
       "      <td>Literature and Its Writers: A Compact Introduc...</td>\n",
       "      <td>Ann Charters</td>\n",
       "      <td>15</td>\n",
       "      <td>Literature &amp; Fiction</td>\n",
       "    </tr>\n",
       "    <tr>\n",
       "      <th>5</th>\n",
       "      <td>393339157</td>\n",
       "      <td>0393339157.jpg</td>\n",
       "      <td>http://ecx.images-amazon.com/images/I/51VIlqRy...</td>\n",
       "      <td>Straight on Till Morning: The Life of Beryl Ma...</td>\n",
       "      <td>Mary S. Lovell</td>\n",
       "      <td>10</td>\n",
       "      <td>Engineering &amp; Transportation</td>\n",
       "    </tr>\n",
       "    <tr>\n",
       "      <th>6</th>\n",
       "      <td>521456924</td>\n",
       "      <td>0521456924.jpg</td>\n",
       "      <td>http://ecx.images-amazon.com/images/I/41n7iZq-...</td>\n",
       "      <td>Diagrammatica: The Path to Feynman Diagrams (C...</td>\n",
       "      <td>Martinus Veltman</td>\n",
       "      <td>23</td>\n",
       "      <td>Science &amp; Math</td>\n",
       "    </tr>\n",
       "    <tr>\n",
       "      <th>7</th>\n",
       "      <td>898699223</td>\n",
       "      <td>0898699223.jpg</td>\n",
       "      <td>http://ecx.images-amazon.com/images/I/41xLYt-v...</td>\n",
       "      <td>Book of Common Prayer 1979: Large Print edition</td>\n",
       "      <td>NaN</td>\n",
       "      <td>9</td>\n",
       "      <td>Christian Books &amp; Bibles</td>\n",
       "    </tr>\n",
       "    <tr>\n",
       "      <th>8</th>\n",
       "      <td>545700272</td>\n",
       "      <td>0545700272.jpg</td>\n",
       "      <td>http://ecx.images-amazon.com/images/I/51KyLXcz...</td>\n",
       "      <td>A Handful of Stars</td>\n",
       "      <td>Cynthia Lord</td>\n",
       "      <td>4</td>\n",
       "      <td>Children's Books</td>\n",
       "    </tr>\n",
       "    <tr>\n",
       "      <th>9</th>\n",
       "      <td>1616494441</td>\n",
       "      <td>1616494441.jpg</td>\n",
       "      <td>http://ecx.images-amazon.com/images/I/51Jku59B...</td>\n",
       "      <td>Almost Anorexic: Is My (or My Loved One's) Rel...</td>\n",
       "      <td>Ph.D. Jennifer J Thomas</td>\n",
       "      <td>25</td>\n",
       "      <td>Self-Help</td>\n",
       "    </tr>\n",
       "  </tbody>\n",
       "</table>\n",
       "</div>"
      ],
      "text/plain": [
       "           id           image  \\\n",
       "0  1438005687  1438005687.jpg   \n",
       "1    60750715  0060750715.jpg   \n",
       "2  1580237959  1580237959.jpg   \n",
       "3   135137829  0135137829.jpg   \n",
       "4   312556411  0312556411.jpg   \n",
       "5   393339157  0393339157.jpg   \n",
       "6   521456924  0521456924.jpg   \n",
       "7   898699223  0898699223.jpg   \n",
       "8   545700272  0545700272.jpg   \n",
       "9  1616494441  1616494441.jpg   \n",
       "\n",
       "                                                link  \\\n",
       "0  http://ecx.images-amazon.com/images/I/510l0qhi...   \n",
       "1  http://ecx.images-amazon.com/images/I/51p5aUY%...   \n",
       "2  http://ecx.images-amazon.com/images/I/51pum0eW...   \n",
       "3  http://ecx.images-amazon.com/images/I/51PuTPPC...   \n",
       "4  http://ecx.images-amazon.com/images/I/51uNnIlI...   \n",
       "5  http://ecx.images-amazon.com/images/I/51VIlqRy...   \n",
       "6  http://ecx.images-amazon.com/images/I/41n7iZq-...   \n",
       "7  http://ecx.images-amazon.com/images/I/41xLYt-v...   \n",
       "8  http://ecx.images-amazon.com/images/I/51KyLXcz...   \n",
       "9  http://ecx.images-amazon.com/images/I/51Jku59B...   \n",
       "\n",
       "                                                name  \\\n",
       "0                         Barron's GRE, 21st Edition   \n",
       "1  George Balanchine: The Ballet Maker (Eminent L...   \n",
       "2  A Partner in Holiness: Deepening Mindfulness, ...   \n",
       "3  Construction Scheduling: Principles and Practi...   \n",
       "4  Literature and Its Writers: A Compact Introduc...   \n",
       "5  Straight on Till Morning: The Life of Beryl Ma...   \n",
       "6  Diagrammatica: The Path to Feynman Diagrams (C...   \n",
       "7    Book of Common Prayer 1979: Large Print edition   \n",
       "8                                 A Handful of Stars   \n",
       "9  Almost Anorexic: Is My (or My Loved One's) Rel...   \n",
       "\n",
       "                          author  class                         genre  \n",
       "0       Sharon Weiner Green M.A.     28              Test Preparation  \n",
       "1                Robert Gottlieb      1         Biographies & Memoirs  \n",
       "2  Rabbi Jonathan P. Slater DMin     21       Religion & Spirituality  \n",
       "3                  Jay S. Newitt      0            Arts & Photography  \n",
       "4                   Ann Charters     15          Literature & Fiction  \n",
       "5                 Mary S. Lovell     10  Engineering & Transportation  \n",
       "6               Martinus Veltman     23                Science & Math  \n",
       "7                            NaN      9      Christian Books & Bibles  \n",
       "8                   Cynthia Lord      4              Children's Books  \n",
       "9        Ph.D. Jennifer J Thomas     25                     Self-Help  "
      ]
     },
     "execution_count": 43,
     "metadata": {},
     "output_type": "execute_result"
    }
   ],
   "source": [
    "df_test.head(10)"
   ]
  },
  {
   "cell_type": "code",
   "execution_count": 45,
   "metadata": {},
   "outputs": [],
   "source": [
    "from sklearn.metrics import confusion_matrix"
   ]
  },
  {
   "cell_type": "code",
   "execution_count": 46,
   "metadata": {},
   "outputs": [
    {
     "name": "stdout",
     "output_type": "stream",
     "text": [
      "[[ 23   3   0  17   4   2  17   5   2  15   9   0  16   3   6   7   2   9\n",
      "    4   4   4   2  12   4   5   3   2   4   0   5]\n",
      " [  4  37   3   1   2   4   3   1   0   4   4   0  30   5   4  11   2  10\n",
      "   10   2   0   7  14   1   3   8   7   8   0   5]\n",
      " [  5   5  11   4   1   6   0  15   0   7  10   0   8   7  12   3   6  11\n",
      "    5   6   6   4   2   5   1  21   4   6  12   7]\n",
      " [  2   3   0  76  19   5  13   0   6   9   2   0   3   6   1   2   1   4\n",
      "    1   0   1   3   7   4   3   6   4   3   1   5]\n",
      " [  3   0   1  15  71   0  20   0   0  12   7   0   4   4   1   3   0   2\n",
      "   10   1   1   5   6   1   8   0   4   6   0   5]\n",
      " [  2   0   0   8  17   1 117   1   0   4   3   0   4   3   0   2   0   1\n",
      "    2   0   0   3   4   1  11   1   1   2   0   2]\n",
      " [  4   0   2   4   3   1   1  60   0   3   8   0   3   5   7   1  11   2\n",
      "    6   3   8   2   2  17   1   6   1   4  21   4]\n",
      " [  0   4   0  10  12   2   2   1  84  22   2   1   2   6   1   1   1   4\n",
      "   12   1   3   2   1   0   1   5   1   0   3   6]\n",
      " [ 12   1   0  13  11   2   1   9   7  55   8   0   6   1   0   6   4   2\n",
      "    7   2   4   5   4  10   3   1   2   3   4   7]\n",
      " [  3   4   2   3   7  25   3   3   0   4   6   0  23   2   6   7   1  10\n",
      "    8   2   2  16   9  10   5  15   1   5   4   4]\n",
      " [  7   5   4  11   4   3   0  10   0   3  60   0   6   2  14   0   7   8\n",
      "    1   4   4   3   4   5   3   4   2   3   4   9]\n",
      " [  6   6   5   3   6   3   1   4  10   7   2   7   3   1   7   4   9   9\n",
      "   14   3   6   9   9   8   1  23   1   4  12   7]\n",
      " [  0  10   1   5   2   7   4   1   0   4   7   0  53   4   5   6   0  14\n",
      "    6   6   1   8   4   4   7   7   4   2   1  16]\n",
      " [  7   5   2   6  14   3  14   4   3   7   9   2  16  12   3   2   1  17\n",
      "    6   4   7   5   4   4   7   8   2   6   5   5]\n",
      " [  7   7   3   1   0   5   1   8   2   1   6   0  19   1  50   2   4  10\n",
      "    5   3   4  10   6   7   0  10   0   3   8   7]\n",
      " [  3   9   0   1  13   8   5   5   2   4   3   0  18   3   4  22   2  23\n",
      "    4   5   1  10  14   3   7   8   4   6   1   2]\n",
      " [  3   1   2   5   5   5   0  14   2   6   5   0   8   1  23   4  21   5\n",
      "    9   4   4   4   4   8   1  11   2   4  17  11]\n",
      " [  1   7   2   1   7   3   5   1   3   0   2   0  11   2   1   6   1  65\n",
      "    3   2   3   3  30   2  11  12   0   3   1   1]\n",
      " [  1   3   5   3   9   4   3   3   4  11   3   1   7   3   5   5   1   5\n",
      "   52   4   3   3   6   2   0  23   4   5   7   4]\n",
      " [  8   7   3   5   4  10   6  10   0   4   4   0  12   1  19   8   4  13\n",
      "    8  11   3   9   5  10   2  11   1   1   2   8]\n",
      " [  4   3   3   5  11   4   6   4   0  11   6   0  14   5   4   1   3   5\n",
      "   12   6  19   5   0   5   1  15   1   3  19  15]\n",
      " [  2   3   0   5   4  13   1   5   0   3   1   0  17   2  12   7   0  10\n",
      "    6   8   5  32   8   8   7  19   2   0   2   8]\n",
      " [  1   5   0   4   2   2   4   1   1   3   1   0   1   1   0   1   1  20\n",
      "    2   0   0   2 118   0   7   4   3   3   0   3]\n",
      " [  4   2   2  11   5   8   2  17   1   5   8   2  16   1  14   3  10   4\n",
      "    1   6   3   8   2  27   7   2   4   1   6   8]\n",
      " [  4   6   0   3   8   2  17   1   1   2   1   1   6   4   1   6   2  23\n",
      "    2   1   1   4  14   0  66   2   2   7   0   3]\n",
      " [  0   8   2   5   2  11   1   9   1   1   1   2   3   3   4   4   6   7\n",
      "   20   6   4   8   7   8   4  51   0   2   7   3]\n",
      " [  2  10   1   4   7   1   4   5   1   7  11   0   9   7   1   4   1   9\n",
      "    6   1   3   3   9   7   3   4  41   8   3  18]\n",
      " [  4  14   3  10  15   2   7   1   2   7   1   2  11   2   1   2   3   7\n",
      "    8   2   3   5  21   4  14   7  10  15   0   7]\n",
      " [  3   0   2   3   2   1   0  12   1   1  10   0   3   0   9   2   9   0\n",
      "    7   2   2   0   0   2   0   3   0   1 112   3]\n",
      " [ 10   1   2   3  11   2   1   3   1   7   4   1  14   1   9   8   3   4\n",
      "    3   1   5   9   2  10   2   7   4   4   3  55]]\n"
     ]
    }
   ],
   "source": [
    "y_prediction = predict\n",
    "y_prediction = np.argmax (y_prediction, axis = 1)\n",
    "#Create confusion matrix and normalizes it over predicted (columns)\n",
    "result = confusion_matrix(y_test, y_prediction)\n",
    "print(result)"
   ]
  },
  {
   "cell_type": "code",
   "execution_count": 48,
   "metadata": {},
   "outputs": [
    {
     "data": {
      "text/plain": [
       "<AxesSubplot: >"
      ]
     },
     "execution_count": 48,
     "metadata": {},
     "output_type": "execute_result"
    },
    {
     "data": {
      "image/png": "[encoded data removed]",
      "text/plain": [
       "<Figure size 1500x1000 with 2 Axes>"
      ]
     },
     "metadata": {},
     "output_type": "display_data"
    }
   ],
   "source": [
    "plt.figure(figsize=(15,10))\n",
    "sns.heatmap(result,annot=True,fmt='g')"
   ]
  },
  {
   "cell_type": "code",
   "execution_count": 49,
   "metadata": {},
   "outputs": [],
   "source": [
    "def predict_top_k(index,k):\n",
    "    p = (predict[index])\n",
    "    ind =(-p).argsort()[:k]\n",
    "    for i in ind:\n",
    "        print(categories[i])"
   ]
  },
  {
   "cell_type": "code",
   "execution_count": 50,
   "metadata": {},
   "outputs": [
    {
     "name": "stdout",
     "output_type": "stream",
     "text": [
      "History\n",
      "Test Preparation\n",
      "Calendars\n"
     ]
    }
   ],
   "source": [
    "predict_top_k(1,3)"
   ]
  },
  {
   "cell_type": "code",
   "execution_count": 51,
   "metadata": {},
   "outputs": [
    {
     "data": {
      "text/html": [
       "<div>\n",
       "<style scoped>\n",
       "    .dataframe tbody tr th:only-of-type {\n",
       "        vertical-align: middle;\n",
       "    }\n",
       "\n",
       "    .dataframe tbody tr th {\n",
       "        vertical-align: top;\n",
       "    }\n",
       "\n",
       "    .dataframe thead th {\n",
       "        text-align: right;\n",
       "    }\n",
       "</style>\n",
       "<table border=\"1\" class=\"dataframe\">\n",
       "  <thead>\n",
       "    <tr style=\"text-align: right;\">\n",
       "      <th></th>\n",
       "      <th>id</th>\n",
       "      <th>image</th>\n",
       "      <th>link</th>\n",
       "      <th>name</th>\n",
       "      <th>author</th>\n",
       "      <th>class</th>\n",
       "      <th>genre</th>\n",
       "    </tr>\n",
       "  </thead>\n",
       "  <tbody>\n",
       "    <tr>\n",
       "      <th>0</th>\n",
       "      <td>1438005687</td>\n",
       "      <td>1438005687.jpg</td>\n",
       "      <td>http://ecx.images-amazon.com/images/I/510l0qhi...</td>\n",
       "      <td>Barron's GRE, 21st Edition</td>\n",
       "      <td>Sharon Weiner Green M.A.</td>\n",
       "      <td>28</td>\n",
       "      <td>Test Preparation</td>\n",
       "    </tr>\n",
       "    <tr>\n",
       "      <th>1</th>\n",
       "      <td>60750715</td>\n",
       "      <td>0060750715.jpg</td>\n",
       "      <td>http://ecx.images-amazon.com/images/I/51p5aUY%...</td>\n",
       "      <td>George Balanchine: The Ballet Maker (Eminent L...</td>\n",
       "      <td>Robert Gottlieb</td>\n",
       "      <td>1</td>\n",
       "      <td>Biographies &amp; Memoirs</td>\n",
       "    </tr>\n",
       "    <tr>\n",
       "      <th>2</th>\n",
       "      <td>1580237959</td>\n",
       "      <td>1580237959.jpg</td>\n",
       "      <td>http://ecx.images-amazon.com/images/I/51pum0eW...</td>\n",
       "      <td>A Partner in Holiness: Deepening Mindfulness, ...</td>\n",
       "      <td>Rabbi Jonathan P. Slater DMin</td>\n",
       "      <td>21</td>\n",
       "      <td>Religion &amp; Spirituality</td>\n",
       "    </tr>\n",
       "    <tr>\n",
       "      <th>3</th>\n",
       "      <td>135137829</td>\n",
       "      <td>0135137829.jpg</td>\n",
       "      <td>http://ecx.images-amazon.com/images/I/51PuTPPC...</td>\n",
       "      <td>Construction Scheduling: Principles and Practi...</td>\n",
       "      <td>Jay S. Newitt</td>\n",
       "      <td>0</td>\n",
       "      <td>Arts &amp; Photography</td>\n",
       "    </tr>\n",
       "    <tr>\n",
       "      <th>4</th>\n",
       "      <td>312556411</td>\n",
       "      <td>0312556411.jpg</td>\n",
       "      <td>http://ecx.images-amazon.com/images/I/51uNnIlI...</td>\n",
       "      <td>Literature and Its Writers: A Compact Introduc...</td>\n",
       "      <td>Ann Charters</td>\n",
       "      <td>15</td>\n",
       "      <td>Literature &amp; Fiction</td>\n",
       "    </tr>\n",
       "  </tbody>\n",
       "</table>\n",
       "</div>"
      ],
      "text/plain": [
       "           id           image  \\\n",
       "0  1438005687  1438005687.jpg   \n",
       "1    60750715  0060750715.jpg   \n",
       "2  1580237959  1580237959.jpg   \n",
       "3   135137829  0135137829.jpg   \n",
       "4   312556411  0312556411.jpg   \n",
       "\n",
       "                                                link  \\\n",
       "0  http://ecx.images-amazon.com/images/I/510l0qhi...   \n",
       "1  http://ecx.images-amazon.com/images/I/51p5aUY%...   \n",
       "2  http://ecx.images-amazon.com/images/I/51pum0eW...   \n",
       "3  http://ecx.images-amazon.com/images/I/51PuTPPC...   \n",
       "4  http://ecx.images-amazon.com/images/I/51uNnIlI...   \n",
       "\n",
       "                                                name  \\\n",
       "0                         Barron's GRE, 21st Edition   \n",
       "1  George Balanchine: The Ballet Maker (Eminent L...   \n",
       "2  A Partner in Holiness: Deepening Mindfulness, ...   \n",
       "3  Construction Scheduling: Principles and Practi...   \n",
       "4  Literature and Its Writers: A Compact Introduc...   \n",
       "\n",
       "                          author  class                    genre  \n",
       "0       Sharon Weiner Green M.A.     28         Test Preparation  \n",
       "1                Robert Gottlieb      1    Biographies & Memoirs  \n",
       "2  Rabbi Jonathan P. Slater DMin     21  Religion & Spirituality  \n",
       "3                  Jay S. Newitt      0       Arts & Photography  \n",
       "4                   Ann Charters     15     Literature & Fiction  "
      ]
     },
     "execution_count": 51,
     "metadata": {},
     "output_type": "execute_result"
    }
   ],
   "source": [
    "df_test.head(5)"
   ]
  },
  {
   "cell_type": "code",
   "execution_count": 52,
   "metadata": {},
   "outputs": [],
   "source": [
    "from sklearn.metrics import top_k_accuracy_score"
   ]
  },
  {
   "cell_type": "code",
   "execution_count": 53,
   "metadata": {},
   "outputs": [
    {
     "name": "stdout",
     "output_type": "stream",
     "text": [
      "0.37074113101510364\n",
      "0.48261327713382507\n",
      "0.5616438356164384\n",
      "0.672813487881981\n"
     ]
    }
   ],
   "source": [
    "print(top_k_accuracy_score(y_test, predict, k=3, normalize=True))\n",
    "print(top_k_accuracy_score(y_test, predict, k=5, normalize=True))\n",
    "print(top_k_accuracy_score(y_test, predict, k=7, normalize=True))\n",
    "print(top_k_accuracy_score(y_test, predict, k=10, normalize=True))"
   ]
  },
  {
   "cell_type": "code",
   "execution_count": null,
   "metadata": {},
   "outputs": [],
   "source": []
  },
  {
   "cell_type": "code",
   "execution_count": null,
   "metadata": {},
   "outputs": [],
   "source": []
  }
 ],
 "metadata": {
  "kernelspec": {
   "display_name": "Python 3.9.13 ('bootcamp_core')",
   "language": "python",
   "name": "python3"
  },
  "language_info": {
   "codemirror_mode": {
    "name": "ipython",
    "version": 3
   },
   "file_extension": ".py",
   "mimetype": "text/x-python",
   "name": "python",
   "nbconvert_exporter": "python",
   "pygments_lexer": "ipython3",
   "version": "3.9.13 (main, Aug 25 2022, 23:51:50) [MSC v.1916 64 bit (AMD64)]"
  },
  "orig_nbformat": 4,
  "vscode": {
   "interpreter": {
    "hash": "ee25a2d1a1f270354bc61de82ab2095fe8502aab0e92b4ab7eba41260aafaf03"
   }
  }
 },
 "nbformat": 4,
 "nbformat_minor": 2
}
